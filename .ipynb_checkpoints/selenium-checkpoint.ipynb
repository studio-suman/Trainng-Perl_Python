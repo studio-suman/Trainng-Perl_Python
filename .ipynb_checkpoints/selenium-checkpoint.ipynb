{
 "cells": [
  {
   "cell_type": "code",
   "execution_count": 13,
   "metadata": {},
   "outputs": [],
   "source": [
    "from selenium import webdriver\n",
    "from selenium.webdriver.chrome.options import Options\n",
    "import time\n",
    "\n",
    "\n",
    "def enable_download_headless(browser,download_dir):\n",
    "    browser.command_executor._commands[\"send_command\"] = (\"POST\", '/session/$sessionId/chromium/send_command')\n",
    "    params = {'cmd':'Page.setDownloadBehavior', 'params': {'behavior': 'allow', 'downloadPath': download_dir}}\n",
    "    browser.execute(\"send_command\", params)\n",
    "\n",
    "options = Options()\n",
    "options.headless = True\n",
    "options.add_argument(\"--window-size=1920,1200\")\n",
    "\n",
    "x = 0\n",
    "\n",
    "#while x < 5:\n",
    "\n",
    "browser = webdriver.Chrome('\\\\Users\\\\hsass\\\\Desktop\\\\Trainng-Perl_Python\\\\chromedriver.exe')\n",
    "#driver = webdriver.Chrome(options=options, executable_path=DRIVER_PATH)\n",
    "browser.get('https://analytics.wipro.com/login.aspx')\n",
    "#browser.get('https://mywipro.wipro.com/')\n",
    "\n",
    "\n",
    "\n",
    "def Action():\n",
    "   element = browser.find_element_by_css_selector(\"a.weighing sprite\")\n",
    "   element.click()\n",
    "\n",
    "time.sleep(100)\n",
    "\n",
    "#browser.execute_script(\"window.open('https://kdp.amazon.com/en_US/', 'new window')\")\n",
    "\n",
    "if (browser.current_url == 'https://analytics.wipro.com/reports.aspx'):\n",
    "    #Sign1()\n",
    "    Action()\n",
    "    x += 1"
   ]
  },
  {
   "cell_type": "code",
   "execution_count": null,
   "metadata": {},
   "outputs": [],
   "source": []
  }
 ],
 "metadata": {
  "kernelspec": {
   "display_name": "Python 3",
   "language": "python",
   "name": "python3"
  },
  "language_info": {
   "codemirror_mode": {
    "name": "ipython",
    "version": 3
   },
   "file_extension": ".py",
   "mimetype": "text/x-python",
   "name": "python",
   "nbconvert_exporter": "python",
   "pygments_lexer": "ipython3",
   "version": "3.7.3"
  }
 },
 "nbformat": 4,
 "nbformat_minor": 2
}
