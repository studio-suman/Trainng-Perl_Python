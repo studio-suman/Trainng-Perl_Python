{
 "cells": [
  {
   "cell_type": "markdown",
   "metadata": {},
   "source": [
    "# AIR Pull Up"
   ]
  },
  {
   "cell_type": "code",
   "execution_count": 3,
   "metadata": {},
   "outputs": [],
   "source": [
    "import pandas as pd\n",
    "import time\n",
    "import math\n",
    "import numpy as np\n",
    "import string as str\n",
    "import openpyxl\n",
    "#import sqlite3\n",
    "#from sqlalchemy import create_engine\n",
    "#from importlib import reload\n",
    "from datetime import datetime\n",
    "import sys\n",
    "\n",
    "infile =   r\"C:\\Users\\HSASS\\OneDrive - Wipro\\Desktop\\AIR\\AIR_CREATION_20_21_Q4.CSV\"\n",
    "outfile =  r\"C:\\Users\\HSASS\\OneDrive - Wipro\\Desktop\\AIR\\AIR_A2_today.csv\"\n",
    "map_file = r\"C:\\Users\\HSASS\\OneDrive - Wipro\\Desktop\\AIR\\Ops_Template_v1.xlsx\"\n",
    "odata = pd.read_csv(infile, engine='python',sep=',', quotechar='\"', error_bad_lines=False) #Fetching Data\n",
    "\n",
    "    #odata = pd.read_csv(infile,usecols=[\"DEMAND_ID\",\"PROJECT_NAME\",\"ESSENTIAL_SKILL\",\"PRACTICE_GRP_TXT\",\"RM_EMP_NAME\",\"MODEL_TYPE\"], engine='python' ,sep=',', quotechar='\"', error_bad_lines=False)[[\"DEMAND_ID\",\"PROJECT_NAME\",\"ESSENTIAL_SKILL\",\"PRACTICE_GRP_TXT\",\"RM_EMP_NAME\",\"MODEL_TYPE\"]]\n",
    "table = odata.query('SMU == [\"AMR2\",\"IDA2\"]')\n",
    "#table = odata.query('SMU == [\"AMR2\",\"IDA2\"]' and 'SECTOR == [\"CAPITAL MARKETS\"]')\n",
    "    # ---- Using Sql Query -- to build the db\n",
    "    # engine=create_engine('sqlite://', echo=False)\n",
    "    # odata.to_sql('oir',engine, if_exists='replace', index=False)\n",
    "    # results = engine.execute(\"Select * from oir where PROJ_SAP_BU = 'BFSI'\")\n",
    "    # final=pd.DataFrame(results, columns=odata.columns)\n",
    "    # ---- pd table is ready and merged into final table\n",
    "    \n",
    "#mdata = pd.read_excel(map_file, sheet_name='Sheet1')\n",
    "#final = table.merge(mdata, on = \"CUSTOMER_NO\", how='left') # adding data to same dataframe after merge\n",
    "#odata = final.query('Sector != [\"\"]')\n",
    "#odata = final[final['Sector'].notnull()]\n",
    "#final['INDENT_CREATED_ON'] = pd.to_datetime(final['INDENT_CREATED_ON'])\n",
    "#mask = final['INDENT_CREATED_ON'].dt.month >= 10 # Month Filter Flag\n",
    "table.to_csv(outfile,index=False)"
   ]
  },
  {
   "cell_type": "code",
   "execution_count": null,
   "metadata": {},
   "outputs": [],
   "source": []
  }
 ],
 "metadata": {
  "kernelspec": {
   "display_name": "Python 3",
   "language": "python",
   "name": "python3"
  },
  "language_info": {
   "codemirror_mode": {
    "name": "ipython",
    "version": 3
   },
   "file_extension": ".py",
   "mimetype": "text/x-python",
   "name": "python",
   "nbconvert_exporter": "python",
   "pygments_lexer": "ipython3",
   "version": "3.7.3"
  }
 },
 "nbformat": 4,
 "nbformat_minor": 2
}
