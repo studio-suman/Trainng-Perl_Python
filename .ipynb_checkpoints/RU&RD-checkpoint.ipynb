{
 "cells": [
  {
   "cell_type": "code",
   "execution_count": 4,
   "metadata": {},
   "outputs": [],
   "source": [
    "import pandas as pd\n",
    "import math\n",
    "import numpy as np\n",
    "import string as str\n",
    "import openpyxl\n",
    "#import sqlite3\n",
    "#from sqlalchemy import create_engine\n",
    "#from importlib import reload\n",
    "\n",
    "\n",
    "infile1 =   r\"C:\\Users\\HSASS\\OneDrive - Wipro\\Desktop\\13WEEKS_RU.csv\"\n",
    "infile2 =   r\"C:\\Users\\HSASS\\OneDrive - Wipro\\Desktop\\13WEEKS_RD.csv\"\n",
    "outfile1 =  r\"C:\\Users\\HSASS\\OneDrive - Wipro\\Desktop\\13WEEKS_RU1.csv\"\n",
    "outfile2 =  r\"C:\\Users\\HSASS\\OneDrive - Wipro\\Desktop\\13WEEKS_RD1.csv\"\n",
    "map_file = r\"C:\\Users\\HSASS\\OneDrive - Wipro\\Desktop\\Customer Am2 Mapping.xlsx\"\n",
    "table1 = pd.read_csv(infile1, engine='python',sep=',', quotechar='\"', error_bad_lines=False)\n",
    "#table2 = pd.read_csv(infile2, engine='python',sep=',', quotechar='\"', error_bad_lines=False)\n",
    "\t#odata = pd.read_csv(infile,usecols=[\"DEMAND_ID\",\"PROJECT_NAME\",\"ESSENTIAL_SKILL\",\"PRACTICE_GRP_TXT\",\"RM_EMP_NAME\",\"MODEL_TYPE\"], engine='python' ,sep=',', quotechar='\"', error_bad_lines=False)[[\"DEMAND_ID\",\"PROJECT_NAME\",\"ESSENTIAL_SKILL\",\"PRACTICE_GRP_TXT\",\"RM_EMP_NAME\",\"MODEL_TYPE\"]]"
   ]
  },
  {
   "cell_type": "code",
   "execution_count": null,
   "metadata": {},
   "outputs": [],
   "source": [
    "mdata = pd.read_excel(map_file, sheet_name='CU_Code')\n",
    "final1 = table1.merge(mdata, on = \"CUSTOMER_ID\", how='left') # adding data to same dataframe after merge\n",
    "#final2 = table2.merge(mdata, on = \"CUSTOMER_ID\", how='left') # adding data to same dataframe after merge\n",
    "#odata = final.query('Sector != [\"\"]')"
   ]
  },
  {
   "cell_type": "code",
   "execution_count": null,
   "metadata": {},
   "outputs": [],
   "source": [
    "odata1 = final1[final1['Sector'].notnull()]\n",
    "#odata2 = final2[final2['Sector'].notnull()]\n",
    "#final['INDENT_CREATED_ON'] = pd.to_datetime(final['INDENT_CREATED_ON'])\n",
    "#mask = final['INDENT_CREATED_ON'].dt.month >= 10 # Month Filter Flag"
   ]
  },
  {
   "cell_type": "code",
   "execution_count": null,
   "metadata": {},
   "outputs": [],
   "source": [
    "odata1.to_csv(outfile1,index=False)\n",
    "#odata2.to_csv(outfile2,index=False)"
   ]
  }
 ],
 "metadata": {
  "kernelspec": {
   "display_name": "Python 3",
   "language": "python",
   "name": "python3"
  },
  "language_info": {
   "codemirror_mode": {
    "name": "ipython",
    "version": 3
   },
   "file_extension": ".py",
   "mimetype": "text/x-python",
   "name": "python",
   "nbconvert_exporter": "python",
   "pygments_lexer": "ipython3",
   "version": "3.7.3"
  }
 },
 "nbformat": 4,
 "nbformat_minor": 2
}
