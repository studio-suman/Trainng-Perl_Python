{
 "cells": [
  {
   "cell_type": "code",
   "execution_count": null,
   "metadata": {},
   "outputs": [],
   "source": [
    "import pandas as pd\n",
    "import time\n",
    "import math\n",
    "import numpy as np\n",
    "import string as str\n",
    "import openpyxl\n",
    "#import sqlite3\n",
    "#from sqlalchemy import create_engine\n",
    "#from importlib import reload\n",
    "from datetime import datetime\n",
    "import sys\n",
    "\n",
    "infile =   r\"C:\\Users\\HSASS\\OneDrive - Wipro\\Suman\\ETR\\Mapping\\completeFile_part_0.csv\"\n",
    "infile2 =   r\"C:\\Users\\HSASS\\OneDrive - Wipro\\Suman\\ETR\\Mapping\\completeFile_part_2.csv\"\n",
    "outfile =  r\"C:\\Users\\HSASS\\OneDrive - Wipro\\Suman\\ETR\\Mapping\\completeFile_A2.csv\"\n",
    "map_file = r\"C:\\Users\\HSASS\\OneDrive - Wipro\\Desktop\\AIR\\Ops_Template_v1.xlsx\"\n",
    "table = pd.read_csv(infile, engine='python',sep=',', quotechar='\"', error_bad_lines=False)\n",
    "table2 = pd.read_csv(infile2, engine='python',sep=',', quotechar='\"', error_bad_lines=False)"
   ]
  },
  {
   "cell_type": "code",
   "execution_count": 4,
   "metadata": {},
   "outputs": [],
   "source": [
    "vertical_stack = pd.concat([table, table2], axis=0)"
   ]
  },
  {
   "cell_type": "code",
   "execution_count": 5,
   "metadata": {},
   "outputs": [],
   "source": [
    "\n",
    "#mdata = pd.read_excel(map_file, sheet_name='Sheet1')\n",
    "#final = table.merge(mdata, on = \"CUSTOMER_NO\", how='left') # adding data to same dataframe after merge\n",
    "#odata = final.query('Sector != [\"\"]')\n",
    "#odata = final[final['Sector'].notnull()]\n",
    "#final['INDENT_CREATED_ON'] = pd.to_datetime(final['INDENT_CREATED_ON'])\n",
    "#mask = final['INDENT_CREATED_ON'].dt.month >= 10 # Month Filter Flag\n",
    "vertical_stack.to_csv(outfile,index=False)"
   ]
  }
 ],
 "metadata": {
  "kernelspec": {
   "display_name": "Python 3",
   "language": "python",
   "name": "python3"
  },
  "language_info": {
   "codemirror_mode": {
    "name": "ipython",
    "version": 3
   },
   "file_extension": ".py",
   "mimetype": "text/x-python",
   "name": "python",
   "nbconvert_exporter": "python",
   "pygments_lexer": "ipython3",
   "version": "3.7.3"
  }
 },
 "nbformat": 4,
 "nbformat_minor": 2
}
