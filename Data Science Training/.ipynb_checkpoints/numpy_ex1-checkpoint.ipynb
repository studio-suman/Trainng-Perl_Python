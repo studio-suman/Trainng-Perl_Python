{
 "cells": [
  {
   "cell_type": "code",
   "execution_count": 33,
   "metadata": {},
   "outputs": [
    {
     "name": "stdout",
     "output_type": "stream",
     "text": [
      "[0 1 2 3]\n",
      "a =  [0 1 2 3]\n",
      "b =  [20 21 22 23 24 25 26 27 28 29]\n",
      "c =  [20 22 24 26 28 30 32 34 36 38]\n",
      "d =  [20. 22. 24. 26. 28.]\n",
      "e =  [1.  1.1 1.2 1.3 1.4 1.5 1.6 1.7 1.8 1.9 2. ]\n"
     ]
    }
   ],
   "source": [
    "import numpy as np\n",
    "from numpy import random\n",
    "\n",
    "a = np.arange(4)\n",
    "print(a)\n",
    "\n",
    "print('a = ', a)\n",
    "b = np.arange(20,30)\n",
    "print('b = ', b)\n",
    "c = np.arange(20,40,2)\n",
    "print('c = ', c)\n",
    "d = np.arange(20,30,2,float)\n",
    "print('d = ', d)\n",
    "e = np.arange(1,2.1,.1)\n",
    "print('e = ', e)"
   ]
  },
  {
   "cell_type": "code",
   "execution_count": 34,
   "metadata": {},
   "outputs": [
    {
     "name": "stdout",
     "output_type": "stream",
     "text": [
      "[0 1 2 3]\n",
      "[ 0  1  2  3  1  7 12]\n"
     ]
    }
   ],
   "source": [
    "x = np.arange(4)\n",
    "print (x)\n",
    "x =np.append(x, 1)\n",
    "x = np.append(x, 7)\n",
    "x = np.append(x, 12)\n",
    "print(x)"
   ]
  },
  {
   "cell_type": "code",
   "execution_count": 35,
   "metadata": {},
   "outputs": [
    {
     "name": "stdout",
     "output_type": "stream",
     "text": [
      "[10 15 20 25]\n",
      "<class 'numpy.ndarray'>\n"
     ]
    }
   ],
   "source": [
    "z = np.array([10,15,20,25])\n",
    "print(z)\n",
    "print(type(z))"
   ]
  },
  {
   "cell_type": "code",
   "execution_count": 36,
   "metadata": {},
   "outputs": [
    {
     "name": "stdout",
     "output_type": "stream",
     "text": [
      "sum(alist)   : 0.002807 sec\n",
      "npa.sum()   : 0.000354 sec\n",
      "np.sum(npa) : 0.000246 sec\n",
      "4999950000 704982704 704982704\n"
     ]
    }
   ],
   "source": [
    "import time\n",
    "from time import perf_counter\n",
    "size=100000\n",
    "alist = list(range(size))\n",
    "t = time.perf_counter()\n",
    "asum = sum(alist)\n",
    "print(\"sum(alist)   : %f sec\" % (time.perf_counter() - t))\n",
    "x = np.array(alist) \n",
    "t = time.perf_counter()\n",
    "xsum1 = x.sum()\n",
    "print(\"npa.sum()   : %f sec\" % (time.perf_counter() - t))\n",
    "t = time.perf_counter()\n",
    "xsum2 = np.sum(x)\n",
    "print(\"np.sum(npa) : %f sec\" % (time.perf_counter() - t))\n",
    "print(asum, xsum1, xsum2)\n"
   ]
  },
  {
   "cell_type": "code",
   "execution_count": 37,
   "metadata": {},
   "outputs": [
    {
     "name": "stdout",
     "output_type": "stream",
     "text": [
      "add lists     : 0.001016 sec\n",
      "add np arrays : 0.000134 sec\n"
     ]
    }
   ],
   "source": [
    "from time import perf_counter \n",
    "a = list(range(10000))\n",
    "b = list(range(10000))\n",
    "t1 = perf_counter()\n",
    "c = [e1 + e2 for e1, e2 in zip(a,b)] \n",
    "t2 = perf_counter()\n",
    "print(\"add lists     : %f sec\" % (t2-t1))\n",
    "\n",
    "x = np.array(a)  \n",
    "y = np.array(b)\n",
    "t1 = perf_counter()\n",
    "z = x + y\n",
    "t2 = perf_counter()\n",
    "print(\"add np arrays : %f sec\" % (t2-t1))"
   ]
  },
  {
   "cell_type": "code",
   "execution_count": 38,
   "metadata": {},
   "outputs": [
    {
     "name": "stdout",
     "output_type": "stream",
     "text": [
      "[17 26 40 47 62]\n"
     ]
    }
   ],
   "source": [
    "x = np.array([12,21,35,42,57])\n",
    "x = x + 5\n",
    "print(x)"
   ]
  },
  {
   "cell_type": "code",
   "execution_count": 39,
   "metadata": {},
   "outputs": [
    {
     "name": "stdout",
     "output_type": "stream",
     "text": [
      "[1 3 5 7]\n",
      "[2 4 6 8]\n",
      "[ 3  7 11 15]\n",
      "[-1 -1 -1 -1]\n",
      "[ 2 12 30 56]\n",
      "[0.5        0.75       0.83333333 0.875     ]\n"
     ]
    }
   ],
   "source": [
    "x = np.array([1,3,5,7])\n",
    "y = np.array([2,4,6,8])\n",
    "print(x)\n",
    "print(y)\n",
    "z = x + y\n",
    "print(z)\n",
    "z = x - y\n",
    "print(z)\n",
    "z = x * y\n",
    "print(z)\n",
    "z = x / y\n",
    "print(z)"
   ]
  },
  {
   "cell_type": "code",
   "execution_count": 40,
   "metadata": {},
   "outputs": [
    {
     "name": "stdout",
     "output_type": "stream",
     "text": [
      "False\n"
     ]
    }
   ],
   "source": [
    "a = [10, 12, 8, 15, 20]\n",
    "b = [8, 15, 20, 10, 12]\n",
    "z = np.array(a) - np.array(b)\n",
    "print(np.count_nonzero(z) == 0)"
   ]
  },
  {
   "cell_type": "code",
   "execution_count": 41,
   "metadata": {},
   "outputs": [
    {
     "name": "stdout",
     "output_type": "stream",
     "text": [
      "[33 48 38 41 17]\n",
      "[17 33 38 41 48]\n",
      "[-48 -41 -38 -33 -17]\n",
      "[-17 -33 -38 -41 -48]\n",
      "[48 41 38 33 17]\n"
     ]
    }
   ],
   "source": [
    "x = np.random.randint(10,50,5)\n",
    "print(x)\n",
    "sa = np.sort(x)\n",
    "print(sa)\n",
    "sa = np.sort(-x)\n",
    "print(sa)\n",
    "sa = -np.sort(x)\n",
    "print(sa)\n",
    "sd = -np.sort(-x)\n",
    "print(sd)"
   ]
  },
  {
   "cell_type": "code",
   "execution_count": 42,
   "metadata": {},
   "outputs": [
    {
     "name": "stdout",
     "output_type": "stream",
     "text": [
      "y =   [11 13 18 22 25 26 29]\n",
      "x =   [38 21 20 17 26 14 14 49 12 33]\n",
      "x =   [17 26 49 12 20 38 14 33 14 21]\n"
     ]
    }
   ],
   "source": [
    "x =  np.array( [ 26, 18, 13, 26, 22, 11, 11, 29, 22, 25 ] )\n",
    "y = np.unique(x)\n",
    "print('y =  ', y)\n",
    "x = np.random.randint(10,50+1,10)\n",
    "print('x =  ', x)\n",
    "np.random.shuffle(x)\n",
    "print('x =  ', x)"
   ]
  },
  {
   "cell_type": "code",
   "execution_count": 43,
   "metadata": {},
   "outputs": [
    {
     "name": "stdout",
     "output_type": "stream",
     "text": [
      "x =   [ 5  8 10 12  9 10 15  5  7 11  8]\n",
      "(array([2, 5], dtype=int64),)\n",
      "[2 5]\n",
      "(array([], dtype=int64),)\n",
      "[]\n"
     ]
    }
   ],
   "source": [
    "x = np.array([5,8,10,12,9,10,15,5,7,11,8])\n",
    "print('x =  ', x)\n",
    "idx = np.where(x==10)\n",
    "print(idx)\n",
    "print(idx[0])\n",
    "idx = np.where(x==20)\n",
    "print(idx)\n",
    "print(idx[0])"
   ]
  },
  {
   "cell_type": "code",
   "execution_count": 44,
   "metadata": {},
   "outputs": [
    {
     "name": "stdout",
     "output_type": "stream",
     "text": [
      "nan\n"
     ]
    }
   ],
   "source": [
    "s1 = pandas.Series([10, 20, 30, 40], ['p1', 'p2', 'p3', 'p4'])\n",
    "s2 = pandas.Series([50, 60, 70, 80], ['p2', 'p1', 'p4', 'p5'])\n",
    "s3 = pandas.Series.add(s1, s2)\n",
    "print(s3['p3'])  "
   ]
  },
  {
   "cell_type": "code",
   "execution_count": 45,
   "metadata": {},
   "outputs": [
    {
     "name": "stdout",
     "output_type": "stream",
     "text": [
      "12\n"
     ]
    }
   ],
   "source": [
    "x = np.array([[10,12,13,14],[0,0,0,0],[1,2,3,4]])\n",
    "print(x.size)"
   ]
  },
  {
   "cell_type": "code",
   "execution_count": 46,
   "metadata": {},
   "outputs": [
    {
     "name": "stdout",
     "output_type": "stream",
     "text": [
      "[ 8 15 10 18]\n"
     ]
    }
   ],
   "source": [
    "X = np.array([5, 12, 7, 15 ])\n",
    "print(X + [3])"
   ]
  },
  {
   "cell_type": "code",
   "execution_count": 49,
   "metadata": {},
   "outputs": [
    {
     "ename": "TypeError",
     "evalue": "'module' object is not callable",
     "output_type": "error",
     "traceback": [
      "\u001b[1;31m---------------------------------------------------------------------------\u001b[0m",
      "\u001b[1;31mTypeError\u001b[0m                                 Traceback (most recent call last)",
      "\u001b[1;32m<ipython-input-49-453428a9591b>\u001b[0m in \u001b[0;36m<module>\u001b[1;34m\u001b[0m\n\u001b[1;32m----> 1\u001b[1;33m \u001b[0mnp\u001b[0m\u001b[1;33m.\u001b[0m\u001b[0mrandom\u001b[0m\u001b[1;33m(\u001b[0m\u001b[1;36m10\u001b[0m\u001b[1;33m,\u001b[0m \u001b[1;36m8\u001b[0m\u001b[1;33m)\u001b[0m\u001b[1;33m\u001b[0m\u001b[1;33m\u001b[0m\u001b[0m\n\u001b[0m",
      "\u001b[1;31mTypeError\u001b[0m: 'module' object is not callable"
     ]
    }
   ],
   "source": [
    "np.random(10, 8)"
   ]
  },
  {
   "cell_type": "code",
   "execution_count": 50,
   "metadata": {},
   "outputs": [
    {
     "data": {
      "text/plain": [
       "array([7, 3, 3, 3, 3, 4, 5, 5, 0, 7])"
      ]
     },
     "execution_count": 50,
     "metadata": {},
     "output_type": "execute_result"
    }
   ],
   "source": [
    "numpy.random.randint(8, size=10)"
   ]
  },
  {
   "cell_type": "code",
   "execution_count": 53,
   "metadata": {},
   "outputs": [
    {
     "ename": "TypeError",
     "evalue": "'module' object is not callable",
     "output_type": "error",
     "traceback": [
      "\u001b[1;31m---------------------------------------------------------------------------\u001b[0m",
      "\u001b[1;31mTypeError\u001b[0m                                 Traceback (most recent call last)",
      "\u001b[1;32m<ipython-input-53-e555f468a342>\u001b[0m in \u001b[0;36m<module>\u001b[1;34m\u001b[0m\n\u001b[1;32m----> 1\u001b[1;33m \u001b[0mnp\u001b[0m\u001b[1;33m.\u001b[0m\u001b[0mrandom\u001b[0m\u001b[1;33m(\u001b[0m\u001b[1;36m8\u001b[0m\u001b[1;33m,\u001b[0m \u001b[0msize\u001b[0m\u001b[1;33m=\u001b[0m\u001b[1;36m10\u001b[0m\u001b[1;33m)\u001b[0m\u001b[1;33m\u001b[0m\u001b[1;33m\u001b[0m\u001b[0m\n\u001b[0m",
      "\u001b[1;31mTypeError\u001b[0m: 'module' object is not callable"
     ]
    }
   ],
   "source": [
    "np.random(8, size=10)"
   ]
  },
  {
   "cell_type": "code",
   "execution_count": 54,
   "metadata": {},
   "outputs": [
    {
     "ename": "ValueError",
     "evalue": "Range cannot be empty (low >= high) unless no samples are taken",
     "output_type": "error",
     "traceback": [
      "\u001b[1;31m---------------------------------------------------------------------------\u001b[0m",
      "\u001b[1;31mValueError\u001b[0m                                Traceback (most recent call last)",
      "\u001b[1;32m<ipython-input-54-9dc199dcb625>\u001b[0m in \u001b[0;36m<module>\u001b[1;34m\u001b[0m\n\u001b[1;32m----> 1\u001b[1;33m \u001b[0mnp\u001b[0m\u001b[1;33m.\u001b[0m\u001b[0mrandom\u001b[0m\u001b[1;33m.\u001b[0m\u001b[0mrandint\u001b[0m\u001b[1;33m(\u001b[0m\u001b[1;36m10\u001b[0m\u001b[1;33m,\u001b[0m \u001b[1;36m8\u001b[0m\u001b[1;33m)\u001b[0m\u001b[1;33m\u001b[0m\u001b[1;33m\u001b[0m\u001b[0m\n\u001b[0m",
      "\u001b[1;32mmtrand.pyx\u001b[0m in \u001b[0;36mmtrand.RandomState.randint\u001b[1;34m()\u001b[0m\n",
      "\u001b[1;31mValueError\u001b[0m: Range cannot be empty (low >= high) unless no samples are taken"
     ]
    }
   ],
   "source": [
    "np.random.randint(10, 8)"
   ]
  },
  {
   "cell_type": "code",
   "execution_count": null,
   "metadata": {},
   "outputs": [],
   "source": [
    "import matplotlib.pyplot as plt\n",
    "plt.subplot(5, 2, 3)"
   ]
  },
  {
   "cell_type": "code",
   "execution_count": null,
   "metadata": {},
   "outputs": [],
   "source": []
  }
 ],
 "metadata": {
  "kernelspec": {
   "display_name": "Python 3",
   "language": "python",
   "name": "python3"
  },
  "language_info": {
   "codemirror_mode": {
    "name": "ipython",
    "version": 3
   },
   "file_extension": ".py",
   "mimetype": "text/x-python",
   "name": "python",
   "nbconvert_exporter": "python",
   "pygments_lexer": "ipython3",
   "version": "3.7.3"
  }
 },
 "nbformat": 4,
 "nbformat_minor": 2
}
