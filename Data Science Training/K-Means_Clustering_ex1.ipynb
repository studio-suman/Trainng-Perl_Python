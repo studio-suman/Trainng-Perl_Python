{
 "cells": [
  {
   "cell_type": "markdown",
   "metadata": {},
   "source": [
    "# K-means clustering"
   ]
  },
  {
   "cell_type": "code",
   "execution_count": 1,
   "metadata": {},
   "outputs": [],
   "source": [
    "import numpy as np\n",
    "import pandas as pd\n",
    "import matplotlib.pyplot as plt\n",
    "import seaborn as sns\n",
    "from sklearn.cluster import KMeans\n",
    "from sklearn.metrics import silhouette_score"
   ]
  },
  {
   "cell_type": "code",
   "execution_count": 2,
   "metadata": {},
   "outputs": [
    {
     "name": "stdout",
     "output_type": "stream",
     "text": [
      "clusters =  3 [0 0 0 0 2 1 1 2 2 2 2 0 0]\n"
     ]
    }
   ],
   "source": [
    "points = [[1,1],[1,2],[2,2],[2,3],[5,6],[13,12],[11,11],\n",
    "             [7,7],[7,9],[9,7],[10,8],[3,3],[5,3]]\n",
    "data = np.array(points)   \n",
    "nc = 3   # no. of clusters \n",
    "kmeans = KMeans(n_clusters=nc, init='k-means++', \n",
    "                        max_iter=20, n_init=10, random_state=0)\n",
    "labels = kmeans.fit(data)\n",
    "print('clusters = ', nc, labels.labels_)"
   ]
  },
  {
   "cell_type": "code",
   "execution_count": 3,
   "metadata": {},
   "outputs": [
    {
     "data": {
      "image/png": "[encoded data removed]",
      "text/plain": [
       "<Figure size 720x360 with 2 Axes>"
      ]
     },
     "metadata": {
      "needs_background": "light"
     },
     "output_type": "display_data"
    }
   ],
   "source": [
    "x = data[:,0]\n",
    "y = data[:,1]\n",
    "plt.figure(figsize=(10,5))\n",
    "ax1 = plt.subplot(1, 2, 1)\n",
    "ax1.scatter(x,y)\n",
    "ax2 = plt.subplot(1, 2, 2)\n",
    "ax2.scatter(x,y, c=labels.labels_);"
   ]
  },
  {
   "cell_type": "code",
   "execution_count": 4,
   "metadata": {},
   "outputs": [
    {
     "name": "stdout",
     "output_type": "stream",
     "text": [
      "clusters =  2 [0 0 0 0 0 1 1 1 1 1 1 0 0]\n",
      "inertia = 81.786\n",
      "sil score = 0.6001044104851272\n",
      "clusters =  3 [0 0 0 0 2 1 1 2 2 2 2 0 0]\n",
      "inertia = 37.567\n",
      "sil score = 0.5706853478192079\n",
      "clusters =  4 [2 2 2 2 0 1 1 3 3 3 3 2 0]\n",
      "inertia = 22.100\n",
      "sil score = 0.47561774943296065\n",
      "clusters =  5 [0 0 0 0 2 3 3 4 4 1 1 0 2]\n",
      "inertia = 15.600\n",
      "sil score = 0.4337937922442338\n",
      "clusters =  6 [4 4 4 4 0 3 3 5 5 1 1 4 2]\n",
      "inertia = 11.100\n",
      "sil score = 0.37529329972525904\n",
      "clusters =  7 [2 2 6 6 0 1 1 4 4 3 3 6 5]\n",
      "inertia = 7.333\n",
      "sil score = 0.32055894731694146\n",
      "clusters =  8 [5 5 1 1 6 7 0 2 2 3 3 1 4]\n",
      "inertia = 4.833\n",
      "sil score = 0.2419413769014861\n",
      "clusters =  9 [0 0 5 5 7 6 2 8 1 4 4 5 3]\n",
      "inertia = 2.833\n",
      "sil score = 0.19892660138492083\n"
     ]
    }
   ],
   "source": [
    "points = [[1,1],[1,2],[2,2],[2,3],[5,6],[13,12],[11,11],\n",
    "             [7,7],[7,9],[9,7],[10,8],[3,3],[5,3]]   \n",
    "data = np.array(points)\n",
    "\n",
    "for nc in range(2,10):\n",
    "        kmeans = KMeans(n_clusters=nc, init='k-means++', \n",
    "            max_iter=2, n_init=10, random_state=0)\n",
    "        labels = kmeans.fit(data)\n",
    "        print('clusters = ', nc, labels.labels_)\n",
    "        print(f'inertia = {labels.inertia_:.3f}')\n",
    "        print(f'sil score = {silhouette_score(data, labels.labels_)}')"
   ]
  },
  {
   "cell_type": "code",
   "execution_count": 5,
   "metadata": {},
   "outputs": [
    {
     "name": "stdout",
     "output_type": "stream",
     "text": [
      "clusters =  1 [0 0 0 0 0 0 0 0 0 0 0 0 0]\n",
      "inertia = 352.462\n",
      "clusters = 1  [0 0 0 0 0 0 0 0 0 0 0 0 0]   inertia = 352.462\n",
      "clusters =  2 [0 0 0 0 0 1 1 1 1 1 1 0 0]\n",
      "inertia = 81.786\n",
      "clusters = 2  [0 0 0 0 0 1 1 1 1 1 1 0 0]   inertia = 81.786\n",
      "clusters =  3 [0 0 0 0 2 1 1 2 2 2 2 0 0]\n",
      "inertia = 37.567\n",
      "clusters = 3  [0 0 0 0 2 1 1 2 2 2 2 0 0]   inertia = 37.567\n",
      "clusters =  4 [2 2 2 2 0 1 1 3 3 3 3 2 0]\n",
      "inertia = 22.100\n",
      "clusters = 4  [2 2 2 2 0 1 1 3 3 3 3 2 0]   inertia = 22.100\n",
      "clusters =  5 [0 0 0 0 2 3 3 4 4 1 1 0 2]\n",
      "inertia = 15.600\n",
      "clusters = 5  [0 0 0 0 2 3 3 4 4 1 1 0 2]   inertia = 15.600\n",
      "clusters =  6 [4 4 4 4 0 3 3 5 5 1 1 4 2]\n",
      "inertia = 11.100\n",
      "clusters = 6  [4 4 4 4 0 3 3 5 5 1 1 4 2]   inertia = 11.100\n",
      "clusters =  7 [2 2 6 6 0 1 1 4 4 3 3 6 5]\n",
      "inertia = 7.333\n",
      "clusters = 7  [2 2 6 6 0 1 1 4 4 3 3 6 5]   inertia = 7.333\n",
      "clusters =  8 [5 5 1 1 6 7 0 2 2 3 3 1 4]\n",
      "inertia = 4.833\n",
      "clusters = 8  [5 5 1 1 6 7 0 2 2 3 3 1 4]   inertia = 4.833\n",
      "clusters =  9 [0 0 5 5 7 6 2 8 1 4 4 5 3]\n",
      "inertia = 2.833\n",
      "clusters = 9  [0 0 5 5 7 6 2 8 1 4 4 5 3]   inertia = 2.833\n",
      "clusters =  10 [9 9 3 3 5 6 1 2 7 8 4 3 0]\n",
      "inertia = 1.833\n",
      "clusters = 10  [9 9 3 3 5 6 1 2 7 8 4 3 0]   inertia = 1.833\n",
      "clusters =  11 [ 5  5 10  1  4  2  6  8  0  3  7  1  9]\n",
      "inertia = 1.000\n",
      "clusters = 11  [ 5  5 10  1  4  2  6  8  0  3  7  1  9]   inertia = 1.000\n",
      "clusters =  12 [ 9  3  3 11  5  6  1  2  7  8  4 10  0]\n",
      "inertia = 0.500\n",
      "clusters = 12  [ 9  3  3 11  5  6  1  2  7  8  4 10  0]   inertia = 0.500\n",
      "clusters =  13 [ 9 12  3 11  5  6  1  2  7  8  4 10  0]\n",
      "inertia = 0.000\n",
      "clusters = 13  [ 9 12  3 11  5  6  1  2  7  8  4 10  0]   inertia = 0.000\n"
     ]
    }
   ],
   "source": [
    "points = [[1,1],[1,2],[2,2],[2,3],[5,6],[13,12],[11,11],\n",
    "             [7,7],[7,9],[9,7],[10,8],[3,3],[5,3]]   \n",
    "data = np.array(points)\n",
    "d = {}\n",
    "for nc in range(1,14):\n",
    "    kmeans = KMeans(n_clusters=nc, init='k-means++', \n",
    "            max_iter=2, n_init=10, random_state=0)\n",
    "    labels = kmeans.fit(data)\n",
    "    print('clusters = ', nc, labels.labels_)\n",
    "    print(f'inertia = {labels.inertia_:.3f}')\n",
    "    print(f'clusters = {nc}  {labels.labels_}   inertia = {labels.inertia_:.3f}')\n",
    "    d[nc] = labels.inertia_\n",
    "    s = pd.Series(d)"
   ]
  },
  {
   "cell_type": "code",
   "execution_count": 6,
   "metadata": {},
   "outputs": [
    {
     "data": {
      "text/plain": [
       "Text(0, 0.5, 'inertia')"
      ]
     },
     "execution_count": 6,
     "metadata": {},
     "output_type": "execute_result"
    },
    {
     "data": {
      "image/png": "[encoded data removed]",
      "text/plain": [
       "<Figure size 432x288 with 1 Axes>"
      ]
     },
     "metadata": {
      "needs_background": "light"
     },
     "output_type": "display_data"
    }
   ],
   "source": [
    "s.plot(marker='o')\n",
    "plt.xlabel('clusters')\n",
    "plt.ylabel('inertia')"
   ]
  },
  {
   "cell_type": "code",
   "execution_count": null,
   "metadata": {},
   "outputs": [],
   "source": []
  },
  {
   "cell_type": "code",
   "execution_count": 7,
   "metadata": {},
   "outputs": [
    {
     "data": {
      "image/png": "[encoded data removed]",
      "text/plain": [
       "<Figure size 432x288 with 2 Axes>"
      ]
     },
     "metadata": {
      "needs_background": "light"
     },
     "output_type": "display_data"
    }
   ],
   "source": [
    "from sklearn.datasets import load_iris\n",
    "iris = load_iris()\n",
    "x = pd.DataFrame(iris.data, columns=['sepal-len', 'sepal-wid',\n",
    "                                         'petal-len', 'petal-wid'])\n",
    "y = pd.DataFrame(iris.target, columns=['iristype'])\n",
    "iris_targets_legend = np.array(iris.target_names)\n",
    "model = KMeans(n_clusters=5)\n",
    "model.fit(x)\n",
    "y_pred = np.choose(model.labels_, [0,1,2,3,4]).astype(np.int64)\n",
    "plt.subplot(1, 2, 1)\n",
    "colors = np.array(['red', 'green', 'blue','orange','black'])\n",
    "plt.scatter(x['petal-len'], x['petal-wid'], c=colors[y['iristype']])\n",
    "plt.title('original')\n",
    "plt.subplot(1, 2, 2)\n",
    "plt.scatter(x['petal-len'], x['petal-wid'], c=colors[y_pred])\n",
    "plt.title(\"KMean's clustering\")\n",
    "plt.show()\n"
   ]
  },
  {
   "cell_type": "code",
   "execution_count": 8,
   "metadata": {},
   "outputs": [
    {
     "data": {
      "text/plain": [
       "array(['green', 'green', 'green', 'green', 'green', 'green', 'green',\n",
       "       'green', 'green', 'green', 'green', 'green', 'green', 'green',\n",
       "       'green', 'green', 'green', 'green', 'green', 'green', 'green',\n",
       "       'green', 'green', 'green', 'green', 'green', 'green', 'green',\n",
       "       'green', 'green', 'green', 'green', 'green', 'green', 'green',\n",
       "       'green', 'green', 'green', 'green', 'green', 'green', 'green',\n",
       "       'green', 'green', 'green', 'green', 'green', 'green', 'green',\n",
       "       'green', 'red', 'red', 'red', 'orange', 'red', 'red', 'red',\n",
       "       'orange', 'red', 'orange', 'orange', 'red', 'orange', 'red',\n",
       "       'orange', 'red', 'red', 'orange', 'red', 'orange', 'red', 'orange',\n",
       "       'red', 'red', 'red', 'red', 'red', 'red', 'red', 'orange',\n",
       "       'orange', 'orange', 'orange', 'red', 'orange', 'red', 'red', 'red',\n",
       "       'orange', 'orange', 'orange', 'red', 'orange', 'orange', 'orange',\n",
       "       'orange', 'orange', 'red', 'orange', 'orange', 'black', 'red',\n",
       "       'blue', 'black', 'black', 'blue', 'orange', 'blue', 'black',\n",
       "       'blue', 'black', 'black', 'black', 'red', 'black', 'black',\n",
       "       'black', 'blue', 'blue', 'red', 'black', 'red', 'blue', 'red',\n",
       "       'black', 'blue', 'red', 'red', 'black', 'blue', 'blue', 'blue',\n",
       "       'black', 'red', 'red', 'blue', 'black', 'black', 'red', 'black',\n",
       "       'black', 'black', 'red', 'black', 'black', 'black', 'red', 'black',\n",
       "       'black', 'red'], dtype='<U6')"
      ]
     },
     "execution_count": 8,
     "metadata": {},
     "output_type": "execute_result"
    }
   ],
   "source": [
    "c=colors[y_pred]\n",
    "c"
   ]
  },
  {
   "cell_type": "code",
   "execution_count": null,
   "metadata": {},
   "outputs": [],
   "source": []
  }
 ],
 "metadata": {
  "kernelspec": {
   "display_name": "Python 3",
   "language": "python",
   "name": "python3"
  },
  "language_info": {
   "codemirror_mode": {
    "name": "ipython",
    "version": 3
   },
   "file_extension": ".py",
   "mimetype": "text/x-python",
   "name": "python",
   "nbconvert_exporter": "python",
   "pygments_lexer": "ipython3",
   "version": "3.7.3"
  }
 },
 "nbformat": 4,
 "nbformat_minor": 2
}
