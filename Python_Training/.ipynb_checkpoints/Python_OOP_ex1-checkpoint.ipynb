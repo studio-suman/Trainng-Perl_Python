{
 "cells": [
  {
   "cell_type": "markdown",
   "metadata": {},
   "source": [
    "# OOP Concepts Class"
   ]
  },
  {
   "cell_type": "code",
   "execution_count": 13,
   "metadata": {},
   "outputs": [
    {
     "name": "stdout",
     "output_type": "stream",
     "text": [
      "hello\n",
      "hello\n",
      "\n"
     ]
    }
   ],
   "source": [
    "class msg:\n",
    "    def set(self,s): #define member method\n",
    "        self.txt = s\n",
    "    def get(self): #define member\n",
    "        return self.txt\n",
    "    def reset(self):\n",
    "        self.txt = \"\"\n",
    "\n",
    "m = msg()\n",
    "m.set(\"hello\")\n",
    "print(m.txt)\n",
    "\n",
    "k = m.get()\n",
    "print (k)\n",
    "\n",
    "m.reset()\n",
    "print(m.txt)"
   ]
  },
  {
   "cell_type": "markdown",
   "metadata": {},
   "source": [
    "### Defining Constructor here"
   ]
  },
  {
   "cell_type": "code",
   "execution_count": 2,
   "metadata": {},
   "outputs": [
    {
     "name": "stdout",
     "output_type": "stream",
     "text": [
      "hello\n",
      "hello\n",
      "\n"
     ]
    }
   ],
   "source": [
    "class msg:\n",
    "    def __init__(self,s): #define constructor of class\n",
    "        self.txt = s\n",
    "    def get(self): #define member\n",
    "        return self.txt\n",
    "    def reset(self):\n",
    "        self.txt = \"\"\n",
    "\n",
    "m = msg(\"hello\")\n",
    "print(m.txt)\n",
    "\n",
    "k = m.get()\n",
    "print (k)\n",
    "\n",
    "m.reset()\n",
    "print(m.txt)"
   ]
  },
  {
   "cell_type": "code",
   "execution_count": 6,
   "metadata": {},
   "outputs": [
    {
     "name": "stdout",
     "output_type": "stream",
     "text": [
      "hello\n",
      "hello\n",
      " world\n",
      "hello world\n"
     ]
    }
   ],
   "source": [
    "class msg:\n",
    "    def __init__(self,s): #define constructor of class\n",
    "        self.txt = s\n",
    "    def get(self): #fetching the member\n",
    "        return self.txt\n",
    "    def reset(self): #reset the member\n",
    "        self.txt = \"\"\n",
    "    def concat(self,msg1):\n",
    "        self.txt = self.txt + msg1.txt # concat passed msg1 with self\n",
    "\n",
    "m = msg(\"hello\") # m is the object here\n",
    "print(m.txt)\n",
    "\n",
    "k = m.get()\n",
    "print (k)\n",
    "\n",
    "m2 = msg(\" world\")\n",
    "print(m2.txt)\n",
    "\n",
    "m.concat(m2) # calling concat method\n",
    "print(m.txt)"
   ]
  },
  {
   "cell_type": "code",
   "execution_count": 19,
   "metadata": {},
   "outputs": [
    {
     "name": "stdout",
     "output_type": "stream",
     "text": [
      "hello\n",
      " world\n",
      "hello world\n",
      " world\n"
     ]
    },
    {
     "ename": "AttributeError",
     "evalue": "'str' object has no attribute 'txt'",
     "output_type": "error",
     "traceback": [
      "\u001b[1;31m---------------------------------------------------------------------------\u001b[0m",
      "\u001b[1;31mAttributeError\u001b[0m                            Traceback (most recent call last)",
      "\u001b[1;32m<ipython-input-19-f3b8585251ee>\u001b[0m in \u001b[0;36m<module>\u001b[1;34m\u001b[0m\n\u001b[0;32m     25\u001b[0m \u001b[0mprint\u001b[0m\u001b[1;33m(\u001b[0m\u001b[0mm2\u001b[0m\u001b[1;33m.\u001b[0m\u001b[0mtxt\u001b[0m\u001b[1;33m)\u001b[0m\u001b[1;33m\u001b[0m\u001b[1;33m\u001b[0m\u001b[0m\n\u001b[0;32m     26\u001b[0m \u001b[1;33m\u001b[0m\u001b[0m\n\u001b[1;32m---> 27\u001b[1;33m \u001b[0mm\u001b[0m\u001b[1;33m.\u001b[0m\u001b[0mconcat\u001b[0m\u001b[1;33m(\u001b[0m\u001b[1;34m\"bye bye\"\u001b[0m\u001b[1;33m)\u001b[0m\u001b[1;33m\u001b[0m\u001b[1;33m\u001b[0m\u001b[0m\n\u001b[0m\u001b[0;32m     28\u001b[0m \u001b[0mprint\u001b[0m\u001b[1;33m(\u001b[0m\u001b[0mm\u001b[0m\u001b[1;33m.\u001b[0m\u001b[0mtxt\u001b[0m\u001b[1;33m)\u001b[0m\u001b[1;33m\u001b[0m\u001b[1;33m\u001b[0m\u001b[0m\n",
      "\u001b[1;32m<ipython-input-19-f3b8585251ee>\u001b[0m in \u001b[0;36mconcat\u001b[1;34m(self, msg1)\u001b[0m\n\u001b[0;32m     13\u001b[0m \u001b[1;33m\u001b[0m\u001b[0m\n\u001b[0;32m     14\u001b[0m     \u001b[1;32mdef\u001b[0m \u001b[0mconcat\u001b[0m\u001b[1;33m(\u001b[0m\u001b[0mself\u001b[0m\u001b[1;33m,\u001b[0m\u001b[0mmsg1\u001b[0m\u001b[1;33m)\u001b[0m\u001b[1;33m:\u001b[0m\u001b[1;33m\u001b[0m\u001b[1;33m\u001b[0m\u001b[0m\n\u001b[1;32m---> 15\u001b[1;33m         \u001b[0mself\u001b[0m\u001b[1;33m.\u001b[0m\u001b[0mtxt\u001b[0m \u001b[1;33m=\u001b[0m \u001b[0mself\u001b[0m\u001b[1;33m.\u001b[0m\u001b[0mtxt\u001b[0m \u001b[1;33m+\u001b[0m \u001b[0mmsg1\u001b[0m\u001b[1;33m.\u001b[0m\u001b[0mtxt\u001b[0m \u001b[1;31m# concat passed msg1 with self\u001b[0m\u001b[1;33m\u001b[0m\u001b[1;33m\u001b[0m\u001b[0m\n\u001b[0m\u001b[0;32m     16\u001b[0m \u001b[1;33m\u001b[0m\u001b[0m\n\u001b[0;32m     17\u001b[0m \u001b[0mm\u001b[0m \u001b[1;33m=\u001b[0m \u001b[0mmsg\u001b[0m\u001b[1;33m(\u001b[0m\u001b[1;34m\"hello\"\u001b[0m\u001b[1;33m)\u001b[0m \u001b[1;31m# m is the object here\u001b[0m\u001b[1;33m\u001b[0m\u001b[1;33m\u001b[0m\u001b[0m\n",
      "\u001b[1;31mAttributeError\u001b[0m: 'str' object has no attribute 'txt'"
     ]
    }
   ],
   "source": [
    "class msg:\n",
    "    def __init__(self,s=\"no msg\"): #define constructor of class, assiging default parameter\n",
    "        self.txt = s\n",
    "        \n",
    "    def get(self): #fetching the member\n",
    "        return self.txt\n",
    "    \n",
    "    def reset(self): #reset the member\n",
    "        self.txt = \"\"\n",
    "        \n",
    "    def concat(self,st):\n",
    "        self.txt = self.txt + st # concat passed msg1 with self\n",
    "        \n",
    "    def concat(self,msg1):\n",
    "        self.txt = self.txt + msg1.txt # concat passed msg1 with self\n",
    "    \n",
    "m = msg(\"hello\") # m is the object here\n",
    "print(m.txt)\n",
    "\n",
    "m2 = msg(\" world\")\n",
    "print(m2.txt)\n",
    "\n",
    "m.concat(m2) # calling concat method\n",
    "print(m.txt)\n",
    "print(m2.txt)\n",
    "\n",
    "m.concat(\"bye bye\")\n",
    "print(m.txt)"
   ]
  },
  {
   "cell_type": "markdown",
   "metadata": {},
   "source": [
    "### Passing multiple variables using *args"
   ]
  },
  {
   "cell_type": "code",
   "execution_count": 18,
   "metadata": {},
   "outputs": [
    {
     "name": "stdout",
     "output_type": "stream",
     "text": [
      "hello\n",
      " world\n",
      "hello world\n",
      " world\n"
     ]
    }
   ],
   "source": [
    "class msg:\n",
    "    def __init__(self,s=\"no msg\"): #define constructor of class, assiging default parameter\n",
    "        self.txt = s\n",
    "        \n",
    "    def get(self): #fetching the member\n",
    "        return self.txt\n",
    "    \n",
    "    def reset(self): #reset the member\n",
    "        self.txt = \"\"\n",
    "        \n",
    "    def concat(self,*args):\n",
    "        for param in args:\n",
    "            if isinstance(param,str):\n",
    "                self.txt = self.txt + param # concat passed msg1 with self\n",
    "            elif isinstance(param,int):\n",
    "                self.txt = self.txt + str(param) # concat passed msg1 with self\n",
    "            elif isinstance(param,msg):\n",
    "                self.txt = self.txt + param.txt # concat passed msg1 with self\n",
    "            else:\n",
    "                print ('------ Invalid Parameter type -----', param)\n",
    "    \n",
    "m = msg(\"hello\") # m is the object here\n",
    "print(m.txt)\n",
    "\n",
    "m2 = msg(\" world\")\n",
    "print(m2.txt)\n",
    "\n",
    "m.concat(m2) # calling concat method\n",
    "print(m.txt)\n",
    "print(m2.txt)\n",
    "m.concat(\"bye bye\")"
   ]
  },
  {
   "cell_type": "markdown",
   "metadata": {},
   "source": [
    "### Defining Constructor and Destructor"
   ]
  },
  {
   "cell_type": "code",
   "execution_count": null,
   "metadata": {},
   "outputs": [],
   "source": [
    "class dummy():\n",
    "    \n"
   ]
  }
 ],
 "metadata": {
  "kernelspec": {
   "display_name": "Python 3",
   "language": "python",
   "name": "python3"
  },
  "language_info": {
   "codemirror_mode": {
    "name": "ipython",
    "version": 3
   },
   "file_extension": ".py",
   "mimetype": "text/x-python",
   "name": "python",
   "nbconvert_exporter": "python",
   "pygments_lexer": "ipython3",
   "version": "3.7.3"
  }
 },
 "nbformat": 4,
 "nbformat_minor": 2
}
