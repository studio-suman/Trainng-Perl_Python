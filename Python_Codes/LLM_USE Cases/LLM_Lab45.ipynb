{
 "cells": [
  {
   "cell_type": "markdown",
   "metadata": {},
   "source": [
    "### LLM Model Demo"
   ]
  },
  {
   "cell_type": "code",
   "execution_count": null,
   "metadata": {},
   "outputs": [],
   "source": [
    "# Installed LangChain \n",
    "#%pip install langchain langchain-community faiss-cpu langchain-chroma langchain-openai langchain_text_splitters langgraph beautifulsoup4 langchain-huggingface"
   ]
  },
  {
   "cell_type": "code",
   "execution_count": 15,
   "metadata": {},
   "outputs": [],
   "source": [
    "import langchain\n",
    "from langchain_openai import AzureChatOpenAI\n",
    "from langchain_core.messages import HumanMessage, SystemMessage\n",
    "from langchain_core.output_parsers import StrOutputParser\n",
    "from langchain_core.prompts import ChatPromptTemplate\n",
    "from langchain_openai import OpenAIEmbeddings\n",
    "from langchain_huggingface import HuggingFaceEmbeddings\n",
    "import os\n",
    "from langchain_community.document_loaders import PyPDFDirectoryLoader # type: ignore\n",
    "from langchain.embeddings import HuggingFaceEmbeddings # type: ignore\n",
    "from langchain_community.vectorstores import FAISS # type: ignore\n",
    "from langchain.chains import RetrievalQA # type: ignore\n",
    "from langchain_ollama.llms import OllamaLLM # type: ignore\n",
    "from langchain_ollama import OllamaEmbeddings # type: ignore\n",
    "from langchain_core.messages import HumanMessage, SystemMessage # type: ignore\n",
    "from langchain_core.prompts import ChatPromptTemplate # type: ignore\n",
    "\n",
    "from langchain.cache import InMemoryCache\n",
    "from dotenv import load_dotenv"
   ]
  },
  {
   "cell_type": "code",
   "execution_count": 16,
   "metadata": {},
   "outputs": [
    {
     "data": {
      "text/plain": [
       "True"
      ]
     },
     "execution_count": 16,
     "metadata": {},
     "output_type": "execute_result"
    }
   ],
   "source": [
    "# os.environ[\"AZURE_OPENAI_API_KEY\"] = \"ce53c5fce80c4503927244333e40634c\"\n",
    "# os.environ[\"AZURE_OPENAI_ENDPOINT\"] = \"https://wdc-chat-llm.openai.azure.com/\"\n",
    "# os.environ[\"AZURE_OPENAI_DEPLOYMENT_NAME\"] = \"gpt-4o\"\n",
    "# os.environ[\"OPENAI_API_VERSION\"] = \"2024-06-01\"\n",
    "load_dotenv()\n"
   ]
  },
  {
   "cell_type": "code",
   "execution_count": null,
   "metadata": {},
   "outputs": [],
   "source": [
    "llm = AzureChatOpenAI(\n",
    "    azure_endpoint = os.getenv(\"AZURE_OPENAI_ENDPOINT\"),\n",
    "    azure_deployment = os.getenv(\"AZURE_OPENAI_DEPLOYMENT_NAME\"),\n",
    "    api_version = os.getenv(\"OPENAI_API_VERSION\"),\n",
    "    api_key = os.getenv(\"AZURE_OPENAI_API_KEY\"), # type: ignore\n",
    "    temperature= 0.3\n",
    ")\n",
    "langchain.llm_cache = InMemoryCache() # type: ignore\n",
    "parser = StrOutputParser()\n",
    "#embeddings = HuggingFaceEmbeddings() #model=\"sentence-transformers/all-mpnet-base-v2\""
   ]
  },
  {
   "cell_type": "code",
   "execution_count": 18,
   "metadata": {},
   "outputs": [
    {
     "data": {
      "text/plain": [
       "'Bearer token|520e871a-5166-4bfe-b3e4-3455e6d7d011|d960f37d017a1c86e27fe6dd6290cf960d76f4d9db52bb8689835cc4a0e24f89'"
      ]
     },
     "execution_count": 18,
     "metadata": {},
     "output_type": "execute_result"
    }
   ],
   "source": [
    "token = os.getenv(\"TOKEN2\")\n",
    "token"
   ]
  },
  {
   "cell_type": "code",
   "execution_count": 22,
   "metadata": {},
   "outputs": [
    {
     "name": "stdout",
     "output_type": "stream",
     "text": [
      "b'{\"data\": {\"content\": \"Cats and dogs are both popular pets, but they have several differences. \\\\n\\\\n1. Behavior: Cats are generally more independent and solitary, while dogs are often more social and enjoy being part of a pack.\\\\n\\\\n2. Communication: Cats communicate through body language, vocalizations, and scent marking, while dogs use body language, barking, and tail wagging to communicate.\\\\n\\\\n3. Exercise needs: Dogs typically require more exercise and outdoor activity compared to cats.\\\\n\\\\n4. Grooming: Cats are known for grooming themselves regularly, while dogs may require more regular grooming and bathing.\\\\n\\\\n5. Training: Dogs are often more trainable and responsive to commands, while cats can be more difficult to train.\\\\n\\\\n6. Size: Dogs come in a wider range of sizes compared to cats, from tiny Chihuahuas to giant Great Danes, while cats generally have a more consistent size range.\\\\n\\\\nThese are just a few of the many differences between cats and dogs. Both make wonderful pets, but their care and behavior can vary significantly.\"}}\\n'\n"
     ]
    }
   ],
   "source": [
    "import requests  # Import the requests module to send HTTP requests\n",
    "\n",
    "# Define the API endpoint for querying the document completion skill\n",
    "completion_endpoint = f\"https://api.lab45.ai/v1.1/skills/completion/query\"\n",
    "\n",
    "# Set the headers for the request, including content type, accepted response format, and authorization token\n",
    "headers = {\n",
    "    'Content-Type': \"application/json\",  # The content type of the request is JSON, meaning the request body will be in JSON format\n",
    "    'Accept': \"text/event-stream, application/json\",  # The server is expected to respond with either event-stream or JSON\n",
    "    'Authorization': token  # Replace <api_key> with your actual API key for authentication\n",
    "}\n",
    "\n",
    "# Define the payload (request body) for the API call, which contains the user's query and skill parameters\n",
    "payload = {\n",
    "        \"messages\": [\n",
    "            {\n",
    "            \"content\": \"what is difference between cat and dog?\",\n",
    "            \"role\": \"user\"\n",
    "            }\n",
    "        ],\n",
    "        \"skill_parameters\": {\n",
    "            \"model_name\": \"gpt-35-turbo-16k\",\n",
    "            \"max_output_tokens\": 256,\n",
    "            \"temperature\": 0,\n",
    "            \"top_k\": 5\n",
    "        },\n",
    "    \"stream_response\": False\n",
    "    }\n",
    " \n",
    " \n",
    "try:\n",
    "    response = requests.post(completion_endpoint, headers=headers, json=payload)\n",
    "    response.raise_for_status()  # Raise an exception for 4xx/5xx status codes\n",
    "    print(response.content)  # Print the response data\n",
    "except requests.exceptions.RequestException as e:\n",
    "    print(f\"Error making the request: {e}\")\n",
    " \n",
    "# Print the response from the API call to inspect the result (status code, content, etc.)"
   ]
  }
 ],
 "metadata": {
  "kernelspec": {
   "display_name": ".venv",
   "language": "python",
   "name": "python3"
  },
  "language_info": {
   "codemirror_mode": {
    "name": "ipython",
    "version": 3
   },
   "file_extension": ".py",
   "mimetype": "text/x-python",
   "name": "python",
   "nbconvert_exporter": "python",
   "pygments_lexer": "ipython3",
   "version": "3.12.6"
  }
 },
 "nbformat": 4,
 "nbformat_minor": 2
}
