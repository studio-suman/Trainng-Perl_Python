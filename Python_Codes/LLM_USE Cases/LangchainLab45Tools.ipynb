{
 "cells": [
  {
   "cell_type": "code",
   "execution_count": 1,
   "metadata": {},
   "outputs": [],
   "source": [
    "import os\n",
    "from pydantic import Extra\n",
    "import requests\n",
    "from typing import Any, List, Mapping, Optional\n",
    "import datetime\n",
    "from langchain.callbacks.manager import CallbackManagerForLLMRun\n",
    "from langchain.llms.base import LLM\n",
    "from langchain_core.output_parsers import StrOutputParser\n",
    "from langchain_core.prompts import ChatPromptTemplate\n",
    "from langchain_core.messages import HumanMessage, SystemMessage\n",
    "from langchain.prompts import PromptTemplate\n",
    "from langchain.agents import tool\n",
    "from langchain.agents import create_react_agent, AgentExecutor, create_self_ask_with_search_agent\n",
    "# Run chain\n",
    "from langchain.chains import RetrievalQA\n",
    "from langchain_community.vectorstores import FAISS # type: ignore\n",
    "from langchain_ollama import OllamaEmbeddings # type: ignore\n",
    "import warnings\n",
    "warnings.filterwarnings('ignore')"
   ]
  },
  {
   "cell_type": "code",
   "execution_count": 2,
   "metadata": {},
   "outputs": [],
   "source": [
    "os.environ[\"token\"] = \"Bearer token|123675a6-95f6-4fb7-bc95-30095472ae3a|02de311fd83421a7fd637bf34dc8f959caa29f39888d2919e4b9640a2220224b\"\n",
    "token = os.environ[\"token\"]"
   ]
  },
  {
   "cell_type": "code",
   "execution_count": 3,
   "metadata": {},
   "outputs": [],
   "source": [
    "from typing import ClassVar\n",
    "\n",
    "parser = StrOutputParser()\n",
    "\n",
    "class LlamaLLM(LLM):\n",
    "    llm_url: ClassVar[str] = 'https://api.lab45.ai/v1.1/skills/completion/query'\n",
    "    \n",
    "\n",
    "    @property\n",
    "    def _llm_type(self) -> str:\n",
    "        return \"gpt-35-turbo-16k\"\n",
    "    \n",
    "    def _call(\n",
    "        self,\n",
    "        prompt: str,\n",
    "        user: str,\n",
    "        stop: Optional[List[str]] = None,\n",
    "        run_manager: Optional[CallbackManagerForLLMRun] = None,\n",
    "        **kwargs: Any,\n",
    "    ) -> str:\n",
    "        if stop is not None:\n",
    "            raise ValueError(\"stop kwargs are not permitted.\")\n",
    "\n",
    "        payload = {\n",
    "        \"messages\": [\n",
    "            {\n",
    "            \"content\": prompt,\n",
    "            \"role\": user\n",
    "            }\n",
    "        ],\n",
    "        \"skill_parameters\": {\n",
    "            \"model_name\": \"gpt-35-turbo-16k\",\n",
    "            \"max_output_tokens\": 4096,\n",
    "            \"temperature\": 0,\n",
    "            \"top_k\": 5\n",
    "        },\n",
    "        \"stream_response\": False\n",
    "        }\n",
    "\n",
    "        headers = {\"Content-Type\": \"application/json\",\"Authorization\": token}\n",
    "\n",
    "        response = requests.post(self.llm_url, json=payload, headers=headers, verify=False)\n",
    "\n",
    "       # print(\"API Response:\", response.json())\n",
    "        response.raise_for_status()\n",
    "\n",
    "        return response.json()  # get the response from the API\n",
    "\n",
    "    @property\n",
    "    def _identifying_params(self) -> Mapping[str, Any]:\n",
    "        \"\"\"Get the identifying parameters.\"\"\"\n",
    "        return {\n",
    "            \"llmUrl\": self.llm_url\n",
    "            }\n",
    "    \n",
    "llm = LlamaLLM()"
   ]
  },
  {
   "cell_type": "code",
   "execution_count": 4,
   "metadata": {},
   "outputs": [],
   "source": [
    "messages = [\n",
    "    SystemMessage(content=\"Translate the following from English into Kannada\"),\n",
    "    HumanMessage(content=\"Hi\"),\n",
    "]"
   ]
  },
  {
   "cell_type": "code",
   "execution_count": 5,
   "metadata": {},
   "outputs": [],
   "source": [
    "system_template = \"Translate the following into {language}:\"\n",
    "prompt_template = ChatPromptTemplate.from_messages(\n",
    "    [(\"system\", system_template), (\"user\", \"{text}\")]\n",
    ")"
   ]
  },
  {
   "cell_type": "code",
   "execution_count": 6,
   "metadata": {},
   "outputs": [
    {
     "ename": "HTTPError",
     "evalue": "401 Client Error: UNAUTHORIZED for url: https://api.lab45.ai/v1.1/skills/completion/query",
     "output_type": "error",
     "traceback": [
      "\u001b[1;31m---------------------------------------------------------------------------\u001b[0m",
      "\u001b[1;31mHTTPError\u001b[0m                                 Traceback (most recent call last)",
      "Cell \u001b[1;32mIn[6], line 2\u001b[0m\n\u001b[0;32m      1\u001b[0m formatted_prompt \u001b[38;5;241m=\u001b[39m prompt_template\u001b[38;5;241m.\u001b[39mformat(language\u001b[38;5;241m=\u001b[39m\u001b[38;5;124m\"\u001b[39m\u001b[38;5;124mkannada\u001b[39m\u001b[38;5;124m\"\u001b[39m, text\u001b[38;5;241m=\u001b[39m\u001b[38;5;124m\"\u001b[39m\u001b[38;5;124mHow are you?\u001b[39m\u001b[38;5;124m\"\u001b[39m)\n\u001b[1;32m----> 2\u001b[0m result \u001b[38;5;241m=\u001b[39m \u001b[43mllm\u001b[49m\u001b[38;5;241;43m.\u001b[39;49m\u001b[43m_call\u001b[49m\u001b[43m(\u001b[49m\u001b[43mprompt\u001b[49m\u001b[38;5;241;43m=\u001b[39;49m\u001b[43mformatted_prompt\u001b[49m\u001b[43m,\u001b[49m\u001b[43m \u001b[49m\u001b[43muser\u001b[49m\u001b[38;5;241;43m=\u001b[39;49m\u001b[38;5;124;43m\"\u001b[39;49m\u001b[38;5;124;43msystem\u001b[39;49m\u001b[38;5;124;43m\"\u001b[39;49m\u001b[43m)\u001b[49m\n\u001b[0;32m      3\u001b[0m parser\u001b[38;5;241m.\u001b[39mparse(result)\n",
      "Cell \u001b[1;32mIn[3], line 45\u001b[0m, in \u001b[0;36mLlamaLLM._call\u001b[1;34m(self, prompt, user, stop, run_manager, **kwargs)\u001b[0m\n\u001b[0;32m     42\u001b[0m  response \u001b[38;5;241m=\u001b[39m requests\u001b[38;5;241m.\u001b[39mpost(\u001b[38;5;28mself\u001b[39m\u001b[38;5;241m.\u001b[39mllm_url, json\u001b[38;5;241m=\u001b[39mpayload, headers\u001b[38;5;241m=\u001b[39mheaders, verify\u001b[38;5;241m=\u001b[39m\u001b[38;5;28;01mFalse\u001b[39;00m)\n\u001b[0;32m     44\u001b[0m \u001b[38;5;66;03m# print(\"API Response:\", response.json())\u001b[39;00m\n\u001b[1;32m---> 45\u001b[0m  \u001b[43mresponse\u001b[49m\u001b[38;5;241;43m.\u001b[39;49m\u001b[43mraise_for_status\u001b[49m\u001b[43m(\u001b[49m\u001b[43m)\u001b[49m\n\u001b[0;32m     47\u001b[0m  \u001b[38;5;28;01mreturn\u001b[39;00m response\u001b[38;5;241m.\u001b[39mjson()\n",
      "File \u001b[1;32md:\\OneDrive - Wipro\\Desktop\\Trainng-Perl_Python\\.venv\\Lib\\site-packages\\requests\\models.py:1024\u001b[0m, in \u001b[0;36mResponse.raise_for_status\u001b[1;34m(self)\u001b[0m\n\u001b[0;32m   1019\u001b[0m     http_error_msg \u001b[38;5;241m=\u001b[39m (\n\u001b[0;32m   1020\u001b[0m         \u001b[38;5;124mf\u001b[39m\u001b[38;5;124m\"\u001b[39m\u001b[38;5;132;01m{\u001b[39;00m\u001b[38;5;28mself\u001b[39m\u001b[38;5;241m.\u001b[39mstatus_code\u001b[38;5;132;01m}\u001b[39;00m\u001b[38;5;124m Server Error: \u001b[39m\u001b[38;5;132;01m{\u001b[39;00mreason\u001b[38;5;132;01m}\u001b[39;00m\u001b[38;5;124m for url: \u001b[39m\u001b[38;5;132;01m{\u001b[39;00m\u001b[38;5;28mself\u001b[39m\u001b[38;5;241m.\u001b[39murl\u001b[38;5;132;01m}\u001b[39;00m\u001b[38;5;124m\"\u001b[39m\n\u001b[0;32m   1021\u001b[0m     )\n\u001b[0;32m   1023\u001b[0m \u001b[38;5;28;01mif\u001b[39;00m http_error_msg:\n\u001b[1;32m-> 1024\u001b[0m     \u001b[38;5;28;01mraise\u001b[39;00m HTTPError(http_error_msg, response\u001b[38;5;241m=\u001b[39m\u001b[38;5;28mself\u001b[39m)\n",
      "\u001b[1;31mHTTPError\u001b[0m: 401 Client Error: UNAUTHORIZED for url: https://api.lab45.ai/v1.1/skills/completion/query"
     ]
    }
   ],
   "source": [
    "formatted_prompt = prompt_template.format(language=\"kannada\", text=\"How are you?\")\n",
    "result = llm._call(prompt=formatted_prompt, user=\"system\")\n",
    "parser.parse(result)"
   ]
  },
  {
   "cell_type": "code",
   "execution_count": null,
   "metadata": {},
   "outputs": [],
   "source": [
    "@tool\n",
    "def get_system_time(format: str = \"%Y-%m-%d %H:%M:%S\"):\n",
    "    \"\"\" Returns the current date and time in the specified format \"\"\"\n",
    "\n",
    "    current_time = datetime.datetime.now()\n",
    "    formatted_time = current_time.strftime(format)\n",
    "    return formatted_time\n",
    "\n",
    "tools =[get_system_time]"
   ]
  },
  {
   "cell_type": "code",
   "execution_count": null,
   "metadata": {},
   "outputs": [],
   "source": [
    "messages = [\n",
    "    SystemMessage(content=\"You are Question and Answering System?\"),\n",
    "    HumanMessage(content=\"What is the current date and time?\"),\n",
    "]"
   ]
  },
  {
   "cell_type": "code",
   "execution_count": null,
   "metadata": {},
   "outputs": [],
   "source": [
    "system_template = \"What is the current time? using the tools {tools} and 5 and half hours to it:\"\n",
    "prompt_template = ChatPromptTemplate.from_messages(\n",
    "    [(\"system\", system_template), (\"user\", \"{tools}\")]\n",
    ")"
   ]
  },
  {
   "cell_type": "code",
   "execution_count": null,
   "metadata": {},
   "outputs": [
    {
     "data": {
      "text/plain": [
       "{'data': {'content': 'The current time is 10:30 AM. Adding 5 and a half hours to it, the result would be 4:00 PM.'}}"
      ]
     },
     "execution_count": 16,
     "metadata": {},
     "output_type": "execute_result"
    }
   ],
   "source": [
    "formatted_prompt = prompt_template.format(tools = [get_system_time])\n",
    "result = llm._call(prompt=formatted_prompt, user=\"system\")\n",
    "parser.parse(result)"
   ]
  },
  {
   "cell_type": "code",
   "execution_count": null,
   "metadata": {},
   "outputs": [],
   "source": [
    "@tool\n",
    "def get_system_time(format: str = \"%Y-%m-%d %H:%M:%S\"):\n",
    "    \"\"\" Returns the current date and time in the specified format \"\"\"\n",
    "\n",
    "    current_time = datetime.datetime.now()\n",
    "    formatted_time = current_time.strftime(format)\n",
    "    return formatted_time\n",
    "\n",
    "tools = [get_system_time]\n",
    "query = \"What is the current time in London? (You are in India). Just show the current time and not the date\"\n",
    "\n",
    "prompt_template = PromptTemplate(\n",
    "    input_variables=[\"agent_scratchpad\", \"input\", \"tool_names\", \"tools\"],\n",
    "    template=\"\"\"Answer the following questions as best you can. You have access to the following tools:\n",
    "\n",
    "{tools}\n",
    "\n",
    "Use the following format:\n",
    "\n",
    "Question: the input question you must answer\n",
    "Thought: you should always think about what to do\n",
    "Action: the action to take, should be one of [{tool_names}]\n",
    "Action Input: the input to the action\n",
    "Observation: the result of the action\n",
    "... (this Thought/Action/Action Input/Observation can repeat N times)\n",
    "Thought: I now know the final answer\n",
    "Final Answer: the final answer to the original input question\n",
    "\n",
    "Begin!\n",
    "\n",
    "Question: {input}\n",
    "Thought:{agent_scratchpad}\"\"\"\n",
    ")\n",
    "\n",
    "agent = create_react_agent(llm, tools, prompt_template)\n",
    "\n",
    "agent_executor = AgentExecutor(agent=agent, tools=tools, verbose=True)\n",
    "\n",
    "\n",
    "#agent_executor.invoke({\"input\": query})\n",
    "result = agent_executor.invoke({\"input\": query, \"user\": \"system\"})\n"
   ]
  }
 ],
 "metadata": {
  "kernelspec": {
   "display_name": ".venv (3.12.6)",
   "language": "python",
   "name": "python3"
  },
  "language_info": {
   "codemirror_mode": {
    "name": "ipython",
    "version": 3
   },
   "file_extension": ".py",
   "mimetype": "text/x-python",
   "name": "python",
   "nbconvert_exporter": "python",
   "pygments_lexer": "ipython3",
   "version": "3.12.6"
  }
 },
 "nbformat": 4,
 "nbformat_minor": 2
}
