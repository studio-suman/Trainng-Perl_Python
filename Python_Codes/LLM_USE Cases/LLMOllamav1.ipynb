{
 "cells": [
  {
   "cell_type": "markdown",
   "metadata": {},
   "source": [
    "### LLM Model Demo"
   ]
  },
  {
   "cell_type": "code",
   "execution_count": null,
   "metadata": {},
   "outputs": [],
   "source": [
    "# Installed LangChain \n",
    "#%pip install langchain langchain-community faiss-cpu langchain-chroma langchain-openai langchain_text_splitters langgraph beautifulsoup4 langchain-huggingface"
   ]
  },
  {
   "cell_type": "code",
   "execution_count": null,
   "metadata": {},
   "outputs": [],
   "source": [
    "#%pip install langchain_huggingface\n",
    "#%pip install langchain"
   ]
  },
  {
   "cell_type": "code",
   "execution_count": null,
   "metadata": {},
   "outputs": [],
   "source": [
    "# First install any missing packages\n",
    "from langchain_core.messages import HumanMessage, SystemMessage\n",
    "from langchain_core.output_parsers import StrOutputParser\n",
    "from langchain_core.prompts import ChatPromptTemplate\n",
    "from langchain_community.document_loaders import PyPDFDirectoryLoader\n",
    "from langchain_community.vectorstores import FAISS\n",
    "from langchain.chains import RetrievalQA\n",
    "from langchain_ollama.llms import OllamaLLM\n",
    "from langchain_ollama import OllamaEmbeddings\n"
   ]
  },
  {
   "cell_type": "code",
   "execution_count": 2,
   "metadata": {},
   "outputs": [],
   "source": [
    "parser = StrOutputParser()\n",
    "llm = OllamaLLM(\n",
    "    model=\"llama3.2\",\n",
    "    top_k=3\n",
    "    )"
   ]
  },
  {
   "cell_type": "code",
   "execution_count": 3,
   "metadata": {},
   "outputs": [],
   "source": [
    "messages = [\n",
    "    SystemMessage(content=\"Translate the following from English into Bengali\"),\n",
    "    HumanMessage(content=\"hi!\"),\n",
    "]"
   ]
  },
  {
   "cell_type": "code",
   "execution_count": 4,
   "metadata": {},
   "outputs": [],
   "source": [
    "system_template = \"Translate the following into {language}:\"\n",
    "prompt_template = ChatPromptTemplate.from_messages(\n",
    "    [(\"system\", system_template), (\"user\", \"{text}\")]\n",
    ")"
   ]
  },
  {
   "cell_type": "code",
   "execution_count": 5,
   "metadata": {},
   "outputs": [
    {
     "data": {
      "text/plain": [
       "'সর্বোত্তম শুভেচ্ছা! (Shubho shubho! - শুভেচ্ছা, a common Bengali greeting)\\n\\n(Note: The word \"hi\" is not typically used in formal greetings in Bengali. Instead, the phrase \"shubho shubho\" or simply \"shubhobroto\" are more commonly used.)'"
      ]
     },
     "execution_count": 5,
     "metadata": {},
     "output_type": "execute_result"
    }
   ],
   "source": [
    "result = llm.invoke(messages)\n",
    "parser.invoke(result)"
   ]
  },
  {
   "cell_type": "code",
   "execution_count": 6,
   "metadata": {},
   "outputs": [
    {
     "data": {
      "text/plain": [
       "\"আপনি কেমন আছেন? (Aponi kemon achhen?)\\n\\nHere's a more informal version:\\n\\nকেমন আছেন? (Kemn achhen?)\""
      ]
     },
     "execution_count": 6,
     "metadata": {},
     "output_type": "execute_result"
    }
   ],
   "source": [
    "chain = prompt_template | llm | parser\n",
    "chain.invoke({\"language\": \"bengali\", \"text\": \"how are you doing\"})"
   ]
  },
  {
   "cell_type": "code",
   "execution_count": 7,
   "metadata": {},
   "outputs": [
    {
     "data": {
      "text/plain": [
       "\"To determine the average distance of Earth from the Sun, let's break it down into steps:\\n\\n1. **Understanding Units**: We'll be working with astronomical units (AU). 1 AU is equal to about 93 million miles or 149.6 million kilometers.\\n\\n2. **Identifying Average Distance**: The average distance between Earth and the Sun is approximately 93 million miles or 149.6 million kilometers. This distance can vary slightly over the course of a year due to the elliptical shape of Earth's orbit, but for most practical purposes, this value serves as our standard.\\n\\n3. **Additional Context (Optional)**: It's worth noting that the closest point in an Earth-Sun orbit is called perihelion and occurs around early January. At this point, Earth is about 91.5 million miles from the Sun, which is a slightly shorter distance than its average distance. The farthest point, aphelion, happens in early July when Earth is approximately 94.5 million miles away.\\n\\nSo, to summarize, the average distance of Earth from the Sun is roughly 93 million miles or 149.6 million kilometers.\""
      ]
     },
     "execution_count": 7,
     "metadata": {},
     "output_type": "execute_result"
    }
   ],
   "source": [
    "template = \"\"\"Question: {question}\n",
    "\n",
    "Answer: Let's think step by step.\"\"\"\n",
    "\n",
    "prompt = ChatPromptTemplate.from_template(template)\n",
    "\n",
    "llm = OllamaLLM(\n",
    "    model=\"llama3.2\",\n",
    "    top_k=3\n",
    "    )\n",
    "\n",
    "chain = prompt | llm\n",
    "\n",
    "chain.invoke({\"question\": \"How far Earth from Sun?\"})"
   ]
  },
  {
   "cell_type": "code",
   "execution_count": null,
   "metadata": {},
   "outputs": [],
   "source": [
    "\n",
    "# Load documents from a local folder\n",
    "def load_documents_from_folder(folder_path):\n",
    "    #loader = DirectoryLoader(folder_path,glob=\"**/*.pdf\",show_progress=True)\n",
    "    loader = PyPDFDirectoryLoader(folder_path)\n",
    "    documents = loader.load()\n",
    "    return documents\n",
    "\n",
    "# Embed and vectorize documents using FAISS\n",
    "def embed_and_vectorize_documents(documents):\n",
    "    embeddings = OllamaEmbeddings(model=\"llama3.2\")\n",
    "    vector_store = FAISS.from_documents(documents, embeddings)\n",
    "    return vector_store\n",
    "\n",
    "# Implement RAG\n",
    "def implement_rag(vector_store, query):\n",
    "    llm  = OllamaLLM(\n",
    "    model=\"llama3.2\"\n",
    "    )\n",
    "    retriever = vector_store.as_retriever()\n",
    "    rag_chain = RetrievalQA(llm=llm, retriever=retriever)\n",
    "    result = rag_chain.run(query)\n",
    "    return result\n",
    "\n",
    "messages = [\n",
    "    SystemMessage(content=\"As Technical Recruiter Evaluate the following resumes\"),\n",
    "    HumanMessage(content=\"Hello Recruiter\"),\n",
    "]\n",
    "\n",
    "system_template = \"Translate the following into {language}:\"\n",
    "\n",
    "\"\"\"prompt_template = ChatPromptTemplate.from_messages(\n",
    "    [(\"system\", system_template), (\"user\", \"{text}\")]\n",
    ") \"\"\"\n",
    "\n",
    "if __name__ == \"__main__\":\n",
    "    folder_path = r\"C:\\Users\\HSASS\\OneDrive - Wipro\\Desktop\\Temp2\\Resume\"\n",
    "    query = ChatPromptTemplate.from_messages(\n",
    "    [(\"system\", system_template), (\"user\", \"{text}\")])\n",
    "\n",
    "    # Load documents\n",
    "    documents = load_documents_from_folder(folder_path)\n",
    "\n",
    "    # Embed and vectorize documents\n",
    "    vector_store = embed_and_vectorize_documents(documents)\n",
    "\n",
    "    # Implement RAG and get the result\n",
    "    result = implement_rag(vector_store, query)\n",
    "    print(result)\n",
    "    "
   ]
  },
  {
   "cell_type": "code",
   "execution_count": null,
   "metadata": {},
   "outputs": [],
   "source": []
  }
 ],
 "metadata": {
  "kernelspec": {
   "display_name": ".venv",
   "language": "python",
   "name": "python3"
  },
  "language_info": {
   "codemirror_mode": {
    "name": "ipython",
    "version": 3
   },
   "file_extension": ".py",
   "mimetype": "text/x-python",
   "name": "python",
   "nbconvert_exporter": "python",
   "pygments_lexer": "ipython3",
   "version": "3.12.6"
  }
 },
 "nbformat": 4,
 "nbformat_minor": 2
}
