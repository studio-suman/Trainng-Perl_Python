{
 "cells": [
  {
   "cell_type": "code",
   "execution_count": 2,
   "metadata": {},
   "outputs": [],
   "source": [
    "import os\n",
    "import pandas as pd\n",
    "from pydantic import Extra\n",
    "import requests\n",
    "from typing import Any, List, Mapping, Optional\n",
    "import concurrent.futures\n",
    "from tqdm import tqdm\n",
    "from time import sleep\n",
    "\n",
    "\n",
    "from langchain.callbacks.manager import CallbackManagerForLLMRun\n",
    "from langchain.llms.base import LLM\n",
    "from langchain_core.output_parsers import StrOutputParser\n",
    "from dotenv import load_dotenv\n",
    "# Run chain\n",
    "import warnings\n",
    "warnings.filterwarnings('ignore')"
   ]
  },
  {
   "cell_type": "code",
   "execution_count": 3,
   "metadata": {},
   "outputs": [],
   "source": [
    "load_dotenv()\n",
    "token = os.environ[\"TOKEN2\"]"
   ]
  },
  {
   "cell_type": "code",
   "execution_count": 4,
   "metadata": {},
   "outputs": [],
   "source": [
    "from typing import ClassVar\n",
    "\n",
    "parser = StrOutputParser()\n",
    "\n",
    "class LlamaLLM(LLM):\n",
    "    llm_url: ClassVar[str] = 'https://api.lab45.ai/v1.1/skills/completion/query'\n",
    "    \n",
    "    backend:        Optional[str]   = 'gpt-35-turbo-16k'\n",
    "    temp:           Optional[float] = 0.7\n",
    "    top_p:          Optional[float] = 0.1\n",
    "    top_k:          Optional[int]   = 40\n",
    "    n_batch:        Optional[int]   = 8\n",
    "    n_threads:      Optional[int]   = 4\n",
    "    n_predict:      Optional[int]   = 256\n",
    "    max_tokens:     Optional[int]   = 256\n",
    "    repeat_last_n:  Optional[int]   = 64\n",
    "    repeat_penalty: Optional[float] = 1.18\n",
    "\n",
    "    class Config:\n",
    "        extra = Extra.forbid\n",
    "\n",
    "    @property\n",
    "    def _llm_type(self) -> str:\n",
    "        return \"gpt-35-turbo-16k\"\n",
    "    \n",
    "    @property\n",
    "    def _get_model_default_parameters(self):\n",
    "        return {\n",
    "            \"max_tokens\": self.max_tokens,\n",
    "            #\"n_predict\": self.n_predict,\n",
    "            \"top_k\": self.top_k,\n",
    "            \"top_p\": self.top_p,\n",
    "            \"temperature\": self.temp,\n",
    "            #\"n_batch\": self.n_batch,\n",
    "            #\"repeat_penalty\": self.repeat_penalty,\n",
    "            #\"repeat_last_n\": self.repeat_last_n,\n",
    "        }\n",
    "\n",
    "    def _call(\n",
    "        self,\n",
    "        prompt: str,\n",
    "        user: str,\n",
    "        stop: Optional[List[str]] = None,\n",
    "        run_manager: Optional[CallbackManagerForLLMRun] = None,\n",
    "        **kwargs: Any,\n",
    "    ) -> str:\n",
    "        if stop is not None:\n",
    "            raise ValueError(\"stop kwargs are not permitted.\")\n",
    "\n",
    "        payload = {\n",
    "        \"messages\": [\n",
    "            {\n",
    "            \"content\": prompt,\n",
    "            \"role\": user\n",
    "            }\n",
    "        ],\n",
    "        \"skill_parameters\": {\n",
    "            \"model_name\": \"gpt-35-turbo-16k\",\n",
    "            \"max_output_tokens\": 4096,\n",
    "            \"temperature\": 0,\n",
    "            \"top_k\": 5\n",
    "        },\n",
    "        \"stream_response\": False\n",
    "        }\n",
    "\n",
    "        headers = {\"Content-Type\": \"application/json\",\"Authorization\": token}\n",
    "\n",
    "        response = requests.post(self.llm_url, json=payload, headers=headers, verify=False)\n",
    "\n",
    "       # print(\"API Response:\", response.json())\n",
    "        response.raise_for_status()\n",
    "\n",
    "        return response.json()  # get the response from the API\n",
    "\n",
    "    @property\n",
    "    def _identifying_params(self) -> Mapping[str, Any]:\n",
    "        \"\"\"Get the identifying parameters.\"\"\"\n",
    "        return {\n",
    "            \"llmUrl\": self.llm_url,\n",
    "            'model_parameters': self._get_model_default_parameters\n",
    "            }"
   ]
  },
  {
   "cell_type": "code",
   "execution_count": 5,
   "metadata": {},
   "outputs": [],
   "source": [
    "llm = LlamaLLM()"
   ]
  },
  {
   "cell_type": "code",
   "execution_count": 6,
   "metadata": {},
   "outputs": [],
   "source": [
    "ROLE_CLUSTER_MASTER = pd.read_csv(r\"D:\\OneDrive - Wipro\\Desktop\\Static Dumps\\Role-Skill-Cluster Master Report.csv\")"
   ]
  },
  {
   "cell_type": "code",
   "execution_count": 7,
   "metadata": {},
   "outputs": [
    {
     "data": {
      "application/vnd.microsoft.datawrangler.viewer.v0+json": {
       "columns": [
        {
         "name": "index",
         "rawType": "int64",
         "type": "integer"
        },
        {
         "name": "CLUSTER_NAME",
         "rawType": "object",
         "type": "string"
        },
        {
         "name": "SKILL_NAME",
         "rawType": "object",
         "type": "string"
        }
       ],
       "conversionMethod": "pd.DataFrame",
       "ref": "28e7af55-cfdd-4885-9043-518e720be969",
       "rows": [
        [
         "0",
         "SENIOR CONSULTANT - TECH AND IMPL CONSUMER GOODS-VCO - L1",
         "SSIS (L2), Application Testing (L2), Business Analysis (L1), Agile-Scrum (L1), SaaS (L2), Consumer Goods Value Chain Optimization (L2), BY Warehouse management System (L2)"
        ],
        [
         "1",
         "LEAD ADMINISTRATOR VMWARE AWS CLOUD - L1",
         "VMware Server Admin (L3), Windows and Vmware Implementation (L2), VMC Vmware on AWS (L3), Vmware HCX (L2)"
        ],
        [
         "2",
         "Tools Engineer ASSET MANAGEMENT -SNOW - L3",
         "ITIL Asset-Config Mgmt (L1), Software Asset Management (L1), IT Hardware Asset Management (L1), SNOW Software Asset Management (L2)"
        ],
        [
         "3",
         "DOMAIN CONSULTANT CORE BANKING - L2",
         "Core Banking (L2), Payments (L1)"
        ],
        [
         "4",
         "TEST LEAD TEST DATA MANAGEMENT - L1",
         "Mainframe Testing (L1), Python Scripting (L1), Informatica ILM TDM (L2), Broadcom TDM (L3)"
        ],
        [
         "5",
         "PRODUCT ARCHITECT PRODUCT TEST AUTOMATION API - L1",
         "Core Java (L3), Solution Architecture (L1), Black Box Testing (L3), JAX-RS - Java API- RESTful Web Services (L3), Product Test Automation (L3)"
        ],
        [
         "6",
         "PARTNER - ADV. AND MGMT UPSTREAM APPLICATION DEVELOPMENT - L1",
         "C# - CSharp-Programming (L3), .NET (L3), Upstream - Oil and Gas (L3), Upstream Application Development (L4), Unit Testing (L3)"
        ],
        [
         "7",
         "TECHNO FUNCTIONAL CONSULTANT JD EDWARDS WORLDSOFT TECHNICAL - L2",
         "Consulting (L1), AS400 (L2), JDEdwards Worldsoft Technical (L4), JDEdwards Distribution and Logistics (L1), JDEdwards Worldsoft RPGILE (L4)"
        ],
        [
         "8",
         "APPLICATION ARCHITECT L2",
         "Architectural Patterns (L2), Architectural Patterns (L2), Architectural Patterns (L2), Architectural Patterns (L2), Architecture and Design Methods (L2), Architecture and Design Methods (L2), Architecture and Design Methods (L2), Architecture and Design Methods (L2), Architecting (L2), Architecting (L2), Architecting (L2), Architecting (L2), Effective Communication (L1), Effective Communication (L1), Effective Communication (L1), Effective Communication (L1), App Modernization - Architecture (L2), App Modernization - Architecture (L2), App Modernization - Architecture (L2), App Modernization - Architecture (L2)"
        ],
        [
         "9",
         "CLIENT ENGAGEMENT PARTNER L3",
         "Business Analysis (L2), Business Analysis (L2), Business Analysis (L2), Business Analysis (L2), Client Centricity (L3), Client Centricity (L3), Client Centricity (L3), Client Centricity (L3), Strategic Perspective (L3), Strategic Perspective (L3), Strategic Perspective (L3), Strategic Perspective (L3)"
        ],
        [
         "10",
         "FINANCE - BRS PROCESSOR L4",
         "Corporate Banking (L3), Financial Analysis (L3), Financial Management (L2), Account Reconciliation (L3), Accounts Receivables (L2)"
        ],
        [
         "11",
         "DEVELOPER APPIAN - L4",
         "Appian (L4), Xceptor (L1)"
        ],
        [
         "12",
         "FINANCE - PRICING LEAD L1",
         "Finance and Accounting (L1), Cost Benefit Interpretation (L2), Financial Management (L1), Operations Management (L1), Financial Planning & Analysis (L2)"
        ],
        [
         "13",
         "DOMAIN CONSULTANT ACTIMIZE - L1",
         "Actimize (L1), Institutional Compliance (L1)"
        ],
        [
         "14",
         "TECHNO FUNCTIONAL CONSULTANT VMWARE AZURE CLOUD - L1",
         "Windows Server Admin (L2), VMware Server Admin (L3), Windows and Vmware Implementation (L2), Datacenter - Wintel Stack (L1), Infra Consulting (L1), Azure Vmware Service (L2)"
        ],
        [
         "15",
         "DEVELOPER MAINFRAME IDMS - L1",
         "DB2 - Z/OS Application Programming (L1), JCL - Job Control Language (L1), COBOL (L1), VSAM (L1), CA-IDMS (L1)"
        ],
        [
         "16",
         "DEVELOPER COLDFUSION - L3",
         "UNIX SHELL PROGRAMMING (L3), ColdFusion (L3)"
        ],
        [
         "17",
         "PRACTICE HEAD L2",
         "Client Centricity (L3), Stakeholder Management (L3), Strategic Perspective (L3), Sales (L3), Leadership (L3), Finance (L3), Solutioning (L3)"
        ],
        [
         "18",
         "CORPORATE COMMUNICATION EXECUTIVE L1",
         "Effective Communication (L1), Business Analyst/ Data Analyst(Media) (L1), Communcations & Culture (L1)"
        ],
        [
         "19",
         "DOMAIN ENGAGEMENT PARTNER INVESTMENT BANKING - RISK AND COMPLIANCE - L3",
         "Delivery Management (L2), Program Management (L4), Investment Banking (L4), Institutional Compliance (L4)"
        ],
        [
         "20",
         "PRODUCTION SPECIALIST INSURANCE - BEREAVEMENT  - L2",
         "Insurance Products (L3), Communcations & Culture (L3), Defined Benefit (DB) (L3), Defined Contributions (DC) (L3)"
        ],
        [
         "21",
         "VLSI ENGINEER DFT - L3",
         "ATPG VLSI Test Pattern Generation (L3), Boundary and Scan synthesis (L1), VLSI Memory BIST and Boundary SCAN (L2), VLSI Design For Testability - DFT (L3)"
        ],
        [
         "22",
         "TECHNOLOGY ARCHITECT DATACOM LAYER2 - L1",
         "Linux Systems Programming (L2), C Programming (L2), Telecom Switching Routing NE Layer2 SW (L2), Linux Application Programming (L2)"
        ],
        [
         "23",
         "DEVELOPER AUTOMOTIVE SAFETY AND COMPLIANCE - L1",
         "ASPICE (L1), Automotive Functional Safety (L1)"
        ],
        [
         "24",
         "ASSOCIATE HR - BACKGROUND VERIFICATION L2",
         "Effective Communication (L1), Human Resources (L2), MIS (L1), WHRS - Resource Management (L1)"
        ],
        [
         "25",
         "FINANCE - AP HEAD L1",
         "Finance and Accounting (L3), Financial Services (L2), Effective Communication (L1), Account Performance Analysis (L2), Accounts Receivables (L3), Financial Planning & Analysis (L3)"
        ],
        [
         "26",
         "PRODUCTION SPECIALIST HEALTHCARE PHARMACOVIGILANCE - CASE INTAKE REGISTRATION AND PROCESSING - L1",
         "Pharmacovigilance &DrugSafety(Med Device (L2), Pharmacovigilance & Drug Safety(Pharma) (L2), Pharmacovigilance& Drug Safety(Pharm-CX) (L2)"
        ],
        [
         "27",
         "DEVELOPER .NET CORE - L1",
         "ADO.NET Entity Framework (L1), ASP.NET Web API (L1), ASP.NET Core (L1)"
        ],
        [
         "28",
         "CYBER SECURITY ARCHITECT VULNERABILITY ASSESMENT AND PENETRATION TESTING - L2",
         "Architecting (L2), Web Penetration Testing - SAC (L4), Vulnerability Management (L4), Penetration Testing - PT (L4)"
        ],
        [
         "29",
         "LEAD ADMINISTRATOR WSIC IOT - L2",
         "Python Scripting (L2), M365 PowerShell (L2), Node JS (L1), WSiC-IoT platform (L3), WSiC-IoT edge App (L3), WSiC-IoT edge gateway devices (L2), WSiC-Platform Support (L3), WSiC Integrated Building Mgmt System (L2), WSiC Video analytics (L1), WSiC Agent firmware (L1)"
        ],
        [
         "30",
         "LEAD ADMINISTRATOR WIRELESS ADMIN - L3",
         "Network Data Admin (L3), CISCO Wireless Admin (L3), SD-WAN Admin (L1), Aruba Wireless Admin (L3)"
        ],
        [
         "31",
         "Developer Enterprise Platform Engineering Frontend Angular - L1",
         "Enterprise Platform UI Frameworks (L1), Enterprise Platform Engineering FrontEnd (L1), Angular 14 (L1)"
        ],
        [
         "32",
         "Technical Consultant SAP ALM - L2",
         "SAP Solution Manager (L3), DevOps (L3), SAP Activate Methodology (L3), SAP BTP AI/ML (L3), SAP Cloud ALM (L3), SAP BTP Admin (L3)"
        ],
        [
         "33",
         "ADMINISTRATOR PLM - TEAMCENTER - L3",
         "PLM-Teamcenter Application (L2), PLM-TeamCenter Administration (L3)"
        ],
        [
         "34",
         "BUSINESS ANALYST INFOR EAM FUNCTIONAL - L3",
         "Business Analysis (L3), Infor EAM - Functional (L2)"
        ],
        [
         "35",
         "DOMAIN CONSULTANT MARKET RISK - L4",
         "Market Risk (L3), Institutional Compliance (L4)"
        ],
        [
         "36",
         "SOLUTION ARCHITECT AS400 ARCHITECTING - L1",
         "AS400 - Architecting (L1), Legacy Modernization (L1)"
        ],
        [
         "37",
         "DEVELOPER PYTHON FOR DATA SCIENCE - L1",
         "Python Scripting (L1), Python for Data Science (L1)"
        ],
        [
         "38",
         "CONFIGURATOR HCM CORE - L1",
         "SAP HCM Core (L1), SAP HCM Core (L1), SAP HCM Core (L1), SAP HCM Core (L1), SAP HCM - CATS (L1), SAP HCM - CATS (L1), SAP HCM - CATS (L1), SAP HCM - CATS (L1)"
        ],
        [
         "39",
         "SOLUTION ARCHITECT PLM - TEAMCENTER - L2",
         "Solution Architecture (L2), PLM-Teamcenter-Architecture (L2)"
        ],
        [
         "40",
         "DOMAIN CONSULTANT CETRM-ALLEGRO - L3",
         ".NET (L3), Python Scripting (L2), ETRM Energy Trading and Risk Management (L4), Business Analysis (L3), Project Management ADM (L3), Allegro (L4), Quality Assurance (L3), Azure DevOps Operations (L3)"
        ],
        [
         "41",
         "DEVELOPER AUTOMOTIVE SAFETY AND COMPLIANCE - L3",
         "ASPICE (L2), Automotive Functional Safety (L2)"
        ],
        [
         "42",
         "CYBER SECURITY ANALYST ACCESS MANAGEMENT OKTA - L1",
         "PKI - Certificate Management (L1), OKTA - Identity and Access Management (L1), Multi Factor Authentication (MFA) (L1)"
        ],
        [
         "43",
         "Solution Architect ITOM  - BroadCom - L1",
         "Windows Server Admin (L1), Unix Admin (L1), Consulting (L2), Kubernetes Containerization Integration (L1), CA Monitoring (L4), Cloud Engineering Private Cloud (L1), Broadcom DX NetOps (L4), Broadcom DX OI (L4), Broadcom DX UIM (L4)"
        ],
        [
         "44",
         "DEVELOPER CONTENTFUL CAMPAIGN - L1",
         "Java-J2EE (L1), Spring Boot (L1), Microservices (L1), Product Content Management (L1)"
        ],
        [
         "45",
         "DEVELOPER BLUEYONDER- DEMAND & FULFILLMENT PLANNING - L1",
         "PL-SQL (L1), BY Supply Chain- Demand management (L1), BY Supply Chain - Fulfilment Management (L1)"
        ],
        [
         "46",
         "TEST ENGINEER AI - PRODUCT SOFTWARE TESTING - L3",
         "Artifical Intelligence Testing (L3), AI/ML App Testing (L3), AI Model testing (L3), AI for Product Software Engineering (L2), AI Augmented Product Testing (L3)"
        ],
        [
         "47",
         "TEST LEAD APPLICATION TESTING - L1",
         "Application Testing (L3), JIRA (L3), Application Lifecycle Management - ALM (L3), Project Delivery (L2), Consulting(Automation) (L3)"
        ],
        [
         "48",
         "Designit Test Engineer L4",
         "Mobile handset device testing (L3), Scalability Testing (L2), Performance Test Engineering (L2), Artifical Intelligence Testing (L3), AI/ML App Testing (L3), Designit Designer (L3), Playwright (L2)"
        ],
        [
         "49",
         "Designit CXP and Crisis Management Lead L4",
         "Cloud-Microsoft Azure (L4), Leadership (L4), Data Visualization (L4), Critical Incident Response (L4)"
        ]
       ],
       "shape": {
        "columns": 2,
        "rows": 8044
       }
      },
      "text/html": [
       "<div>\n",
       "<style scoped>\n",
       "    .dataframe tbody tr th:only-of-type {\n",
       "        vertical-align: middle;\n",
       "    }\n",
       "\n",
       "    .dataframe tbody tr th {\n",
       "        vertical-align: top;\n",
       "    }\n",
       "\n",
       "    .dataframe thead th {\n",
       "        text-align: right;\n",
       "    }\n",
       "</style>\n",
       "<table border=\"1\" class=\"dataframe\">\n",
       "  <thead>\n",
       "    <tr style=\"text-align: right;\">\n",
       "      <th></th>\n",
       "      <th>CLUSTER_NAME</th>\n",
       "      <th>SKILL_NAME</th>\n",
       "    </tr>\n",
       "  </thead>\n",
       "  <tbody>\n",
       "    <tr>\n",
       "      <th>0</th>\n",
       "      <td>SENIOR CONSULTANT - TECH AND IMPL CONSUMER GOO...</td>\n",
       "      <td>SSIS (L2), Application Testing (L2), Business ...</td>\n",
       "    </tr>\n",
       "    <tr>\n",
       "      <th>1</th>\n",
       "      <td>LEAD ADMINISTRATOR VMWARE AWS CLOUD - L1</td>\n",
       "      <td>VMware Server Admin (L3), Windows and Vmware I...</td>\n",
       "    </tr>\n",
       "    <tr>\n",
       "      <th>2</th>\n",
       "      <td>Tools Engineer ASSET MANAGEMENT -SNOW - L3</td>\n",
       "      <td>ITIL Asset-Config Mgmt (L1), Software Asset Ma...</td>\n",
       "    </tr>\n",
       "    <tr>\n",
       "      <th>3</th>\n",
       "      <td>DOMAIN CONSULTANT CORE BANKING - L2</td>\n",
       "      <td>Core Banking (L2), Payments (L1)</td>\n",
       "    </tr>\n",
       "    <tr>\n",
       "      <th>4</th>\n",
       "      <td>TEST LEAD TEST DATA MANAGEMENT - L1</td>\n",
       "      <td>Mainframe Testing (L1), Python Scripting (L1),...</td>\n",
       "    </tr>\n",
       "    <tr>\n",
       "      <th>...</th>\n",
       "      <td>...</td>\n",
       "      <td>...</td>\n",
       "    </tr>\n",
       "    <tr>\n",
       "      <th>8039</th>\n",
       "      <td>Solution Architect Enterprise Asset Management...</td>\n",
       "      <td>Solution Architecture (L1), IBM Maximo Asset M...</td>\n",
       "    </tr>\n",
       "    <tr>\n",
       "      <th>8040</th>\n",
       "      <td>Solution Architect BSM AUTOMATION - BMC - L1</td>\n",
       "      <td>Consulting (L2), VB Scripting (L2), BMC BladeL...</td>\n",
       "    </tr>\n",
       "    <tr>\n",
       "      <th>8041</th>\n",
       "      <td>Functional Consultant SAP Source To Pay Ariba ...</td>\n",
       "      <td>Ariba Upstream (L3), Ariba Downstream (L3), SA...</td>\n",
       "    </tr>\n",
       "    <tr>\n",
       "      <th>8042</th>\n",
       "      <td>TECHNO FUNCTIONAL CONSULTANT PRIVILEGE ACCESS ...</td>\n",
       "      <td>Consulting (L2), BeyondTrust (L3)</td>\n",
       "    </tr>\n",
       "    <tr>\n",
       "      <th>8043</th>\n",
       "      <td>TEST CONSULTANT SERVICE VIRTUALIZATION - L4</td>\n",
       "      <td>Application Test Consulting (L4), Service Virt...</td>\n",
       "    </tr>\n",
       "  </tbody>\n",
       "</table>\n",
       "<p>8044 rows × 2 columns</p>\n",
       "</div>"
      ],
      "text/plain": [
       "                                           CLUSTER_NAME  \\\n",
       "0     SENIOR CONSULTANT - TECH AND IMPL CONSUMER GOO...   \n",
       "1              LEAD ADMINISTRATOR VMWARE AWS CLOUD - L1   \n",
       "2            Tools Engineer ASSET MANAGEMENT -SNOW - L3   \n",
       "3                   DOMAIN CONSULTANT CORE BANKING - L2   \n",
       "4                   TEST LEAD TEST DATA MANAGEMENT - L1   \n",
       "...                                                 ...   \n",
       "8039  Solution Architect Enterprise Asset Management...   \n",
       "8040       Solution Architect BSM AUTOMATION - BMC - L1   \n",
       "8041  Functional Consultant SAP Source To Pay Ariba ...   \n",
       "8042  TECHNO FUNCTIONAL CONSULTANT PRIVILEGE ACCESS ...   \n",
       "8043        TEST CONSULTANT SERVICE VIRTUALIZATION - L4   \n",
       "\n",
       "                                             SKILL_NAME  \n",
       "0     SSIS (L2), Application Testing (L2), Business ...  \n",
       "1     VMware Server Admin (L3), Windows and Vmware I...  \n",
       "2     ITIL Asset-Config Mgmt (L1), Software Asset Ma...  \n",
       "3                      Core Banking (L2), Payments (L1)  \n",
       "4     Mainframe Testing (L1), Python Scripting (L1),...  \n",
       "...                                                 ...  \n",
       "8039  Solution Architecture (L1), IBM Maximo Asset M...  \n",
       "8040  Consulting (L2), VB Scripting (L2), BMC BladeL...  \n",
       "8041  Ariba Upstream (L3), Ariba Downstream (L3), SA...  \n",
       "8042                  Consulting (L2), BeyondTrust (L3)  \n",
       "8043  Application Test Consulting (L4), Service Virt...  \n",
       "\n",
       "[8044 rows x 2 columns]"
      ]
     },
     "execution_count": 7,
     "metadata": {},
     "output_type": "execute_result"
    }
   ],
   "source": [
    "ROLE_CLUSTER_MASTER_REQD=ROLE_CLUSTER_MASTER[['CLUSTER_NAME','SKILL_NAME']]\n",
    "ROLE_CLUSTER_MASTER_REQD"
   ]
  },
  {
   "cell_type": "code",
   "execution_count": 8,
   "metadata": {},
   "outputs": [],
   "source": [
    "# JD = []\n",
    "# y = 0\n",
    "# z = 3\n",
    "# for i, row in enumerate(ROLE_CLUSTER_MASTER_REQD.itertuples()):\n",
    "#   if y <= i <= z:  \n",
    "#     print(i)\n",
    "#     skills=row.SKILL_NAME\n",
    "#     title=row.CLUSTER_NAME\n",
    "#     company=\"Wipro Ltd.\"\n",
    "#     user = \"user\"\n",
    "#     prompt = \"\"\" As a skilled Technical Interview Panel with expertise in technology and content writing , your role is to meticulously evaluate skills and title provided and give detailed job description having below points outlined.\n",
    "#                 Use the mentioned skills along with proficiency  & title to generate the job description, where L1 means Beginner, L2 means Intermediate, L3 means Advanced, and L4 means Expert,\n",
    "#                 Job Role: \n",
    "#                 Give skill specified by user\n",
    "#                 Clearly state the role/title of the position and give brief summary of the role/title in 3-4 lines\n",
    "\n",
    "#                 Key Responsibilities:\n",
    "#                 Title/Role will have overall impact on responsibilities\n",
    "#                 Utilize expertise in [Key Skill 1] and [title/Role] to [Responsibility 1] .\n",
    "#                 Apply advanced knowledge of [Key Skill 2]  to [Responsibility 2].\n",
    "#                 Demonstrate proficiency in [Key Skill 3] to [Responsibility 3].\n",
    "#                 Utilize [Key Skill 4]  to [Responsibility 4].\n",
    "#                 Apply [Key Skill 5] to [Responsibility 5].\n",
    "\n",
    "#                 Qualifications and Skills:\n",
    "\n",
    "#                 Proficiency in [Key Skill 1] is essential for this role, with a strong focus on [Specific Requirement].\n",
    "#                 Advanced knowledge of [Key Skill 2] is highly desirable, with the ability to [Specific Requirement].\n",
    "#                 Familiarity with [Key Skill 3] is beneficial, with the capacity to [Specific Requirement].\n",
    "#                 Experience in [Key Skill 4] is advantageous, with the ability to [Specific Requirement].\n",
    "#                 Proficiency in [Key Skill 5] is preferred, with the capability to [Specific Requirement].\n",
    "\n",
    "#                 Experience Requirements:\n",
    "\n",
    "#                 A minimum of [Number of Years] years of relevant experience in [Industry/Field].\n",
    "#                 Previous experience in [Specific Type of Experience] is beneficial, with a focus on [Relevant Proficiency].\n",
    "#                 Demonstrated proficiency in [Key Skill 1] and [Key Skill 2] through [Type of Experience].\n",
    "#                 Proven track record of applying [Key Skill 3] and [Key Skill 4] in [Type of Experience].\n",
    "\n",
    "#                 \"\"\" + skills + title + company # type: ignore\n",
    "#     result = llm._call(prompt,user)\n",
    "#     parsed_result = result['data']['content'] # type: ignore\n",
    "#     JD.append(\"CLUSTER NAME :\"+title +'\\n'+\"CLUSTER SKILLS : \"+skills+'\\n'+parsed_result+'\\n'+'\\n'+'\\n'+'\\n') # type: ignore\n"
   ]
  },
  {
   "cell_type": "code",
   "execution_count": 9,
   "metadata": {},
   "outputs": [],
   "source": [
    "temprompt = \"\"\" As a skilled Technical Interview Panel with expertise in technology and content writing , your role is to meticulously evaluate skills and title provided and give detailed job description having below points outlined.\n",
    "                Use the mentioned skills along with proficiency  & title to generate the job description, where L1 means Beginner, L2 means Intermediate, L3 means Advanced, and L4 means Expert,\n",
    "                Job Role: \n",
    "                Give skill specified by user\n",
    "                Clearly state the role/title of the position and give brief summary of the role/title in 3-4 lines\n",
    "\n",
    "                Key Responsibilities:\n",
    "                Title/Role will have overall impact on responsibilities\n",
    "                Utilize expertise in [Key Skill 1] and [title/Role] to [Responsibility 1] .\n",
    "                Apply advanced knowledge of [Key Skill 2]  to [Responsibility 2].\n",
    "                Demonstrate proficiency in [Key Skill 3] to [Responsibility 3].\n",
    "                Utilize [Key Skill 4]  to [Responsibility 4].\n",
    "                Apply [Key Skill 5] to [Responsibility 5].\n",
    "\n",
    "                Qualifications and Skills:\n",
    "\n",
    "                Proficiency in [Key Skill 1] is essential for this role, with a strong focus on [Specific Requirement].\n",
    "                Advanced knowledge of [Key Skill 2] is highly desirable, with the ability to [Specific Requirement].\n",
    "                Familiarity with [Key Skill 3] is beneficial, with the capacity to [Specific Requirement].\n",
    "                Experience in [Key Skill 4] is advantageous, with the ability to [Specific Requirement].\n",
    "                Proficiency in [Key Skill 5] is preferred, with the capability to [Specific Requirement].\n",
    "\n",
    "                Experience Requirements:\n",
    "\n",
    "                A minimum of [Number of Years] years of relevant experience in [Industry/Field].\n",
    "                Previous experience in [Specific Type of Experience] is beneficial, with a focus on [Relevant Proficiency].\n",
    "                Demonstrated proficiency in [Key Skill 1] and [Key Skill 2] through [Type of Experience].\n",
    "                Proven track record of applying [Key Skill 3] and [Key Skill 4] in [Type of Experience]. \"\"\""
   ]
  },
  {
   "cell_type": "code",
   "execution_count": 10,
   "metadata": {},
   "outputs": [],
   "source": [
    "def generate_jds(temprompt, start_index=0, end_index=1000):\n",
    "    \"\"\"\n",
    "    Generate Job Descriptions for a specific range of roles\n",
    "    \n",
    "    Parameters:\n",
    "    start_index (int): Starting index for processing\n",
    "    end_index (int): Ending index for processing\n",
    "    \"\"\"\n",
    "    JD = []\n",
    "    failed = []\n",
    "    \n",
    "\n",
    "    # Validate indices\n",
    "    if start_index < 0:\n",
    "        start_index = 0\n",
    "    if end_index > len(ROLE_CLUSTER_MASTER_REQD):\n",
    "        end_index = len(ROLE_CLUSTER_MASTER_REQD)\n",
    "    \n",
    "    try:\n",
    "        for i, row in enumerate(ROLE_CLUSTER_MASTER_REQD.itertuples()):\n",
    "            if start_index <= i <= end_index:\n",
    "                print(f\"Processing record {i} of {end_index}\")\n",
    "                #print(row)\n",
    "                skills = row.SKILL_NAME\n",
    "                title = row.CLUSTER_NAME\n",
    "                company = \"Wipro Ltd\"\n",
    "                user = \"user\"\n",
    "                \n",
    "                prompt = temprompt + skills + title + company # type: ignore\n",
    "                \n",
    "                try:\n",
    "                    result = llm._call(prompt, user)\n",
    "                    parsed_result = result['data']['content'] # type: ignore\n",
    "                    jd_entry = (\n",
    "                        f\"CLUSTER NAME: {title}\\n\"\n",
    "                        f\"CLUSTER SKILLS: {skills}\\n\"\n",
    "                        f\"{parsed_result}\\n\\n\\n\\n\"\n",
    "                    )\n",
    "                    JD.append(jd_entry)\n",
    "                except Exception as ce:\n",
    "                    print(f\"Connection error for index {i}: {ce}\")\n",
    "                    print(f\"Re-processing record {i}\")\n",
    "                    result = llm._call(prompt, user)\n",
    "                    parsed_result = result['data']['content'] # type: ignore\n",
    "                    jd_entry = (\n",
    "                        f\"CLUSTER NAME: {title}\\n\"\n",
    "                        f\"CLUSTER SKILLS: {skills}\\n\"\n",
    "                        f\"{parsed_result}\\n\\n\\n\\n\"\n",
    "                    )\n",
    "                    JD.append(jd_entry)\n",
    "                    continue\n",
    "                    \n",
    "    except Exception as e:\n",
    "        print(f\"Error processing record {i}: {str(e)}\")\n",
    "        failed.append(i)\n",
    "        sleep(15)\n",
    "        print(f\"Re-processing record {i}\")\n",
    "        result = llm._call(prompt, user)\n",
    "        parsed_result = result['data']['content'] # type: ignore\n",
    "        jd_entry = (\n",
    "                        f\"CLUSTER NAME: {title}\\n\"\n",
    "                        f\"CLUSTER SKILLS: {skills}\\n\"\n",
    "                        f\"{parsed_result}\\n\\n\\n\\n\"\n",
    "                    )\n",
    "        JD.append(jd_entry)  \n",
    "    \n",
    "    \n",
    "    return JD"
   ]
  },
  {
   "cell_type": "code",
   "execution_count": null,
   "metadata": {},
   "outputs": [],
   "source": [
    "# Example usage:\n",
    "# Generate JDs for n records\n",
    "jd_results = generate_jds(temprompt,5001, 6000)"
   ]
  },
  {
   "cell_type": "code",
   "execution_count": null,
   "metadata": {},
   "outputs": [
    {
     "name": "stdout",
     "output_type": "stream",
     "text": [
      "Writing to file complete....\n"
     ]
    }
   ],
   "source": [
    "# Save results to file\n",
    "with open('outfilenew', 'a') as f:\n",
    "    for jd in jd_results:\n",
    "        f.write(jd)\n",
    "print(\"Writing to file complete....\")"
   ]
  },
  {
   "cell_type": "code",
   "execution_count": 13,
   "metadata": {},
   "outputs": [],
   "source": [
    "# with open(\"outfilenew2\", \"w\") as outfile:\n",
    "#     outfile.write(\"\\n\".join(JD))"
   ]
  }
 ],
 "metadata": {
  "kernelspec": {
   "display_name": ".venv",
   "language": "python",
   "name": "python3"
  },
  "language_info": {
   "codemirror_mode": {
    "name": "ipython",
    "version": 3
   },
   "file_extension": ".py",
   "mimetype": "text/x-python",
   "name": "python",
   "nbconvert_exporter": "python",
   "pygments_lexer": "ipython3",
   "version": "3.12.6"
  }
 },
 "nbformat": 4,
 "nbformat_minor": 2
}
