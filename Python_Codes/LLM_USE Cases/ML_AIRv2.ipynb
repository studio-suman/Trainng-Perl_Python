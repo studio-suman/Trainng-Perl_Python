{
 "cells": [
  {
   "cell_type": "markdown",
   "metadata": {},
   "source": [
    "## Forecasting for AIR ML   "
   ]
  },
  {
   "cell_type": "code",
   "execution_count": 1,
   "metadata": {},
   "outputs": [],
   "source": [
    "import pandas as pd\n",
    "import numpy as np\n",
    "import statsmodels.api as sm\n",
    "import seaborn as sns\n",
    "import matplotlib.pyplot as plt\n",
    "from autots import AutoTS\n",
    "from sklearn.model_selection import train_test_split\n",
    "from sklearn.metrics import mean_squared_error, mean_absolute_error, r2_score\n",
    "import xgboost as xgb\n",
    "#from pmdarima import auto_arima\n",
    "color_pal = sns.color_palette()\n",
    "import warnings\n",
    "warnings.filterwarnings('ignore')\n",
    "\n",
    "%matplotlib inline"
   ]
  },
  {
   "cell_type": "code",
   "execution_count": 2,
   "metadata": {},
   "outputs": [
    {
     "data": {
      "application/vnd.microsoft.datawrangler.viewer.v0+json": {
       "columns": [
        {
         "name": "index",
         "rawType": "int64",
         "type": "integer"
        },
        {
         "name": "LOAD_DATE",
         "rawType": "object",
         "type": "string"
        },
        {
         "name": "SR_GUID",
         "rawType": "object",
         "type": "string"
        },
        {
         "name": "PROJECT_NUMBER",
         "rawType": "float64",
         "type": "float"
        },
        {
         "name": "PROJECT_NAME",
         "rawType": "object",
         "type": "string"
        },
        {
         "name": "PROJECT_DESCRIPTION",
         "rawType": "object",
         "type": "string"
        },
        {
         "name": "CUSTOMER_NO",
         "rawType": "float64",
         "type": "float"
        },
        {
         "name": "CUSTOMER_NAME",
         "rawType": "object",
         "type": "string"
        },
        {
         "name": "INDENT_STATUS",
         "rawType": "object",
         "type": "string"
        },
        {
         "name": "PROJECT_PROFIT_CENTER",
         "rawType": "object",
         "type": "string"
        },
        {
         "name": "PROJECT_PROFIT_CENTER_DESCRIPTION",
         "rawType": "object",
         "type": "string"
        },
        {
         "name": "DEM_ST_DATE",
         "rawType": "object",
         "type": "string"
        },
        {
         "name": "DEM_END_DATE",
         "rawType": "object",
         "type": "string"
        },
        {
         "name": "TM_ID",
         "rawType": "float64",
         "type": "float"
        },
        {
         "name": "TM_NAME",
         "rawType": "object",
         "type": "string"
        },
        {
         "name": "PM_ID",
         "rawType": "float64",
         "type": "float"
        },
        {
         "name": "PM_NAME",
         "rawType": "object",
         "type": "string"
        },
        {
         "name": "ESSENTIAL_SKILL",
         "rawType": "object",
         "type": "string"
        },
        {
         "name": "NO_OF_RESOURCES",
         "rawType": "int64",
         "type": "integer"
        },
        {
         "name": "PROPOSED",
         "rawType": "int64",
         "type": "integer"
        },
        {
         "name": "ALLOCATED",
         "rawType": "int64",
         "type": "integer"
        },
        {
         "name": "OPEN_POS",
         "rawType": "int64",
         "type": "integer"
        },
        {
         "name": "SR_ID",
         "rawType": "object",
         "type": "string"
        },
        {
         "name": "CREATED_ID",
         "rawType": "object",
         "type": "string"
        },
        {
         "name": "CREATED_ON",
         "rawType": "object",
         "type": "string"
        },
        {
         "name": "DERIVED_INDENT_CITY",
         "rawType": "object",
         "type": "string"
        },
        {
         "name": "DERIVED_INDENT_STATE",
         "rawType": "object",
         "type": "string"
        },
        {
         "name": "DERIVED_INDENT_COUNTRY",
         "rawType": "object",
         "type": "string"
        },
        {
         "name": "DERIVED_INDENT_GEOGRAPHY",
         "rawType": "object",
         "type": "string"
        },
        {
         "name": "AREA",
         "rawType": "object",
         "type": "string"
        },
        {
         "name": "ACCOUNT_ID",
         "rawType": "object",
         "type": "string"
        },
        {
         "name": "ACCOUNT_TEXT",
         "rawType": "object",
         "type": "string"
        },
        {
         "name": "INDENT_CCODE",
         "rawType": "object",
         "type": "string"
        },
        {
         "name": "IFP_EMP_NO",
         "rawType": "float64",
         "type": "float"
        },
        {
         "name": "IFP_EMP_NAME",
         "rawType": "object",
         "type": "string"
        },
        {
         "name": "CANCELLED_ON",
         "rawType": "object",
         "type": "string"
        },
        {
         "name": "EBD",
         "rawType": "object",
         "type": "string"
        },
        {
         "name": "INVOICE_TYPE",
         "rawType": "object",
         "type": "string"
        },
        {
         "name": "ROLE_ID",
         "rawType": "int64",
         "type": "integer"
        },
        {
         "name": "ROLE_DESCRIPTION",
         "rawType": "object",
         "type": "string"
        },
        {
         "name": "INDENT_STATE",
         "rawType": "object",
         "type": "string"
        },
        {
         "name": "GBL",
         "rawType": "object",
         "type": "string"
        },
        {
         "name": "SERVICE_LINE",
         "rawType": "object",
         "type": "string"
        },
        {
         "name": "PRACTICE",
         "rawType": "object",
         "type": "string"
        },
        {
         "name": "CANCELLATION_REASON",
         "rawType": "object",
         "type": "string"
        },
        {
         "name": "INDENT_CLASSIFICATIONS",
         "rawType": "object",
         "type": "string"
        },
        {
         "name": "SMU",
         "rawType": "object",
         "type": "string"
        },
        {
         "name": "SECTOR",
         "rawType": "object",
         "type": "string"
        },
        {
         "name": "JOBCODE",
         "rawType": "float64",
         "type": "float"
        },
        {
         "name": "PROJ_STAT",
         "rawType": "object",
         "type": "string"
        },
        {
         "name": "CANCELLED_NO",
         "rawType": "int64",
         "type": "integer"
        },
        {
         "name": "RESERVED",
         "rawType": "int64",
         "type": "integer"
        },
        {
         "name": "EXCL_FLAG",
         "rawType": "object",
         "type": "string"
        },
        {
         "name": "CANCELLED_BY",
         "rawType": "object",
         "type": "unknown"
        },
        {
         "name": "ACQ_SUP_EXCL_FLAG",
         "rawType": "object",
         "type": "string"
        },
        {
         "name": "POSITIONS_WITH_PROPOSALS",
         "rawType": "int64",
         "type": "integer"
        },
        {
         "name": "POSITIONS_WITHOUT_PROPOSALS",
         "rawType": "int64",
         "type": "integer"
        },
        {
         "name": "JC_CREATED_ON",
         "rawType": "object",
         "type": "unknown"
        },
        {
         "name": "INDENT_CREATED_ON",
         "rawType": "object",
         "type": "string"
        },
        {
         "name": "CUSTOMER_DISCUSSION_REQUIRED",
         "rawType": "object",
         "type": "string"
        },
        {
         "name": "CONTRACTOR_JC",
         "rawType": "float64",
         "type": "float"
        },
        {
         "name": "ZZCRMREFNO",
         "rawType": "object",
         "type": "string"
        },
        {
         "name": "SLDU",
         "rawType": "object",
         "type": "string"
        },
        {
         "name": "PROJECT_COUNTRY",
         "rawType": "object",
         "type": "string"
        },
        {
         "name": "FULFILMENT_CATEGORY",
         "rawType": "object",
         "type": "string"
        },
        {
         "name": "DEM_EXEC_VERTPRAC",
         "rawType": "object",
         "type": "unknown"
        },
        {
         "name": "DEM_EXEC_VERTPRAC_NAME",
         "rawType": "object",
         "type": "unknown"
        },
        {
         "name": "DEM_EXEC_BUSL",
         "rawType": "object",
         "type": "string"
        },
        {
         "name": "ADDITIONAL_SKILL_NAME_1",
         "rawType": "object",
         "type": "unknown"
        },
        {
         "name": "ADDITIONAL_SKILL_NAME_2",
         "rawType": "object",
         "type": "unknown"
        },
        {
         "name": "SEED",
         "rawType": "object",
         "type": "unknown"
        },
        {
         "name": "RESTRICT_FLAG",
         "rawType": "object",
         "type": "string"
        },
        {
         "name": "EXCLUSION",
         "rawType": "object",
         "type": "string"
        },
        {
         "name": "EXTERNAL_INTERNAL_DESC",
         "rawType": "object",
         "type": "string"
        },
        {
         "name": "EXCLUSION_REASON",
         "rawType": "object",
         "type": "unknown"
        },
        {
         "name": "DEMAND_BU_SL",
         "rawType": "object",
         "type": "string"
        },
        {
         "name": "DEMAND_VT_PRAC_NAME",
         "rawType": "object",
         "type": "string"
        },
        {
         "name": "RLS_ID",
         "rawType": "object",
         "type": "string"
        },
        {
         "name": "ORDER_STATUS",
         "rawType": "object",
         "type": "string"
        },
        {
         "name": "GRP_CUST_CODE",
         "rawType": "float64",
         "type": "float"
        },
        {
         "name": "SOW_NO",
         "rawType": "object",
         "type": "string"
        },
        {
         "name": "GBL_SLDU",
         "rawType": "object",
         "type": "string"
        },
        {
         "name": "EMP_NO",
         "rawType": "int64",
         "type": "integer"
        },
        {
         "name": "OPPORTUNITYID",
         "rawType": "object",
         "type": "string"
        },
        {
         "name": "LEGACY_DEMAND_ID",
         "rawType": "object",
         "type": "string"
        },
        {
         "name": "PRACTICE_PROFIT_CENTER",
         "rawType": "object",
         "type": "string"
        },
        {
         "name": "PRACTICE_PROFIT_CENTER_DESC",
         "rawType": "object",
         "type": "string"
        },
        {
         "name": "PROJECT_STATUS",
         "rawType": "object",
         "type": "string"
        },
        {
         "name": "DERIVED_INDENT_CITY2",
         "rawType": "object",
         "type": "unknown"
        },
        {
         "name": "DERIVED_INDENT_STATE2",
         "rawType": "object",
         "type": "unknown"
        },
        {
         "name": "DERIVED_INDENT_COUNTRY2",
         "rawType": "object",
         "type": "unknown"
        },
        {
         "name": "DERIVED_INDENT_CITY3",
         "rawType": "object",
         "type": "unknown"
        },
        {
         "name": "DERIVED_INDENT_STATE3",
         "rawType": "object",
         "type": "unknown"
        },
        {
         "name": "DERIVED_INDENT_COUNTRY3",
         "rawType": "object",
         "type": "unknown"
        },
        {
         "name": "SR_BAND",
         "rawType": "object",
         "type": "string"
        },
        {
         "name": "P2P_R2R_IND_FL",
         "rawType": "float64",
         "type": "float"
        },
        {
         "name": "UNIT_FLAG",
         "rawType": "object",
         "type": "string"
        },
        {
         "name": "GROUP_CUSTOMER_NAME",
         "rawType": "object",
         "type": "string"
        },
        {
         "name": "ENTITIES",
         "rawType": "object",
         "type": "string"
        },
        {
         "name": "RLS_BILLABILITY_TYPE",
         "rawType": "object",
         "type": "unknown"
        },
        {
         "name": "PM_EMAIL_ID",
         "rawType": "object",
         "type": "string"
        },
        {
         "name": "TM_EMAIL_ID",
         "rawType": "object",
         "type": "string"
        },
        {
         "name": "CROWD_SOURCING_ALLOWED",
         "rawType": "object",
         "type": "string"
        },
        {
         "name": "TOTAL_MTE_OPENINGS",
         "rawType": "int64",
         "type": "integer"
        },
        {
         "name": "TOTAL_MTE_ALLOCATED",
         "rawType": "int64",
         "type": "integer"
        },
        {
         "name": "TOTAL_INTERNAL_OPENINGS",
         "rawType": "int64",
         "type": "integer"
        },
        {
         "name": "TOTAL_INTERNAL_ALLOCATED",
         "rawType": "int64",
         "type": "integer"
        },
        {
         "name": "ZMTE_APPROVED_BY",
         "rawType": "object",
         "type": "unknown"
        },
        {
         "name": "ZMTE_APPROVED_ON",
         "rawType": "int64",
         "type": "integer"
        },
        {
         "name": "ZMTE_STATUS",
         "rawType": "object",
         "type": "unknown"
        },
        {
         "name": "ZMTE_JOB_CODE_TYPE",
         "rawType": "object",
         "type": "unknown"
        },
        {
         "name": "TOOL_NONTOOL",
         "rawType": "object",
         "type": "string"
        },
        {
         "name": "DIRECT_ALLOCATION",
         "rawType": "object",
         "type": "string"
        },
        {
         "name": "FPP_TNM_NEW",
         "rawType": "object",
         "type": "string"
        },
        {
         "name": "MTE_REASON",
         "rawType": "object",
         "type": "unknown"
        },
        {
         "name": "SR_BILLABILITY_PERCENTAGE",
         "rawType": "float64",
         "type": "float"
        },
        {
         "name": "FINANCE_WBS",
         "rawType": "object",
         "type": "string"
        },
        {
         "name": "SL_OPS_PC_CODE",
         "rawType": "object",
         "type": "unknown"
        },
        {
         "name": "SL_OPS_PC_DESC",
         "rawType": "object",
         "type": "unknown"
        },
        {
         "name": "SL_OPS_SERVICE_LINE",
         "rawType": "object",
         "type": "unknown"
        },
        {
         "name": "SLWBS",
         "rawType": "object",
         "type": "unknown"
        },
        {
         "name": "REPORT_TIME",
         "rawType": "object",
         "type": "string"
        },
        {
         "name": "SL_OPS_GBL",
         "rawType": "object",
         "type": "unknown"
        },
        {
         "name": "SL_DM_ID",
         "rawType": "float64",
         "type": "float"
        },
        {
         "name": "SL_DM_NAME",
         "rawType": "object",
         "type": "unknown"
        },
        {
         "name": "SL_PM_ID",
         "rawType": "float64",
         "type": "float"
        },
        {
         "name": "SL_PM_NAME",
         "rawType": "object",
         "type": "unknown"
        },
        {
         "name": "SOW_OWNER_EMAIL",
         "rawType": "object",
         "type": "unknown"
        }
       ],
       "conversionMethod": "pd.DataFrame",
       "ref": "4d5aa5c7-6309-4c92-bf58-3102480f543c",
       "rows": [
        [
         "0",
         "2025-03-08",
         "037817F5F7F91EEEBC836BD174C8E955",
         "358149.0",
         "49722/DG/P05/B47/S50",
         "ANZ-RLA-AMS- Support1",
         "31004.0",
         "RESOLUTION LIFE SERVICES AUSTRALIA",
         "RECRUIT",
         "PC36400",
         "APMEA",
         "2024-05-01",
         "2024-07-31",
         "110166.0",
         "Jinu P T",
         "211005.0",
         "Rohit Daga",
         "Micro Focus COBOL",
         "1",
         "1",
         "0",
         "0",
         "D0000049668060020",
         "PTALLA",
         "2024-04-01",
         "BENGALURU",
         "KARNATAKA",
         "INDIA",
         "INDIA",
         "OFFSHORE",
         "ACC000036986",
         "RESOLUTION LIFE SERVICES AUSTRALIA",
         "W001",
         "20072018.0",
         "SOUMEN ROY CHOWDHURY",
         "2024-07-31",
         "2024-05-06",
         "Fixed Price-Support&Maintenance",
         "115",
         "Developer L3",
         "CANCELLED",
         "WIPRO FULLSTRIDE CLOUD",
         "FSC - WDC",
         "AECS-LAMPS",
         "Elapsed",
         "Demand for Billable : Multi-Vendor Demand",
         "APMEA",
         "ANZ",
         "2085505.0",
         "ORDER BOOKED",
         "1",
         "0",
         "Excluding Cadre and Tool Based",
         null,
         "Excluding Acquisition and Support",
         "0",
         "0",
         "2024-04-02",
         "2024-04-01",
         "N",
         null,
         "58172310",
         "FSC-WDC-DELIVERY UNIT-APMEA",
         "INDIA",
         "WMG assisted fulfillment",
         "PC36400",
         "ANZ",
         "FSC-WDC-DELIVERY UNIT-APMEA",
         "IMS-DB,PL-1",
         null,
         null,
         "NO EXCLUSION",
         "NO",
         "Marked to External",
         null,
         "FSC - WDC",
         "AECS-LAMPS",
         "RLS-00000061132900100143",
         "CONFIRMED ORDERS",
         "5217980.0",
         "00000000000028153520",
         "WIPRO FULLSTRIDE CLOUD",
         "0",
         "OPP000556401",
         "Test",
         "PC53050",
         "WIPRO FULLSTRIDE CLOUD",
         "Released",
         null,
         null,
         null,
         null,
         null,
         null,
         "GROUP B2",
         null,
         "WT",
         "RESOLUTION LIFE",
         "WT",
         "Billable",
         "rohit.daga@wipro.com",
         "jinu.pth@wipro.com",
         "N",
         "1",
         "0",
         "0",
         "0",
         "LUCKSIN",
         "20240402",
         "APPROVED",
         "RECRUIT",
         "NON TOOL BASED",
         "NO",
         "FPP- SNM",
         "No Internal Matching Supply - Skill",
         "100.0",
         "49722/P05/B47",
         "PC53000",
         "WIPRO FULLSTRIDE CLOUD",
         "FSC - WDC",
         "49722/P05/B47/SL02",
         "08-MAR-2025 01:14:22",
         null,
         null,
         null,
         null,
         null,
         null
        ],
        [
         "1",
         "2025-03-08",
         "037817F5F7F91EEEBC984EDC9427AA55",
         "399689.0",
         "27266/P05/B05/S80",
         "E2E Testing consolidation",
         "26555.0",
         "T-Mobile USA Inc.",
         "RECRUIT",
         "PC30200",
         "AMERICAS 1",
         "2024-05-01",
         "2024-05-31",
         "20218011.0",
         "ANTONY JOSE",
         "20375307.0",
         "Arindam Das",
         "SAP Test Management",
         "1",
         "2",
         "0",
         "0",
         "D0000070197240020",
         "VI20270083",
         "2024-04-16",
         "BENGALURU",
         "KARNATAKA",
         "INDIA",
         "INDIA",
         "OFFSHORE",
         "AHT5VA000AT2",
         "T-Mobile USA, Inc.",
         "W001",
         "20150605.0",
         "Gaurav Dasari",
         "2024-04-17",
         "2024-05-07",
         "Element with unit billing",
         "159",
         "Test Engineer L3",
         "CANCELLED",
         "WIPRO FULLSTRIDE CLOUD",
         "FSC - WDC",
         "Quality Engineering and Testing",
         "Opportunity/Deal lost",
         "Ramp up (Or) Change Request in Existing Project",
         "AMERICAS 1",
         "Comms,Media & Information Services",
         "2086787.0",
         "ORDER BOOKED",
         "1",
         "0",
         "Excluding Cadre and Tool Based",
         "VIGNESH P",
         "Excluding Acquisition and Support",
         "0",
         "0",
         "2024-04-08",
         "2024-04-02",
         "Y",
         null,
         "58067181",
         "FSC-WDC-DELIVERY UNIT-AMERICAS 1",
         "INDIA",
         "WMG assisted fulfillment",
         null,
         null,
         "FSC-WDC-DELIVERY UNIT-AMERICAS 1",
         "Tosca Testsuite - Test Automation",
         null,
         "Y",
         "NO EXCLUSION",
         "YES",
         "Marked to External",
         "RLS_BILLABILITY_TYPE - Blank",
         "FSC - WDC",
         "Quality Engineering and Testing",
         "RLS-00000033345200201109",
         "CONFIRMED ORDERS",
         "5201781.0",
         "00000000000028027266",
         "WIPRO FULLSTRIDE CLOUD",
         "0",
         "OPP000436850",
         "Test",
         "PC53010",
         "WIPRO FULLSTRIDE CLOUD",
         "Technically Completed",
         null,
         null,
         null,
         null,
         null,
         null,
         "GROUP B2",
         null,
         "WT",
         "T-MOBILE",
         "WT",
         null,
         "arindam.das25@wipro.com",
         "antony.jose@wipro.com",
         "N",
         "1",
         "0",
         "0",
         "0",
         "ESHHEHE",
         "20240408",
         "APPROVED",
         "RECRUIT",
         "NON TOOL BASED",
         "NO",
         "FPP- EBB",
         "No Internal Matching Supply - SkillNo Internal Matching Supply - Location",
         "100.0",
         "CMIS-58",
         null,
         null,
         null,
         null,
         "08-MAR-2025 01:14:22",
         null,
         null,
         null,
         null,
         null,
         null
        ],
        [
         "2",
         "2025-03-08",
         "037817F5F7F91EEEBC9EFC3DDF02AA58",
         "307434.0",
         "37456/DG/P03/B02/S80",
         "Assurance Main",
         "10761.0",
         "Aviva Life Services UK Limited",
         "INTERNAL",
         "PC34100",
         "EUROPE",
         "2024-05-13",
         "2024-06-30",
         "308775.0",
         "Revathi Aswatha Narayana",
         "20314790.0",
         "Ashley Issac",
         "Selenium",
         "1",
         "1",
         "0",
         "0",
         "D0000070211070010",
         "KA20314790",
         "2024-04-29",
         "BENGALURU",
         "KARNATAKA",
         "INDIA",
         "INDIA",
         "OFFSHORE",
         "ACC000006800",
         "Aviva Global",
         "W001",
         "20150605.0",
         "Gaurav Dasari",
         "2024-04-29",
         "2024-05-13",
         "T&M Regular",
         "1490",
         "Test Engineer L4",
         "CANCELLED",
         "WIPRO FULLSTRIDE CLOUD",
         "FSC - WDC",
         "Quality Engineering and Testing",
         "SR cancelled by customer - Position not required anymore",
         "New Project",
         "EUROPE",
         "UK & IRELAND",
         null,
         "ORDER BOOKED",
         "1",
         "0",
         "Excluding Cadre and Tool Based",
         "Ashley Justin Issac",
         "Excluding Acquisition and Support",
         "0",
         "0",
         null,
         "2024-04-02",
         "Y",
         null,
         "58163528",
         "FSC-WDC-DELIVERY UNIT-EUROPE",
         "INDIA",
         "WMG assisted fulfillment",
         null,
         null,
         "FSC-WDC-DELIVERY UNIT-EUROPE",
         null,
         null,
         "N",
         "NO EXCLUSION",
         "YES",
         "Marked to Internal",
         "RLS_BILLABILITY_TYPE - Blank",
         "FSC - WDC",
         "Quality Engineering and Testing",
         "RLS-00000052296800100950",
         "CONFIRMED ORDERS",
         "5203758.0",
         "00000000000028137159",
         "WIPRO FULLSTRIDE CLOUD",
         "0",
         "OPP000546296",
         "Test",
         "PC53010",
         "WIPRO FULLSTRIDE CLOUD",
         "Released",
         null,
         null,
         null,
         null,
         null,
         null,
         "GROUP B3",
         null,
         "WT",
         "AVIVA",
         "WT",
         null,
         "ashley.issac@wipro.com",
         "revathi.a40@wipro.com",
         "N",
         "0",
         "0",
         "1",
         "0",
         null,
         "0",
         null,
         null,
         "NON TOOL BASED",
         "NO",
         "TNM",
         null,
         "100.0",
         "37456/P03/B02",
         null,
         null,
         null,
         null,
         "08-MAR-2025 01:14:22",
         null,
         null,
         null,
         null,
         null,
         null
        ],
        [
         "3",
         "2025-03-08",
         "037817F5F7F91EEF84AD5879362E0CC4",
         "433386.0",
         "WBS120240418134724",
         "Care Solution 2024-2026",
         "11237.0",
         "United HealthCare Services, Inc.",
         "INTERNAL",
         "PC30100",
         "AMERICAS 1",
         "2024-06-15",
         "2024-07-31",
         "97057.0",
         "Thummaluru Uma Maheswari",
         "713787.0",
         "Saumik Dutta",
         "Project Management",
         "1",
         "0",
         "0",
         "0",
         "D0000070547120010",
         "AD20103381",
         "2024-06-27",
         "HYDERABAD",
         "TELANGANA",
         "INDIA",
         "INDIA",
         "OFFSHORE",
         "A8HCOA000C4C",
         "UnitedHealth Group",
         "W001",
         "584880.0",
         "RAHUL KUMAR MUKHERJEE",
         "2024-06-27",
         "2024-06-21",
         "T&M Regular",
         "1444",
         "Developer L4",
         "CANCELLED",
         "WIPRO FULLSTRIDE CLOUD",
         "FSC - WDC",
         "DEVSECOPS & AGILE",
         "SR cancelled by customer - Position not required anymore",
         "New Project",
         "AMERICAS 1",
         "Healthcare",
         null,
         "ORDER BOOKED",
         "1",
         "0",
         "Excluding Cadre and Tool Based",
         "ADITI PAL",
         "Excluding Acquisition and Support",
         "0",
         "0",
         null,
         "2024-05-14",
         "Y",
         null,
         "58164501",
         "FSC-WDC-DELIVERY UNIT-AMERICAS 1",
         "INDIA",
         "WMG assisted fulfillment",
         "PC30100",
         "Healthcare",
         "FSC-WDC-DELIVERY UNIT-AMERICAS 1",
         null,
         null,
         null,
         "NO EXCLUSION",
         "NO",
         "Marked to Internal",
         null,
         "FSC - WDC",
         "DEVSECOPS & AGILE",
         "RLS-00000053431200102528",
         "CONFIRMED ORDERS",
         "5201825.0",
         "00000000000028144046",
         "WIPRO FULLSTRIDE CLOUD",
         "0",
         "OPP000547448",
         "Test",
         "PC52540",
         "WIPRO FULLSTRIDE CLOUD",
         "Released",
         null,
         null,
         null,
         null,
         null,
         null,
         "GROUP B3",
         null,
         "WT",
         "UNITEDHEALTH GROUP",
         "WT",
         "Billable",
         "saumik.dutta@wipro.com",
         "thummaluru.uma@wipro.com",
         "N",
         "1",
         "0",
         "0",
         "0",
         null,
         "0",
         "PLANNED",
         "PARALLEL",
         "NON TOOL BASED",
         "NO",
         "TNM",
         "No Internal Matching Supply - SkillNo Internal Matching Supply - Location",
         "100.0",
         "39808/P05/B02",
         "PC53000",
         "WIPRO FULLSTRIDE CLOUD",
         "FSC - WDC",
         "39808/P05/B02/SL04",
         "08-MAR-2025 01:14:22",
         null,
         null,
         null,
         null,
         null,
         null
        ],
        [
         "4",
         "2025-03-08",
         "037817F5F7F91EEEBC9CE64239CFAA58",
         "221717.0",
         "17990/P03/B02/S35",
         "CIMIC_T&M_2022-2023_AppDev",
         "71276.0",
         "CIMIC GROUP LTD",
         "INTERNAL",
         "PC36400",
         "APMEA",
         "2024-04-16",
         "2024-05-31",
         "233602.0",
         "Santhosh Kumar Janapati",
         "920414.0",
         "Varsha Ranga",
         ".NET",
         "1",
         "0",
         "0",
         "0",
         "D0000070209100010",
         "SGHOSA",
         "2024-04-22",
         "CHENNAI",
         "TAMIL NADU",
         "INDIA",
         "INDIA",
         "OFFSHORE",
         "ACC000014191",
         "Leighton Holdings Ltd.",
         "W001",
         "20072018.0",
         "SOUMEN ROY CHOWDHURY",
         "2024-04-22",
         "2024-04-16",
         "T&M Regular",
         "1444",
         "Developer L4",
         "CANCELLED",
         "WIPRO FULLSTRIDE CLOUD",
         "FSC - WDC",
         "AECS-Microsoft",
         "Directly Allocated hence Cancelling SR",
         "New Project",
         "APMEA",
         "ANZ",
         null,
         "ORDER BOOKED",
         "1",
         "0",
         "Excluding Cadre and Tool Based",
         "Shubhasish Ghosal",
         "Excluding Acquisition and Support",
         "0",
         "0",
         null,
         "2024-04-02",
         "Y",
         null,
         "58122458",
         "FSC-CIS-DELIVERY UNIT-APMEA",
         "INDIA",
         "WMG assisted fulfillment",
         "PC36400",
         "ANZ",
         "FSC-CIS-DELIVERY UNIT-APMEA",
         null,
         null,
         null,
         "NO EXCLUSION",
         "NO",
         "Marked to Internal",
         null,
         "FSC - WDC",
         "AECS-Microsoft",
         "RLS-00000039541300100124",
         "CONFIRMED ORDERS",
         "5204692.0",
         "00000000000028066386",
         "WIPRO FULLSTRIDE CLOUD",
         "0",
         "OPP000499374",
         "Test",
         "PC53030",
         "WIPRO FULLSTRIDE CLOUD",
         "Released",
         null,
         null,
         null,
         null,
         null,
         null,
         "GROUP B3",
         null,
         "WT",
         "CIMIC GROUP",
         "WT",
         "Billable",
         "varsha.ranga@wipro.com",
         "santhosh.janapati@wipro.com",
         "N",
         "0",
         "0",
         "1",
         "0",
         null,
         "0",
         null,
         null,
         "NON TOOL BASED",
         "NO",
         "TNM",
         null,
         "100.0",
         "17990/P03/B02",
         "PC53000",
         "WIPRO FULLSTRIDE CLOUD",
         "FSC - WDC",
         "17990/P03/B02/SL03",
         "08-MAR-2025 01:14:22",
         null,
         null,
         null,
         null,
         null,
         null
        ]
       ],
       "shape": {
        "columns": 127,
        "rows": 5
       }
      },
      "text/html": [
       "<div>\n",
       "<style scoped>\n",
       "    .dataframe tbody tr th:only-of-type {\n",
       "        vertical-align: middle;\n",
       "    }\n",
       "\n",
       "    .dataframe tbody tr th {\n",
       "        vertical-align: top;\n",
       "    }\n",
       "\n",
       "    .dataframe thead th {\n",
       "        text-align: right;\n",
       "    }\n",
       "</style>\n",
       "<table border=\"1\" class=\"dataframe\">\n",
       "  <thead>\n",
       "    <tr style=\"text-align: right;\">\n",
       "      <th></th>\n",
       "      <th>LOAD_DATE</th>\n",
       "      <th>SR_GUID</th>\n",
       "      <th>PROJECT_NUMBER</th>\n",
       "      <th>PROJECT_NAME</th>\n",
       "      <th>PROJECT_DESCRIPTION</th>\n",
       "      <th>CUSTOMER_NO</th>\n",
       "      <th>CUSTOMER_NAME</th>\n",
       "      <th>INDENT_STATUS</th>\n",
       "      <th>PROJECT_PROFIT_CENTER</th>\n",
       "      <th>PROJECT_PROFIT_CENTER_DESCRIPTION</th>\n",
       "      <th>...</th>\n",
       "      <th>SL_OPS_PC_DESC</th>\n",
       "      <th>SL_OPS_SERVICE_LINE</th>\n",
       "      <th>SLWBS</th>\n",
       "      <th>REPORT_TIME</th>\n",
       "      <th>SL_OPS_GBL</th>\n",
       "      <th>SL_DM_ID</th>\n",
       "      <th>SL_DM_NAME</th>\n",
       "      <th>SL_PM_ID</th>\n",
       "      <th>SL_PM_NAME</th>\n",
       "      <th>SOW_OWNER_EMAIL</th>\n",
       "    </tr>\n",
       "  </thead>\n",
       "  <tbody>\n",
       "    <tr>\n",
       "      <th>0</th>\n",
       "      <td>2025-03-08</td>\n",
       "      <td>037817F5F7F91EEEBC836BD174C8E955</td>\n",
       "      <td>358149.0</td>\n",
       "      <td>49722/DG/P05/B47/S50</td>\n",
       "      <td>ANZ-RLA-AMS- Support1</td>\n",
       "      <td>31004.0</td>\n",
       "      <td>RESOLUTION LIFE SERVICES AUSTRALIA</td>\n",
       "      <td>RECRUIT</td>\n",
       "      <td>PC36400</td>\n",
       "      <td>APMEA</td>\n",
       "      <td>...</td>\n",
       "      <td>WIPRO FULLSTRIDE CLOUD</td>\n",
       "      <td>FSC - WDC</td>\n",
       "      <td>49722/P05/B47/SL02</td>\n",
       "      <td>08-MAR-2025 01:14:22</td>\n",
       "      <td>NaN</td>\n",
       "      <td>NaN</td>\n",
       "      <td>NaN</td>\n",
       "      <td>NaN</td>\n",
       "      <td>NaN</td>\n",
       "      <td>NaN</td>\n",
       "    </tr>\n",
       "    <tr>\n",
       "      <th>1</th>\n",
       "      <td>2025-03-08</td>\n",
       "      <td>037817F5F7F91EEEBC984EDC9427AA55</td>\n",
       "      <td>399689.0</td>\n",
       "      <td>27266/P05/B05/S80</td>\n",
       "      <td>E2E Testing consolidation</td>\n",
       "      <td>26555.0</td>\n",
       "      <td>T-Mobile USA Inc.</td>\n",
       "      <td>RECRUIT</td>\n",
       "      <td>PC30200</td>\n",
       "      <td>AMERICAS 1</td>\n",
       "      <td>...</td>\n",
       "      <td>NaN</td>\n",
       "      <td>NaN</td>\n",
       "      <td>NaN</td>\n",
       "      <td>08-MAR-2025 01:14:22</td>\n",
       "      <td>NaN</td>\n",
       "      <td>NaN</td>\n",
       "      <td>NaN</td>\n",
       "      <td>NaN</td>\n",
       "      <td>NaN</td>\n",
       "      <td>NaN</td>\n",
       "    </tr>\n",
       "    <tr>\n",
       "      <th>2</th>\n",
       "      <td>2025-03-08</td>\n",
       "      <td>037817F5F7F91EEEBC9EFC3DDF02AA58</td>\n",
       "      <td>307434.0</td>\n",
       "      <td>37456/DG/P03/B02/S80</td>\n",
       "      <td>Assurance Main</td>\n",
       "      <td>10761.0</td>\n",
       "      <td>Aviva Life Services UK Limited</td>\n",
       "      <td>INTERNAL</td>\n",
       "      <td>PC34100</td>\n",
       "      <td>EUROPE</td>\n",
       "      <td>...</td>\n",
       "      <td>NaN</td>\n",
       "      <td>NaN</td>\n",
       "      <td>NaN</td>\n",
       "      <td>08-MAR-2025 01:14:22</td>\n",
       "      <td>NaN</td>\n",
       "      <td>NaN</td>\n",
       "      <td>NaN</td>\n",
       "      <td>NaN</td>\n",
       "      <td>NaN</td>\n",
       "      <td>NaN</td>\n",
       "    </tr>\n",
       "    <tr>\n",
       "      <th>3</th>\n",
       "      <td>2025-03-08</td>\n",
       "      <td>037817F5F7F91EEF84AD5879362E0CC4</td>\n",
       "      <td>433386.0</td>\n",
       "      <td>WBS120240418134724</td>\n",
       "      <td>Care Solution 2024-2026</td>\n",
       "      <td>11237.0</td>\n",
       "      <td>United HealthCare Services, Inc.</td>\n",
       "      <td>INTERNAL</td>\n",
       "      <td>PC30100</td>\n",
       "      <td>AMERICAS 1</td>\n",
       "      <td>...</td>\n",
       "      <td>WIPRO FULLSTRIDE CLOUD</td>\n",
       "      <td>FSC - WDC</td>\n",
       "      <td>39808/P05/B02/SL04</td>\n",
       "      <td>08-MAR-2025 01:14:22</td>\n",
       "      <td>NaN</td>\n",
       "      <td>NaN</td>\n",
       "      <td>NaN</td>\n",
       "      <td>NaN</td>\n",
       "      <td>NaN</td>\n",
       "      <td>NaN</td>\n",
       "    </tr>\n",
       "    <tr>\n",
       "      <th>4</th>\n",
       "      <td>2025-03-08</td>\n",
       "      <td>037817F5F7F91EEEBC9CE64239CFAA58</td>\n",
       "      <td>221717.0</td>\n",
       "      <td>17990/P03/B02/S35</td>\n",
       "      <td>CIMIC_T&amp;M_2022-2023_AppDev</td>\n",
       "      <td>71276.0</td>\n",
       "      <td>CIMIC GROUP LTD</td>\n",
       "      <td>INTERNAL</td>\n",
       "      <td>PC36400</td>\n",
       "      <td>APMEA</td>\n",
       "      <td>...</td>\n",
       "      <td>WIPRO FULLSTRIDE CLOUD</td>\n",
       "      <td>FSC - WDC</td>\n",
       "      <td>17990/P03/B02/SL03</td>\n",
       "      <td>08-MAR-2025 01:14:22</td>\n",
       "      <td>NaN</td>\n",
       "      <td>NaN</td>\n",
       "      <td>NaN</td>\n",
       "      <td>NaN</td>\n",
       "      <td>NaN</td>\n",
       "      <td>NaN</td>\n",
       "    </tr>\n",
       "  </tbody>\n",
       "</table>\n",
       "<p>5 rows × 127 columns</p>\n",
       "</div>"
      ],
      "text/plain": [
       "    LOAD_DATE                           SR_GUID  PROJECT_NUMBER  \\\n",
       "0  2025-03-08  037817F5F7F91EEEBC836BD174C8E955        358149.0   \n",
       "1  2025-03-08  037817F5F7F91EEEBC984EDC9427AA55        399689.0   \n",
       "2  2025-03-08  037817F5F7F91EEEBC9EFC3DDF02AA58        307434.0   \n",
       "3  2025-03-08  037817F5F7F91EEF84AD5879362E0CC4        433386.0   \n",
       "4  2025-03-08  037817F5F7F91EEEBC9CE64239CFAA58        221717.0   \n",
       "\n",
       "           PROJECT_NAME         PROJECT_DESCRIPTION  CUSTOMER_NO  \\\n",
       "0  49722/DG/P05/B47/S50       ANZ-RLA-AMS- Support1      31004.0   \n",
       "1     27266/P05/B05/S80   E2E Testing consolidation      26555.0   \n",
       "2  37456/DG/P03/B02/S80              Assurance Main      10761.0   \n",
       "3    WBS120240418134724     Care Solution 2024-2026      11237.0   \n",
       "4     17990/P03/B02/S35  CIMIC_T&M_2022-2023_AppDev      71276.0   \n",
       "\n",
       "                        CUSTOMER_NAME INDENT_STATUS PROJECT_PROFIT_CENTER  \\\n",
       "0  RESOLUTION LIFE SERVICES AUSTRALIA       RECRUIT               PC36400   \n",
       "1                   T-Mobile USA Inc.       RECRUIT               PC30200   \n",
       "2      Aviva Life Services UK Limited      INTERNAL               PC34100   \n",
       "3    United HealthCare Services, Inc.      INTERNAL               PC30100   \n",
       "4                     CIMIC GROUP LTD      INTERNAL               PC36400   \n",
       "\n",
       "  PROJECT_PROFIT_CENTER_DESCRIPTION  ...          SL_OPS_PC_DESC  \\\n",
       "0                             APMEA  ...  WIPRO FULLSTRIDE CLOUD   \n",
       "1                        AMERICAS 1  ...                     NaN   \n",
       "2                            EUROPE  ...                     NaN   \n",
       "3                        AMERICAS 1  ...  WIPRO FULLSTRIDE CLOUD   \n",
       "4                             APMEA  ...  WIPRO FULLSTRIDE CLOUD   \n",
       "\n",
       "  SL_OPS_SERVICE_LINE               SLWBS           REPORT_TIME  SL_OPS_GBL  \\\n",
       "0           FSC - WDC  49722/P05/B47/SL02  08-MAR-2025 01:14:22         NaN   \n",
       "1                 NaN                 NaN  08-MAR-2025 01:14:22         NaN   \n",
       "2                 NaN                 NaN  08-MAR-2025 01:14:22         NaN   \n",
       "3           FSC - WDC  39808/P05/B02/SL04  08-MAR-2025 01:14:22         NaN   \n",
       "4           FSC - WDC  17990/P03/B02/SL03  08-MAR-2025 01:14:22         NaN   \n",
       "\n",
       "  SL_DM_ID SL_DM_NAME  SL_PM_ID  SL_PM_NAME  SOW_OWNER_EMAIL  \n",
       "0      NaN        NaN       NaN         NaN              NaN  \n",
       "1      NaN        NaN       NaN         NaN              NaN  \n",
       "2      NaN        NaN       NaN         NaN              NaN  \n",
       "3      NaN        NaN       NaN         NaN              NaN  \n",
       "4      NaN        NaN       NaN         NaN              NaN  \n",
       "\n",
       "[5 rows x 127 columns]"
      ]
     },
     "execution_count": 2,
     "metadata": {},
     "output_type": "execute_result"
    }
   ],
   "source": [
    "path = r\"D:\\OneDrive - Wipro\\Desktop\\AIR\\\\\"\n",
    "infile =  path + \"AIR_WDC_today_Q1Q2Q3.csv\"\n",
    "\n",
    "#r\"D:\\OneDrive - Wipro\\Desktop\\AIR\\AIR_WDC_today_Q1Q2Q3.csv\"\n",
    "\n",
    "#table = pd.read_csv(infile, engine='python',sep=',', quotechar='\"', error_bad_lines=False)\n",
    "\n",
    "table_chunk = pd.read_csv(infile, engine='python', sep=',', chunksize=2000000)\n",
    "table = pd.concat(list(table_chunk))\n",
    "\n",
    "#setting figure size\n",
    "from matplotlib.pylab import rcParams\n",
    "rcParams['figure.figsize'] = 20,10\n",
    "\n",
    "#for normalizing data\n",
    "from sklearn.preprocessing import MinMaxScaler\n",
    "scaler = MinMaxScaler(feature_range=(0, 1))\n",
    "\n",
    "table.head()"
   ]
  },
  {
   "cell_type": "code",
   "execution_count": 4,
   "metadata": {},
   "outputs": [],
   "source": [
    "df = table[['INDENT_CREATED_ON','ESSENTIAL_SKILL','NO_OF_RESOURCES','INDENT_STATE']]"
   ]
  },
  {
   "cell_type": "code",
   "execution_count": 6,
   "metadata": {},
   "outputs": [
    {
     "name": "stdout",
     "output_type": "stream",
     "text": [
      "<class 'pandas.core.frame.DataFrame'>\n",
      "RangeIndex: 22221 entries, 0 to 22220\n",
      "Data columns (total 4 columns):\n",
      " #   Column           Non-Null Count  Dtype \n",
      "---  ------           --------------  ----- \n",
      " 0   Date             22221 non-null  object\n",
      " 1   ESSENTIAL_SKILL  22221 non-null  object\n",
      " 2   Total            22221 non-null  int64 \n",
      " 3   INDENT_STATE     22221 non-null  object\n",
      "dtypes: int64(1), object(3)\n",
      "memory usage: 694.5+ KB\n"
     ]
    }
   ],
   "source": [
    "df.rename(columns={'INDENT_CREATED_ON': 'Date'}, inplace=True)\n",
    "df.rename(columns={'NO_OF_RESOURCES': 'Total'}, inplace=True)\n",
    "df.info()"
   ]
  },
  {
   "cell_type": "code",
   "execution_count": 7,
   "metadata": {},
   "outputs": [],
   "source": [
    "df['Date'] = pd.to_datetime(df.Date)"
   ]
  },
  {
   "cell_type": "code",
   "execution_count": 9,
   "metadata": {},
   "outputs": [
    {
     "data": {
      "application/vnd.microsoft.datawrangler.viewer.v0+json": {
       "columns": [
        {
         "name": "index",
         "rawType": "int64",
         "type": "integer"
        },
        {
         "name": "Date",
         "rawType": "datetime64[ns]",
         "type": "datetime"
        },
        {
         "name": "ESSENTIAL_SKILL",
         "rawType": "object",
         "type": "string"
        },
        {
         "name": "Total",
         "rawType": "int64",
         "type": "integer"
        },
        {
         "name": "INDENT_STATE",
         "rawType": "object",
         "type": "string"
        }
       ],
       "conversionMethod": "pd.DataFrame",
       "ref": "c26ff586-353a-40d2-891e-a4afac6a0b92",
       "rows": [
        [
         "4",
         "2024-04-02 00:00:00",
         ".NET",
         "1",
         "CANCELLED"
        ],
        [
         "7",
         "2024-05-28 00:00:00",
         ".NET",
         "1",
         "CANCELLED"
        ],
        [
         "17",
         "2024-04-23 00:00:00",
         ".NET",
         "2",
         "CANCELLED"
        ],
        [
         "24",
         "2024-04-10 00:00:00",
         ".NET",
         "1",
         "CANCELLED"
        ],
        [
         "30",
         "2024-04-10 00:00:00",
         ".NET",
         "2",
         "FULFILLED"
        ],
        [
         "40",
         "2024-04-10 00:00:00",
         ".NET",
         "1",
         "CANCELLED"
        ],
        [
         "53",
         "2024-05-07 00:00:00",
         ".NET",
         "1",
         "CANCELLED"
        ],
        [
         "54",
         "2024-04-18 00:00:00",
         ".NET",
         "1",
         "CANCELLED"
        ],
        [
         "81",
         "2024-05-07 00:00:00",
         ".NET",
         "2",
         "CANCELLED"
        ],
        [
         "86",
         "2024-04-22 00:00:00",
         ".NET",
         "1",
         "CANCELLED"
        ],
        [
         "87",
         "2024-04-26 00:00:00",
         ".NET",
         "1",
         "CANCELLED"
        ],
        [
         "124",
         "2024-05-08 00:00:00",
         ".NET",
         "1",
         "CANCELLED"
        ],
        [
         "128",
         "2024-05-20 00:00:00",
         ".NET",
         "1",
         "CANCELLED"
        ],
        [
         "145",
         "2024-04-23 00:00:00",
         ".NET",
         "1",
         "CANCELLED"
        ],
        [
         "154",
         "2024-05-03 00:00:00",
         ".NET",
         "1",
         "CANCELLED"
        ],
        [
         "166",
         "2024-06-19 00:00:00",
         ".NET",
         "1",
         "CANCELLED"
        ],
        [
         "173",
         "2024-05-15 00:00:00",
         ".NET",
         "1",
         "FULFILLED"
        ],
        [
         "174",
         "2024-06-12 00:00:00",
         ".NET",
         "1",
         "CANCELLED"
        ],
        [
         "175",
         "2024-06-14 00:00:00",
         ".NET",
         "1",
         "CANCELLED"
        ],
        [
         "203",
         "2024-06-06 00:00:00",
         ".NET",
         "3",
         "CANCELLED"
        ],
        [
         "205",
         "2024-05-27 00:00:00",
         ".NET",
         "2",
         "CANCELLED"
        ],
        [
         "217",
         "2024-04-02 00:00:00",
         ".NET",
         "1",
         "CANCELLED"
        ],
        [
         "225",
         "2024-04-05 00:00:00",
         ".NET",
         "1",
         "CANCELLED"
        ],
        [
         "234",
         "2024-04-10 00:00:00",
         ".NET",
         "1",
         "CANCELLED"
        ],
        [
         "238",
         "2024-04-10 00:00:00",
         ".NET",
         "1",
         "CANCELLED"
        ],
        [
         "243",
         "2024-05-02 00:00:00",
         ".NET",
         "1",
         "CANCELLED"
        ],
        [
         "252",
         "2024-05-15 00:00:00",
         ".NET",
         "2",
         "CANCELLED"
        ],
        [
         "255",
         "2024-05-16 00:00:00",
         ".NET",
         "1",
         "CANCELLED"
        ],
        [
         "262",
         "2024-06-03 00:00:00",
         ".NET",
         "2",
         "CANCELLED"
        ],
        [
         "278",
         "2024-06-07 00:00:00",
         ".NET",
         "1",
         "CANCELLED"
        ],
        [
         "287",
         "2024-04-29 00:00:00",
         ".NET",
         "1",
         "CANCELLED"
        ],
        [
         "292",
         "2024-06-08 00:00:00",
         ".NET",
         "1",
         "CANCELLED"
        ],
        [
         "302",
         "2024-06-11 00:00:00",
         ".NET",
         "1",
         "CANCELLED"
        ],
        [
         "303",
         "2024-04-12 00:00:00",
         ".NET",
         "1",
         "CANCELLED"
        ],
        [
         "309",
         "2024-05-12 00:00:00",
         ".NET",
         "1",
         "CANCELLED"
        ],
        [
         "315",
         "2024-05-14 00:00:00",
         ".NET",
         "1",
         "CANCELLED"
        ],
        [
         "329",
         "2024-05-20 00:00:00",
         ".NET",
         "1",
         "CANCELLED"
        ],
        [
         "334",
         "2024-05-22 00:00:00",
         ".NET",
         "1",
         "CANCELLED"
        ],
        [
         "341",
         "2024-06-10 00:00:00",
         ".NET",
         "1",
         "CANCELLED"
        ],
        [
         "357",
         "2024-06-18 00:00:00",
         ".NET",
         "2",
         "CANCELLED"
        ],
        [
         "360",
         "2024-04-26 00:00:00",
         ".NET",
         "1",
         "CANCELLED"
        ],
        [
         "363",
         "2024-06-20 00:00:00",
         ".NET",
         "1",
         "CANCELLED"
        ],
        [
         "374",
         "2024-06-04 00:00:00",
         ".NET",
         "1",
         "CANCELLED"
        ],
        [
         "401",
         "2024-04-08 00:00:00",
         ".NET",
         "1",
         "CANCELLED"
        ],
        [
         "424",
         "2024-04-24 00:00:00",
         ".NET",
         "1",
         "CANCELLED"
        ],
        [
         "427",
         "2024-04-24 00:00:00",
         ".NET",
         "1",
         "CANCELLED"
        ],
        [
         "436",
         "2024-05-22 00:00:00",
         ".NET",
         "1",
         "CANCELLED"
        ],
        [
         "444",
         "2024-05-02 00:00:00",
         ".NET",
         "1",
         "CANCELLED"
        ],
        [
         "445",
         "2024-05-02 00:00:00",
         ".NET",
         "1",
         "CANCELLED"
        ],
        [
         "457",
         "2024-05-30 00:00:00",
         ".NET",
         "1",
         "CANCELLED"
        ]
       ],
       "shape": {
        "columns": 4,
        "rows": 980
       }
      },
      "text/html": [
       "<div>\n",
       "<style scoped>\n",
       "    .dataframe tbody tr th:only-of-type {\n",
       "        vertical-align: middle;\n",
       "    }\n",
       "\n",
       "    .dataframe tbody tr th {\n",
       "        vertical-align: top;\n",
       "    }\n",
       "\n",
       "    .dataframe thead th {\n",
       "        text-align: right;\n",
       "    }\n",
       "</style>\n",
       "<table border=\"1\" class=\"dataframe\">\n",
       "  <thead>\n",
       "    <tr style=\"text-align: right;\">\n",
       "      <th></th>\n",
       "      <th>Date</th>\n",
       "      <th>ESSENTIAL_SKILL</th>\n",
       "      <th>Total</th>\n",
       "      <th>INDENT_STATE</th>\n",
       "    </tr>\n",
       "  </thead>\n",
       "  <tbody>\n",
       "    <tr>\n",
       "      <th>4</th>\n",
       "      <td>2024-04-02</td>\n",
       "      <td>.NET</td>\n",
       "      <td>1</td>\n",
       "      <td>CANCELLED</td>\n",
       "    </tr>\n",
       "    <tr>\n",
       "      <th>7</th>\n",
       "      <td>2024-05-28</td>\n",
       "      <td>.NET</td>\n",
       "      <td>1</td>\n",
       "      <td>CANCELLED</td>\n",
       "    </tr>\n",
       "    <tr>\n",
       "      <th>17</th>\n",
       "      <td>2024-04-23</td>\n",
       "      <td>.NET</td>\n",
       "      <td>2</td>\n",
       "      <td>CANCELLED</td>\n",
       "    </tr>\n",
       "    <tr>\n",
       "      <th>24</th>\n",
       "      <td>2024-04-10</td>\n",
       "      <td>.NET</td>\n",
       "      <td>1</td>\n",
       "      <td>CANCELLED</td>\n",
       "    </tr>\n",
       "    <tr>\n",
       "      <th>30</th>\n",
       "      <td>2024-04-10</td>\n",
       "      <td>.NET</td>\n",
       "      <td>2</td>\n",
       "      <td>FULFILLED</td>\n",
       "    </tr>\n",
       "    <tr>\n",
       "      <th>...</th>\n",
       "      <td>...</td>\n",
       "      <td>...</td>\n",
       "      <td>...</td>\n",
       "      <td>...</td>\n",
       "    </tr>\n",
       "    <tr>\n",
       "      <th>22065</th>\n",
       "      <td>2024-12-18</td>\n",
       "      <td>.NET</td>\n",
       "      <td>1</td>\n",
       "      <td>FULFILLED</td>\n",
       "    </tr>\n",
       "    <tr>\n",
       "      <th>22069</th>\n",
       "      <td>2024-12-19</td>\n",
       "      <td>.NET</td>\n",
       "      <td>1</td>\n",
       "      <td>PENDING</td>\n",
       "    </tr>\n",
       "    <tr>\n",
       "      <th>22083</th>\n",
       "      <td>2024-10-14</td>\n",
       "      <td>.NET</td>\n",
       "      <td>2</td>\n",
       "      <td>PENDING</td>\n",
       "    </tr>\n",
       "    <tr>\n",
       "      <th>22106</th>\n",
       "      <td>2024-11-12</td>\n",
       "      <td>.NET</td>\n",
       "      <td>3</td>\n",
       "      <td>PENDING</td>\n",
       "    </tr>\n",
       "    <tr>\n",
       "      <th>22173</th>\n",
       "      <td>2024-11-13</td>\n",
       "      <td>.NET</td>\n",
       "      <td>1</td>\n",
       "      <td>FULFILLED</td>\n",
       "    </tr>\n",
       "  </tbody>\n",
       "</table>\n",
       "<p>980 rows × 4 columns</p>\n",
       "</div>"
      ],
      "text/plain": [
       "            Date ESSENTIAL_SKILL  Total INDENT_STATE\n",
       "4     2024-04-02            .NET      1    CANCELLED\n",
       "7     2024-05-28            .NET      1    CANCELLED\n",
       "17    2024-04-23            .NET      2    CANCELLED\n",
       "24    2024-04-10            .NET      1    CANCELLED\n",
       "30    2024-04-10            .NET      2    FULFILLED\n",
       "...          ...             ...    ...          ...\n",
       "22065 2024-12-18            .NET      1    FULFILLED\n",
       "22069 2024-12-19            .NET      1      PENDING\n",
       "22083 2024-10-14            .NET      2      PENDING\n",
       "22106 2024-11-12            .NET      3      PENDING\n",
       "22173 2024-11-13            .NET      1    FULFILLED\n",
       "\n",
       "[980 rows x 4 columns]"
      ]
     },
     "execution_count": 9,
     "metadata": {},
     "output_type": "execute_result"
    }
   ],
   "source": [
    "tmpdf = df[df['ESSENTIAL_SKILL'] == '.NET']\n",
    "tmpdf"
   ]
  },
  {
   "cell_type": "code",
   "execution_count": 10,
   "metadata": {},
   "outputs": [
    {
     "data": {
      "application/vnd.microsoft.datawrangler.viewer.v0+json": {
       "columns": [
        {
         "name": "Date",
         "rawType": "datetime64[ns]",
         "type": "datetime"
        },
        {
         "name": "ESSENTIAL_SKILL",
         "rawType": "object",
         "type": "unknown"
        },
        {
         "name": "Total",
         "rawType": "int64",
         "type": "integer"
        },
        {
         "name": "INDENT_STATE",
         "rawType": "object",
         "type": "unknown"
        }
       ],
       "conversionMethod": "pd.DataFrame",
       "ref": "38bb0c6d-9127-4ca0-a91e-79e77c4a01a3",
       "rows": [
        [
         "2024-04-02 00:00:00",
         ".NET.NET",
         "2",
         "CANCELLEDCANCELLED"
        ],
        [
         "2024-04-03 00:00:00",
         ".NET.NET.NET.NET.NET.NET.NET",
         "7",
         "CANCELLEDCANCELLEDCANCELLEDCANCELLEDCANCELLEDCANCELLEDCANCELLED"
        ],
        [
         "2024-04-04 00:00:00",
         ".NET.NET.NET.NET.NET.NET.NET.NET",
         "9",
         "CANCELLEDCANCELLEDCANCELLEDCANCELLEDCANCELLEDCANCELLEDCANCELLEDCANCELLED"
        ],
        [
         "2024-04-05 00:00:00",
         ".NET.NET.NET.NET.NET.NET.NET.NET",
         "8",
         "CANCELLEDCANCELLEDCANCELLEDCANCELLEDCANCELLEDCANCELLEDCANCELLEDCANCELLED"
        ],
        [
         "2024-04-06 00:00:00",
         "0",
         "0",
         "0"
        ]
       ],
       "shape": {
        "columns": 3,
        "rows": 5
       }
      },
      "text/html": [
       "<div>\n",
       "<style scoped>\n",
       "    .dataframe tbody tr th:only-of-type {\n",
       "        vertical-align: middle;\n",
       "    }\n",
       "\n",
       "    .dataframe tbody tr th {\n",
       "        vertical-align: top;\n",
       "    }\n",
       "\n",
       "    .dataframe thead th {\n",
       "        text-align: right;\n",
       "    }\n",
       "</style>\n",
       "<table border=\"1\" class=\"dataframe\">\n",
       "  <thead>\n",
       "    <tr style=\"text-align: right;\">\n",
       "      <th></th>\n",
       "      <th>ESSENTIAL_SKILL</th>\n",
       "      <th>Total</th>\n",
       "      <th>INDENT_STATE</th>\n",
       "    </tr>\n",
       "    <tr>\n",
       "      <th>Date</th>\n",
       "      <th></th>\n",
       "      <th></th>\n",
       "      <th></th>\n",
       "    </tr>\n",
       "  </thead>\n",
       "  <tbody>\n",
       "    <tr>\n",
       "      <th>2024-04-02</th>\n",
       "      <td>.NET.NET</td>\n",
       "      <td>2</td>\n",
       "      <td>CANCELLEDCANCELLED</td>\n",
       "    </tr>\n",
       "    <tr>\n",
       "      <th>2024-04-03</th>\n",
       "      <td>.NET.NET.NET.NET.NET.NET.NET</td>\n",
       "      <td>7</td>\n",
       "      <td>CANCELLEDCANCELLEDCANCELLEDCANCELLEDCANCELLEDC...</td>\n",
       "    </tr>\n",
       "    <tr>\n",
       "      <th>2024-04-04</th>\n",
       "      <td>.NET.NET.NET.NET.NET.NET.NET.NET</td>\n",
       "      <td>9</td>\n",
       "      <td>CANCELLEDCANCELLEDCANCELLEDCANCELLEDCANCELLEDC...</td>\n",
       "    </tr>\n",
       "    <tr>\n",
       "      <th>2024-04-05</th>\n",
       "      <td>.NET.NET.NET.NET.NET.NET.NET.NET</td>\n",
       "      <td>8</td>\n",
       "      <td>CANCELLEDCANCELLEDCANCELLEDCANCELLEDCANCELLEDC...</td>\n",
       "    </tr>\n",
       "    <tr>\n",
       "      <th>2024-04-06</th>\n",
       "      <td>0</td>\n",
       "      <td>0</td>\n",
       "      <td>0</td>\n",
       "    </tr>\n",
       "  </tbody>\n",
       "</table>\n",
       "</div>"
      ],
      "text/plain": [
       "                             ESSENTIAL_SKILL  Total  \\\n",
       "Date                                                  \n",
       "2024-04-02                          .NET.NET      2   \n",
       "2024-04-03      .NET.NET.NET.NET.NET.NET.NET      7   \n",
       "2024-04-04  .NET.NET.NET.NET.NET.NET.NET.NET      9   \n",
       "2024-04-05  .NET.NET.NET.NET.NET.NET.NET.NET      8   \n",
       "2024-04-06                                 0      0   \n",
       "\n",
       "                                                 INDENT_STATE  \n",
       "Date                                                           \n",
       "2024-04-02                                 CANCELLEDCANCELLED  \n",
       "2024-04-03  CANCELLEDCANCELLEDCANCELLEDCANCELLEDCANCELLEDC...  \n",
       "2024-04-04  CANCELLEDCANCELLEDCANCELLEDCANCELLEDCANCELLEDC...  \n",
       "2024-04-05  CANCELLEDCANCELLEDCANCELLEDCANCELLEDCANCELLEDC...  \n",
       "2024-04-06                                                  0  "
      ]
     },
     "execution_count": 10,
     "metadata": {},
     "output_type": "execute_result"
    }
   ],
   "source": [
    "tmpdf = tmpdf.groupby(\"Date\").sum()\n",
    "tmpdf = tmpdf.sort_index()\n",
    "tmpdf = tmpdf['2024-04-01':'2025-12-31'].resample('D').sum()\n",
    "tmpdf.head()"
   ]
  },
  {
   "cell_type": "code",
   "execution_count": 11,
   "metadata": {},
   "outputs": [
    {
     "data": {
      "application/vnd.microsoft.datawrangler.viewer.v0+json": {
       "columns": [
        {
         "name": "Date",
         "rawType": "datetime64[ns]",
         "type": "datetime"
        },
        {
         "name": "ESSENTIAL_SKILL",
         "rawType": "object",
         "type": "string"
        },
        {
         "name": "Total",
         "rawType": "int64",
         "type": "integer"
        },
        {
         "name": "INDENT_STATE",
         "rawType": "object",
         "type": "unknown"
        }
       ],
       "conversionMethod": "pd.DataFrame",
       "ref": "2daf0e90-0f94-4678-bc3f-a19f57bcfefd",
       "rows": [
        [
         "2024-04-02 00:00:00",
         ".NET",
         "2",
         "CANCELLEDCANCELLED"
        ],
        [
         "2024-04-03 00:00:00",
         ".NET",
         "7",
         "CANCELLEDCANCELLEDCANCELLEDCANCELLEDCANCELLEDCANCELLEDCANCELLED"
        ],
        [
         "2024-04-04 00:00:00",
         ".NET",
         "9",
         "CANCELLEDCANCELLEDCANCELLEDCANCELLEDCANCELLEDCANCELLEDCANCELLEDCANCELLED"
        ],
        [
         "2024-04-05 00:00:00",
         ".NET",
         "8",
         "CANCELLEDCANCELLEDCANCELLEDCANCELLEDCANCELLEDCANCELLEDCANCELLEDCANCELLED"
        ],
        [
         "2024-04-06 00:00:00",
         ".NET",
         "0",
         "0"
        ],
        [
         "2024-04-07 00:00:00",
         ".NET",
         "0",
         "0"
        ],
        [
         "2024-04-08 00:00:00",
         ".NET",
         "8",
         "CANCELLEDCANCELLEDCANCELLEDCANCELLEDCANCELLEDCANCELLED"
        ],
        [
         "2024-04-09 00:00:00",
         ".NET",
         "0",
         "0"
        ],
        [
         "2024-04-10 00:00:00",
         ".NET",
         "8",
         "CANCELLEDFULFILLEDCANCELLEDCANCELLEDCANCELLEDCANCELLEDCANCELLED"
        ],
        [
         "2024-04-11 00:00:00",
         ".NET",
         "0",
         "0"
        ],
        [
         "2024-04-12 00:00:00",
         ".NET",
         "4",
         "CANCELLEDCANCELLEDCANCELLEDCANCELLED"
        ],
        [
         "2024-04-13 00:00:00",
         ".NET",
         "0",
         "0"
        ],
        [
         "2024-04-14 00:00:00",
         ".NET",
         "0",
         "0"
        ],
        [
         "2024-04-15 00:00:00",
         ".NET",
         "16",
         "CANCELLEDCANCELLEDCANCELLEDCANCELLEDCANCELLEDCANCELLEDCANCELLEDCANCELLEDCANCELLEDCANCELLEDFULFILLED"
        ],
        [
         "2024-04-16 00:00:00",
         ".NET",
         "2",
         "CANCELLEDCANCELLED"
        ],
        [
         "2024-04-17 00:00:00",
         ".NET",
         "3",
         "CANCELLEDCANCELLEDCANCELLED"
        ],
        [
         "2024-04-18 00:00:00",
         ".NET",
         "11",
         "CANCELLEDCANCELLEDCANCELLEDCANCELLEDCANCELLEDCANCELLEDCANCELLEDCANCELLEDCANCELLED"
        ],
        [
         "2024-04-19 00:00:00",
         ".NET",
         "5",
         "CANCELLEDFULFILLEDCANCELLEDCANCELLEDCANCELLED"
        ],
        [
         "2024-04-20 00:00:00",
         ".NET",
         "0",
         "0"
        ],
        [
         "2024-04-21 00:00:00",
         ".NET",
         "0",
         "0"
        ],
        [
         "2024-04-22 00:00:00",
         ".NET",
         "4",
         "CANCELLEDCANCELLEDCANCELLEDCANCELLED"
        ],
        [
         "2024-04-23 00:00:00",
         ".NET",
         "11",
         "CANCELLEDCANCELLEDCANCELLEDCANCELLEDCANCELLED"
        ],
        [
         "2024-04-24 00:00:00",
         ".NET",
         "4",
         "CANCELLEDCANCELLEDCANCELLEDCANCELLED"
        ],
        [
         "2024-04-25 00:00:00",
         ".NET",
         "8",
         "CANCELLEDCANCELLEDCANCELLEDCANCELLEDCANCELLEDCANCELLED"
        ],
        [
         "2024-04-26 00:00:00",
         ".NET",
         "9",
         "CANCELLEDCANCELLEDCANCELLEDCANCELLEDCANCELLEDCANCELLEDCANCELLEDCANCELLEDCANCELLED"
        ],
        [
         "2024-04-27 00:00:00",
         ".NET",
         "0",
         "0"
        ],
        [
         "2024-04-28 00:00:00",
         ".NET",
         "0",
         "0"
        ],
        [
         "2024-04-29 00:00:00",
         ".NET",
         "8",
         "CANCELLEDCANCELLEDCANCELLEDCANCELLEDCANCELLEDCANCELLEDCANCELLEDCANCELLED"
        ],
        [
         "2024-04-30 00:00:00",
         ".NET",
         "6",
         "CANCELLEDFULFILLEDCANCELLEDCANCELLEDFULFILLED"
        ],
        [
         "2024-05-01 00:00:00",
         ".NET",
         "0",
         "0"
        ],
        [
         "2024-05-02 00:00:00",
         ".NET",
         "10",
         "CANCELLEDCANCELLEDCANCELLEDCANCELLEDCANCELLEDCANCELLEDCANCELLEDCANCELLEDCANCELLEDCANCELLED"
        ],
        [
         "2024-05-03 00:00:00",
         ".NET",
         "2",
         "CANCELLEDCANCELLED"
        ],
        [
         "2024-05-04 00:00:00",
         ".NET",
         "0",
         "0"
        ],
        [
         "2024-05-05 00:00:00",
         ".NET",
         "0",
         "0"
        ],
        [
         "2024-05-06 00:00:00",
         ".NET",
         "10",
         "CANCELLEDCANCELLEDFULFILLEDCANCELLEDCANCELLEDCANCELLED"
        ],
        [
         "2024-05-07 00:00:00",
         ".NET",
         "9",
         "CANCELLEDCANCELLEDCANCELLEDCANCELLEDCANCELLEDCANCELLEDCANCELLEDCANCELLED"
        ],
        [
         "2024-05-08 00:00:00",
         ".NET",
         "27",
         "CANCELLEDFULFILLEDCANCELLEDCANCELLEDCANCELLEDCANCELLEDCANCELLEDCANCELLEDFULFILLEDCANCELLEDCANCELLEDCANCELLEDFULFILLEDCANCELLEDCANCELLEDCANCELLEDCANCELLEDPENDINGPENDINGFULFILLEDCANCELLEDCANCELLEDCANCELLED"
        ],
        [
         "2024-05-09 00:00:00",
         ".NET",
         "25",
         "CANCELLEDCANCELLEDCANCELLEDCANCELLEDCANCELLEDCANCELLEDCANCELLEDCANCELLEDCANCELLEDCANCELLEDCANCELLEDCANCELLEDCANCELLEDCANCELLEDCANCELLEDCANCELLED"
        ],
        [
         "2024-05-10 00:00:00",
         ".NET",
         "56",
         "CANCELLEDCANCELLEDCANCELLEDCANCELLEDCANCELLEDCANCELLEDCANCELLEDCANCELLEDCANCELLEDCANCELLEDCANCELLEDCANCELLEDCANCELLEDCANCELLEDCANCELLEDCANCELLEDCANCELLEDCANCELLEDCANCELLEDCANCELLEDCANCELLEDCANCELLEDCANCELLEDCANCELLEDCANCELLED"
        ],
        [
         "2024-05-11 00:00:00",
         ".NET",
         "0",
         "0"
        ],
        [
         "2024-05-12 00:00:00",
         ".NET",
         "4",
         "CANCELLEDCANCELLEDCANCELLEDCANCELLED"
        ],
        [
         "2024-05-13 00:00:00",
         ".NET",
         "6",
         "CANCELLEDCANCELLEDCANCELLEDCANCELLEDCANCELLEDCANCELLED"
        ],
        [
         "2024-05-14 00:00:00",
         ".NET",
         "9",
         "CANCELLEDCANCELLEDCANCELLEDCANCELLEDFULFILLEDFULFILLEDCANCELLED"
        ],
        [
         "2024-05-15 00:00:00",
         ".NET",
         "13",
         "FULFILLEDCANCELLEDCANCELLEDCANCELLEDCANCELLEDCANCELLEDCANCELLEDCANCELLEDCANCELLEDCANCELLEDCANCELLED"
        ],
        [
         "2024-05-16 00:00:00",
         ".NET",
         "4",
         "CANCELLEDCANCELLEDCANCELLED"
        ],
        [
         "2024-05-17 00:00:00",
         ".NET",
         "8",
         "CANCELLEDCANCELLEDCANCELLEDCANCELLEDCANCELLEDCANCELLED"
        ],
        [
         "2024-05-18 00:00:00",
         ".NET",
         "0",
         "0"
        ],
        [
         "2024-05-19 00:00:00",
         ".NET",
         "0",
         "0"
        ],
        [
         "2024-05-20 00:00:00",
         ".NET",
         "16",
         "CANCELLEDCANCELLEDCANCELLEDCANCELLEDCANCELLEDCANCELLEDCANCELLEDCANCELLEDCANCELLEDCANCELLEDCANCELLEDCANCELLEDCANCELLEDCANCELLEDCANCELLEDCANCELLED"
        ],
        [
         "2024-05-21 00:00:00",
         ".NET",
         "2",
         "CANCELLEDCANCELLED"
        ]
       ],
       "shape": {
        "columns": 3,
        "rows": 273
       }
      },
      "text/html": [
       "<div>\n",
       "<style scoped>\n",
       "    .dataframe tbody tr th:only-of-type {\n",
       "        vertical-align: middle;\n",
       "    }\n",
       "\n",
       "    .dataframe tbody tr th {\n",
       "        vertical-align: top;\n",
       "    }\n",
       "\n",
       "    .dataframe thead th {\n",
       "        text-align: right;\n",
       "    }\n",
       "</style>\n",
       "<table border=\"1\" class=\"dataframe\">\n",
       "  <thead>\n",
       "    <tr style=\"text-align: right;\">\n",
       "      <th></th>\n",
       "      <th>ESSENTIAL_SKILL</th>\n",
       "      <th>Total</th>\n",
       "      <th>INDENT_STATE</th>\n",
       "    </tr>\n",
       "    <tr>\n",
       "      <th>Date</th>\n",
       "      <th></th>\n",
       "      <th></th>\n",
       "      <th></th>\n",
       "    </tr>\n",
       "  </thead>\n",
       "  <tbody>\n",
       "    <tr>\n",
       "      <th>2024-04-02</th>\n",
       "      <td>.NET</td>\n",
       "      <td>2</td>\n",
       "      <td>CANCELLEDCANCELLED</td>\n",
       "    </tr>\n",
       "    <tr>\n",
       "      <th>2024-04-03</th>\n",
       "      <td>.NET</td>\n",
       "      <td>7</td>\n",
       "      <td>CANCELLEDCANCELLEDCANCELLEDCANCELLEDCANCELLEDC...</td>\n",
       "    </tr>\n",
       "    <tr>\n",
       "      <th>2024-04-04</th>\n",
       "      <td>.NET</td>\n",
       "      <td>9</td>\n",
       "      <td>CANCELLEDCANCELLEDCANCELLEDCANCELLEDCANCELLEDC...</td>\n",
       "    </tr>\n",
       "    <tr>\n",
       "      <th>2024-04-05</th>\n",
       "      <td>.NET</td>\n",
       "      <td>8</td>\n",
       "      <td>CANCELLEDCANCELLEDCANCELLEDCANCELLEDCANCELLEDC...</td>\n",
       "    </tr>\n",
       "    <tr>\n",
       "      <th>2024-04-06</th>\n",
       "      <td>.NET</td>\n",
       "      <td>0</td>\n",
       "      <td>0</td>\n",
       "    </tr>\n",
       "    <tr>\n",
       "      <th>...</th>\n",
       "      <td>...</td>\n",
       "      <td>...</td>\n",
       "      <td>...</td>\n",
       "    </tr>\n",
       "    <tr>\n",
       "      <th>2024-12-26</th>\n",
       "      <td>.NET</td>\n",
       "      <td>2</td>\n",
       "      <td>CANCELLEDCANCELLED</td>\n",
       "    </tr>\n",
       "    <tr>\n",
       "      <th>2024-12-27</th>\n",
       "      <td>.NET</td>\n",
       "      <td>0</td>\n",
       "      <td>0</td>\n",
       "    </tr>\n",
       "    <tr>\n",
       "      <th>2024-12-28</th>\n",
       "      <td>.NET</td>\n",
       "      <td>0</td>\n",
       "      <td>0</td>\n",
       "    </tr>\n",
       "    <tr>\n",
       "      <th>2024-12-29</th>\n",
       "      <td>.NET</td>\n",
       "      <td>1</td>\n",
       "      <td>CANCELLED</td>\n",
       "    </tr>\n",
       "    <tr>\n",
       "      <th>2024-12-30</th>\n",
       "      <td>.NET</td>\n",
       "      <td>2</td>\n",
       "      <td>PENDINGPENDING</td>\n",
       "    </tr>\n",
       "  </tbody>\n",
       "</table>\n",
       "<p>273 rows × 3 columns</p>\n",
       "</div>"
      ],
      "text/plain": [
       "           ESSENTIAL_SKILL  Total  \\\n",
       "Date                                \n",
       "2024-04-02            .NET      2   \n",
       "2024-04-03            .NET      7   \n",
       "2024-04-04            .NET      9   \n",
       "2024-04-05            .NET      8   \n",
       "2024-04-06            .NET      0   \n",
       "...                    ...    ...   \n",
       "2024-12-26            .NET      2   \n",
       "2024-12-27            .NET      0   \n",
       "2024-12-28            .NET      0   \n",
       "2024-12-29            .NET      1   \n",
       "2024-12-30            .NET      2   \n",
       "\n",
       "                                                 INDENT_STATE  \n",
       "Date                                                           \n",
       "2024-04-02                                 CANCELLEDCANCELLED  \n",
       "2024-04-03  CANCELLEDCANCELLEDCANCELLEDCANCELLEDCANCELLEDC...  \n",
       "2024-04-04  CANCELLEDCANCELLEDCANCELLEDCANCELLEDCANCELLEDC...  \n",
       "2024-04-05  CANCELLEDCANCELLEDCANCELLEDCANCELLEDCANCELLEDC...  \n",
       "2024-04-06                                                  0  \n",
       "...                                                       ...  \n",
       "2024-12-26                                 CANCELLEDCANCELLED  \n",
       "2024-12-27                                                  0  \n",
       "2024-12-28                                                  0  \n",
       "2024-12-29                                          CANCELLED  \n",
       "2024-12-30                                     PENDINGPENDING  \n",
       "\n",
       "[273 rows x 3 columns]"
      ]
     },
     "execution_count": 11,
     "metadata": {},
     "output_type": "execute_result"
    }
   ],
   "source": [
    "tmpdf['ESSENTIAL_SKILL'] = \".NET\"\n",
    "tmpdf"
   ]
  },
  {
   "cell_type": "code",
   "execution_count": 13,
   "metadata": {},
   "outputs": [],
   "source": [
    "tdf = tmpdf['Total']"
   ]
  },
  {
   "cell_type": "code",
   "execution_count": 16,
   "metadata": {},
   "outputs": [
    {
     "data": {
      "text/plain": [
       "[<matplotlib.lines.Line2D at 0x1f92b6c7b00>]"
      ]
     },
     "execution_count": 16,
     "metadata": {},
     "output_type": "execute_result"
    },
    {
     "data": {
      "image/png": "[encoded data removed]",
      "text/plain": [
       "<Figure size 1600x800 with 1 Axes>"
      ]
     },
     "metadata": {},
     "output_type": "display_data"
    }
   ],
   "source": [
    "plt.figure(figsize=(16,8))\n",
    "plt.plot(tdf, label='Open Position Trend', marker='.')\n"
   ]
  },
  {
   "cell_type": "code",
   "execution_count": 17,
   "metadata": {},
   "outputs": [],
   "source": [
    "def add_features(af):\n",
    "    af['MA7'] = af['Total'].rolling(window=7).mean()\n",
    "    af['MA30'] = af['Total'].rolling(window=30).mean()\n",
    "    af['STD7'] = af['Total'].rolling(window=7).std()\n",
    "    return af"
   ]
  },
  {
   "cell_type": "code",
   "execution_count": 28,
   "metadata": {},
   "outputs": [
    {
     "data": {
      "application/vnd.microsoft.datawrangler.viewer.v0+json": {
       "columns": [
        {
         "name": "Date",
         "rawType": "datetime64[ns]",
         "type": "datetime"
        },
        {
         "name": "ESSENTIAL_SKILL",
         "rawType": "object",
         "type": "string"
        },
        {
         "name": "Total",
         "rawType": "int64",
         "type": "integer"
        },
        {
         "name": "MA7",
         "rawType": "float64",
         "type": "float"
        },
        {
         "name": "MA30",
         "rawType": "float64",
         "type": "float"
        },
        {
         "name": "STD7",
         "rawType": "float64",
         "type": "float"
        }
       ],
       "conversionMethod": "pd.DataFrame",
       "ref": "239c4940-0c38-40bd-80fd-fd3c4397a143",
       "rows": [
        [
         "2024-04-02 00:00:00",
         ".NET",
         "2",
         null,
         null,
         null
        ],
        [
         "2024-04-03 00:00:00",
         ".NET",
         "7",
         null,
         null,
         null
        ],
        [
         "2024-04-04 00:00:00",
         ".NET",
         "9",
         null,
         null,
         null
        ],
        [
         "2024-04-05 00:00:00",
         ".NET",
         "8",
         null,
         null,
         null
        ],
        [
         "2024-04-06 00:00:00",
         ".NET",
         "0",
         null,
         null,
         null
        ],
        [
         "2024-04-07 00:00:00",
         ".NET",
         "0",
         null,
         null,
         null
        ],
        [
         "2024-04-08 00:00:00",
         ".NET",
         "8",
         "4.857142857142857",
         null,
         "4.0178174601214955"
        ],
        [
         "2024-04-09 00:00:00",
         ".NET",
         "0",
         "4.571428571428571",
         null,
         "4.314979445958882"
        ],
        [
         "2024-04-10 00:00:00",
         ".NET",
         "8",
         "4.714285714285714",
         null,
         "4.423960733486292"
        ],
        [
         "2024-04-11 00:00:00",
         ".NET",
         "0",
         "3.4285714285714284",
         null,
         "4.27617987059879"
        ],
        [
         "2024-04-12 00:00:00",
         ".NET",
         "4",
         "2.857142857142857",
         null,
         "3.804758924845368"
        ],
        [
         "2024-04-13 00:00:00",
         ".NET",
         "0",
         "2.857142857142857",
         null,
         "3.804758924845368"
        ],
        [
         "2024-04-14 00:00:00",
         ".NET",
         "0",
         "2.857142857142857",
         null,
         "3.804758924845368"
        ],
        [
         "2024-04-15 00:00:00",
         ".NET",
         "16",
         "4.0",
         null,
         "6.110100926607787"
        ],
        [
         "2024-04-16 00:00:00",
         ".NET",
         "2",
         "4.285714285714286",
         null,
         "5.936168397046638"
        ],
        [
         "2024-04-17 00:00:00",
         ".NET",
         "3",
         "3.5714285714285716",
         null,
         "5.711308748355987"
        ],
        [
         "2024-04-18 00:00:00",
         ".NET",
         "11",
         "5.142857142857143",
         null,
         "6.0670852812140215"
        ],
        [
         "2024-04-19 00:00:00",
         ".NET",
         "5",
         "5.285714285714286",
         null,
         "6.047431568147636"
        ],
        [
         "2024-04-20 00:00:00",
         ".NET",
         "0",
         "5.285714285714286",
         null,
         "6.047431568147636"
        ],
        [
         "2024-04-21 00:00:00",
         ".NET",
         "0",
         "5.285714285714286",
         null,
         "6.047431568147636"
        ],
        [
         "2024-04-22 00:00:00",
         ".NET",
         "4",
         "3.5714285714285716",
         null,
         "3.779644730092272"
        ],
        [
         "2024-04-23 00:00:00",
         ".NET",
         "11",
         "4.857142857142857",
         null,
         "4.59813626840888"
        ],
        [
         "2024-04-24 00:00:00",
         ".NET",
         "4",
         "5.0",
         null,
         "4.546060565661952"
        ],
        [
         "2024-04-25 00:00:00",
         ".NET",
         "8",
         "4.571428571428571",
         null,
         "3.9940431835899006"
        ],
        [
         "2024-04-26 00:00:00",
         ".NET",
         "9",
         "5.142857142857143",
         null,
         "4.336994790119514"
        ],
        [
         "2024-04-27 00:00:00",
         ".NET",
         "0",
         "5.142857142857143",
         null,
         "4.336994790119514"
        ],
        [
         "2024-04-28 00:00:00",
         ".NET",
         "0",
         "5.142857142857143",
         null,
         "4.336994790119514"
        ],
        [
         "2024-04-29 00:00:00",
         ".NET",
         "8",
         "5.714285714285714",
         null,
         "4.423960733486291"
        ],
        [
         "2024-04-30 00:00:00",
         ".NET",
         "6",
         "5.0",
         null,
         "3.785938897200182"
        ],
        [
         "2024-05-01 00:00:00",
         ".NET",
         "0",
         "4.428571428571429",
         "4.433333333333334",
         "4.2370250120079485"
        ],
        [
         "2024-05-02 00:00:00",
         ".NET",
         "10",
         "4.714285714285714",
         "4.7",
         "4.572172558506722"
        ],
        [
         "2024-05-03 00:00:00",
         ".NET",
         "2",
         "3.7142857142857144",
         "4.533333333333333",
         "4.231401884099631"
        ],
        [
         "2024-05-04 00:00:00",
         ".NET",
         "0",
         "3.7142857142857144",
         "4.233333333333333",
         "4.231401884099631"
        ],
        [
         "2024-05-05 00:00:00",
         ".NET",
         "0",
         "3.7142857142857144",
         "3.966666666666667",
         "4.231401884099631"
        ],
        [
         "2024-05-06 00:00:00",
         ".NET",
         "10",
         "4.0",
         "4.3",
         "4.618802153517006"
        ],
        [
         "2024-05-07 00:00:00",
         ".NET",
         "9",
         "4.428571428571429",
         "4.6",
         "4.961758520831865"
        ],
        [
         "2024-05-08 00:00:00",
         ".NET",
         "27",
         "8.285714285714286",
         "5.233333333333333",
         "9.428932172031036"
        ],
        [
         "2024-05-09 00:00:00",
         ".NET",
         "25",
         "10.428571428571429",
         "6.066666666666666",
         "11.385036127261415"
        ],
        [
         "2024-05-10 00:00:00",
         ".NET",
         "56",
         "18.142857142857142",
         "7.666666666666667",
         "19.8614246839493"
        ],
        [
         "2024-05-11 00:00:00",
         ".NET",
         "0",
         "18.142857142857142",
         "7.666666666666667",
         "19.8614246839493"
        ],
        [
         "2024-05-12 00:00:00",
         ".NET",
         "4",
         "18.714285714285715",
         "7.666666666666667",
         "19.302109433205185"
        ],
        [
         "2024-05-13 00:00:00",
         ".NET",
         "6",
         "18.142857142857142",
         "7.866666666666666",
         "19.658997697649557"
        ],
        [
         "2024-05-14 00:00:00",
         ".NET",
         "9",
         "18.142857142857142",
         "8.166666666666666",
         "19.658997697649557"
        ],
        [
         "2024-05-15 00:00:00",
         ".NET",
         "13",
         "16.142857142857142",
         "8.066666666666666",
         "19.31690599301185"
        ],
        [
         "2024-05-16 00:00:00",
         ".NET",
         "4",
         "13.142857142857142",
         "8.133333333333333",
         "19.342772736680157"
        ],
        [
         "2024-05-17 00:00:00",
         ".NET",
         "8",
         "6.285714285714286",
         "8.3",
         "4.191828786034631"
        ],
        [
         "2024-05-18 00:00:00",
         ".NET",
         "0",
         "6.285714285714286",
         "7.933333333333334",
         "4.191828786034631"
        ],
        [
         "2024-05-19 00:00:00",
         ".NET",
         "0",
         "5.714285714285714",
         "7.766666666666667",
         "4.785891965429423"
        ],
        [
         "2024-05-20 00:00:00",
         ".NET",
         "16",
         "7.142857142857143",
         "8.3",
         "6.1759903774906535"
        ],
        [
         "2024-05-21 00:00:00",
         ".NET",
         "2",
         "6.142857142857143",
         "8.366666666666667",
         "6.3882332306768355"
        ]
       ],
       "shape": {
        "columns": 5,
        "rows": 273
       }
      },
      "text/html": [
       "<div>\n",
       "<style scoped>\n",
       "    .dataframe tbody tr th:only-of-type {\n",
       "        vertical-align: middle;\n",
       "    }\n",
       "\n",
       "    .dataframe tbody tr th {\n",
       "        vertical-align: top;\n",
       "    }\n",
       "\n",
       "    .dataframe thead th {\n",
       "        text-align: right;\n",
       "    }\n",
       "</style>\n",
       "<table border=\"1\" class=\"dataframe\">\n",
       "  <thead>\n",
       "    <tr style=\"text-align: right;\">\n",
       "      <th></th>\n",
       "      <th>ESSENTIAL_SKILL</th>\n",
       "      <th>Total</th>\n",
       "      <th>MA7</th>\n",
       "      <th>MA30</th>\n",
       "      <th>STD7</th>\n",
       "    </tr>\n",
       "    <tr>\n",
       "      <th>Date</th>\n",
       "      <th></th>\n",
       "      <th></th>\n",
       "      <th></th>\n",
       "      <th></th>\n",
       "      <th></th>\n",
       "    </tr>\n",
       "  </thead>\n",
       "  <tbody>\n",
       "    <tr>\n",
       "      <th>2024-04-02</th>\n",
       "      <td>.NET</td>\n",
       "      <td>2</td>\n",
       "      <td>NaN</td>\n",
       "      <td>NaN</td>\n",
       "      <td>NaN</td>\n",
       "    </tr>\n",
       "    <tr>\n",
       "      <th>2024-04-03</th>\n",
       "      <td>.NET</td>\n",
       "      <td>7</td>\n",
       "      <td>NaN</td>\n",
       "      <td>NaN</td>\n",
       "      <td>NaN</td>\n",
       "    </tr>\n",
       "    <tr>\n",
       "      <th>2024-04-04</th>\n",
       "      <td>.NET</td>\n",
       "      <td>9</td>\n",
       "      <td>NaN</td>\n",
       "      <td>NaN</td>\n",
       "      <td>NaN</td>\n",
       "    </tr>\n",
       "    <tr>\n",
       "      <th>2024-04-05</th>\n",
       "      <td>.NET</td>\n",
       "      <td>8</td>\n",
       "      <td>NaN</td>\n",
       "      <td>NaN</td>\n",
       "      <td>NaN</td>\n",
       "    </tr>\n",
       "    <tr>\n",
       "      <th>2024-04-06</th>\n",
       "      <td>.NET</td>\n",
       "      <td>0</td>\n",
       "      <td>NaN</td>\n",
       "      <td>NaN</td>\n",
       "      <td>NaN</td>\n",
       "    </tr>\n",
       "    <tr>\n",
       "      <th>...</th>\n",
       "      <td>...</td>\n",
       "      <td>...</td>\n",
       "      <td>...</td>\n",
       "      <td>...</td>\n",
       "      <td>...</td>\n",
       "    </tr>\n",
       "    <tr>\n",
       "      <th>2024-12-26</th>\n",
       "      <td>.NET</td>\n",
       "      <td>2</td>\n",
       "      <td>1.000000</td>\n",
       "      <td>4.100000</td>\n",
       "      <td>1.290994</td>\n",
       "    </tr>\n",
       "    <tr>\n",
       "      <th>2024-12-27</th>\n",
       "      <td>.NET</td>\n",
       "      <td>0</td>\n",
       "      <td>0.571429</td>\n",
       "      <td>3.833333</td>\n",
       "      <td>0.975900</td>\n",
       "    </tr>\n",
       "    <tr>\n",
       "      <th>2024-12-28</th>\n",
       "      <td>.NET</td>\n",
       "      <td>0</td>\n",
       "      <td>0.571429</td>\n",
       "      <td>3.833333</td>\n",
       "      <td>0.975900</td>\n",
       "    </tr>\n",
       "    <tr>\n",
       "      <th>2024-12-29</th>\n",
       "      <td>.NET</td>\n",
       "      <td>1</td>\n",
       "      <td>0.714286</td>\n",
       "      <td>3.833333</td>\n",
       "      <td>0.951190</td>\n",
       "    </tr>\n",
       "    <tr>\n",
       "      <th>2024-12-30</th>\n",
       "      <td>.NET</td>\n",
       "      <td>2</td>\n",
       "      <td>0.714286</td>\n",
       "      <td>3.900000</td>\n",
       "      <td>0.951190</td>\n",
       "    </tr>\n",
       "  </tbody>\n",
       "</table>\n",
       "<p>273 rows × 5 columns</p>\n",
       "</div>"
      ],
      "text/plain": [
       "           ESSENTIAL_SKILL  Total       MA7      MA30      STD7\n",
       "Date                                                           \n",
       "2024-04-02            .NET      2       NaN       NaN       NaN\n",
       "2024-04-03            .NET      7       NaN       NaN       NaN\n",
       "2024-04-04            .NET      9       NaN       NaN       NaN\n",
       "2024-04-05            .NET      8       NaN       NaN       NaN\n",
       "2024-04-06            .NET      0       NaN       NaN       NaN\n",
       "...                    ...    ...       ...       ...       ...\n",
       "2024-12-26            .NET      2  1.000000  4.100000  1.290994\n",
       "2024-12-27            .NET      0  0.571429  3.833333  0.975900\n",
       "2024-12-28            .NET      0  0.571429  3.833333  0.975900\n",
       "2024-12-29            .NET      1  0.714286  3.833333  0.951190\n",
       "2024-12-30            .NET      2  0.714286  3.900000  0.951190\n",
       "\n",
       "[273 rows x 5 columns]"
      ]
     },
     "execution_count": 28,
     "metadata": {},
     "output_type": "execute_result"
    }
   ],
   "source": [
    "tdf = add_features(tmpdf)\n",
    "tdf = tdf[[\"ESSENTIAL_SKILL\",\"Total\",\"MA7\",\"MA30\",\"STD7\"]]\n",
    "tdf"
   ]
  },
  {
   "cell_type": "code",
   "execution_count": 27,
   "metadata": {},
   "outputs": [
    {
     "data": {
      "image/png": "[encoded data removed]",
      "text/plain": [
       "<Figure size 1600x800 with 1 Axes>"
      ]
     },
     "metadata": {},
     "output_type": "display_data"
    }
   ],
   "source": [
    "# Create a figure with specified size\n",
    "plt.figure(figsize=(16, 8))\n",
    "\n",
    "# Plot all columns\n",
    "for column in tdf.columns:\n",
    "    plt.plot(tdf[column], label=column, marker='.')\n",
    "\n",
    "# Customize the plot\n",
    "plt.title('Trend Analysis of All Positions', fontsize=14)\n",
    "plt.xlabel('Index', fontsize=12)\n",
    "plt.ylabel('Number of Positions', fontsize=12)\n",
    "plt.legend(bbox_to_anchor=(1.05, 1), loc='upper left')\n",
    "plt.grid(True, linestyle='--', alpha=0.7)\n",
    "\n",
    "# Rotate x-axis labels if needed\n",
    "plt.xticks(rotation=45)\n",
    "\n",
    "# Adjust layout to prevent label cutoff\n",
    "plt.tight_layout()\n",
    "\n",
    "# Show the plot\n",
    "plt.show()"
   ]
  },
  {
   "cell_type": "code",
   "execution_count": null,
   "metadata": {},
   "outputs": [],
   "source": [
    "reg = xgb.XGBRegressor()"
   ]
  },
  {
   "cell_type": "code",
   "execution_count": 1,
   "metadata": {},
   "outputs": [
    {
     "name": "stdout",
     "output_type": "stream",
     "text": [
      "Requirement already satisfied: nltk in d:\\onedrive - wipro\\desktop\\trainng-perl_python\\.venv\\lib\\site-packages (3.9.1)\n",
      "Requirement already satisfied: gensim in d:\\onedrive - wipro\\desktop\\trainng-perl_python\\.venv\\lib\\site-packages (4.3.3)\n",
      "Collecting wordcloud\n",
      "  Downloading wordcloud-1.9.4-cp312-cp312-win_amd64.whl.metadata (3.5 kB)\n",
      "Requirement already satisfied: click in d:\\onedrive - wipro\\desktop\\trainng-perl_python\\.venv\\lib\\site-packages (from nltk) (8.1.8)\n",
      "Requirement already satisfied: joblib in d:\\onedrive - wipro\\desktop\\trainng-perl_python\\.venv\\lib\\site-packages (from nltk) (1.4.2)\n",
      "Requirement already satisfied: regex>=2021.8.3 in d:\\onedrive - wipro\\desktop\\trainng-perl_python\\.venv\\lib\\site-packages (from nltk) (2024.11.6)\n",
      "Requirement already satisfied: tqdm in d:\\onedrive - wipro\\desktop\\trainng-perl_python\\.venv\\lib\\site-packages (from nltk) (4.67.1)\n",
      "Requirement already satisfied: numpy<2.0,>=1.18.5 in d:\\onedrive - wipro\\desktop\\trainng-perl_python\\.venv\\lib\\site-packages (from gensim) (1.26.4)\n",
      "Requirement already satisfied: scipy<1.14.0,>=1.7.0 in d:\\onedrive - wipro\\desktop\\trainng-perl_python\\.venv\\lib\\site-packages (from gensim) (1.13.1)\n",
      "Requirement already satisfied: smart-open>=1.8.1 in d:\\onedrive - wipro\\desktop\\trainng-perl_python\\.venv\\lib\\site-packages (from gensim) (7.1.0)\n",
      "Requirement already satisfied: pillow in d:\\onedrive - wipro\\desktop\\trainng-perl_python\\.venv\\lib\\site-packages (from wordcloud) (11.1.0)\n",
      "Requirement already satisfied: matplotlib in d:\\onedrive - wipro\\desktop\\trainng-perl_python\\.venv\\lib\\site-packages (from wordcloud) (3.10.0)\n",
      "Requirement already satisfied: wrapt in d:\\onedrive - wipro\\desktop\\trainng-perl_python\\.venv\\lib\\site-packages (from smart-open>=1.8.1->gensim) (1.17.2)\n",
      "Requirement already satisfied: colorama in d:\\onedrive - wipro\\desktop\\trainng-perl_python\\.venv\\lib\\site-packages (from click->nltk) (0.4.6)\n",
      "Requirement already satisfied: contourpy>=1.0.1 in d:\\onedrive - wipro\\desktop\\trainng-perl_python\\.venv\\lib\\site-packages (from matplotlib->wordcloud) (1.3.1)\n",
      "Requirement already satisfied: cycler>=0.10 in d:\\onedrive - wipro\\desktop\\trainng-perl_python\\.venv\\lib\\site-packages (from matplotlib->wordcloud) (0.12.1)\n",
      "Requirement already satisfied: fonttools>=4.22.0 in d:\\onedrive - wipro\\desktop\\trainng-perl_python\\.venv\\lib\\site-packages (from matplotlib->wordcloud) (4.56.0)\n",
      "Requirement already satisfied: kiwisolver>=1.3.1 in d:\\onedrive - wipro\\desktop\\trainng-perl_python\\.venv\\lib\\site-packages (from matplotlib->wordcloud) (1.4.8)\n",
      "Requirement already satisfied: packaging>=20.0 in d:\\onedrive - wipro\\desktop\\trainng-perl_python\\.venv\\lib\\site-packages (from matplotlib->wordcloud) (24.2)\n",
      "Requirement already satisfied: pyparsing>=2.3.1 in d:\\onedrive - wipro\\desktop\\trainng-perl_python\\.venv\\lib\\site-packages (from matplotlib->wordcloud) (3.2.1)\n",
      "Requirement already satisfied: python-dateutil>=2.7 in d:\\onedrive - wipro\\desktop\\trainng-perl_python\\.venv\\lib\\site-packages (from matplotlib->wordcloud) (2.9.0.post0)\n",
      "Requirement already satisfied: six>=1.5 in d:\\onedrive - wipro\\desktop\\trainng-perl_python\\.venv\\lib\\site-packages (from python-dateutil>=2.7->matplotlib->wordcloud) (1.17.0)\n",
      "Downloading wordcloud-1.9.4-cp312-cp312-win_amd64.whl (301 kB)\n",
      "Installing collected packages: wordcloud\n",
      "Successfully installed wordcloud-1.9.4\n",
      "Note: you may need to restart the kernel to use updated packages.\n"
     ]
    }
   ],
   "source": [
    "%pip install nltk gensim wordcloud"
   ]
  }
 ],
 "metadata": {
  "kernelspec": {
   "display_name": ".venv",
   "language": "python",
   "name": "python3"
  },
  "language_info": {
   "codemirror_mode": {
    "name": "ipython",
    "version": 3
   },
   "file_extension": ".py",
   "mimetype": "text/x-python",
   "name": "python",
   "nbconvert_exporter": "python",
   "pygments_lexer": "ipython3",
   "version": "3.12.6"
  }
 },
 "nbformat": 4,
 "nbformat_minor": 2
}
