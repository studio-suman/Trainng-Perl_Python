{
 "cells": [
  {
   "cell_type": "code",
   "execution_count": 2,
   "metadata": {},
   "outputs": [],
   "source": [
    "import gensim.downloader as api\n",
    "from gensim.similarities import SoftCosineSimilarity, SparseTermSimilarityMatrix\n"
   ]
  },
  {
   "cell_type": "code",
   "execution_count": 5,
   "metadata": {},
   "outputs": [
    {
     "ename": "KeyError",
     "evalue": "\"Key 'Reect' not present\"",
     "output_type": "error",
     "traceback": [
      "\u001b[1;31m---------------------------------------------------------------------------\u001b[0m",
      "\u001b[1;31mKeyError\u001b[0m                                  Traceback (most recent call last)",
      "\u001b[1;32mc:\\Users\\HSASS\\OneDrive - Wipro\\Desktop\\Trainng-Perl_Python\\Python_Codes\\NearSkill.ipynb Cell 2\u001b[0m in \u001b[0;36m1\n\u001b[0;32m     <a href='vscode-notebook-cell:/c%3A/Users/HSASS/OneDrive%20-%20Wipro/Desktop/Trainng-Perl_Python/Python_Codes/NearSkill.ipynb#W2sZmlsZQ%3D%3D?line=15'>16</a>\u001b[0m input_skill \u001b[39m=\u001b[39m \u001b[39m'\u001b[39m\u001b[39mReect\u001b[39m\u001b[39m'\u001b[39m\n\u001b[0;32m     <a href='vscode-notebook-cell:/c%3A/Users/HSASS/OneDrive%20-%20Wipro/Desktop/Trainng-Perl_Python/Python_Codes/NearSkill.ipynb#W2sZmlsZQ%3D%3D?line=16'>17</a>\u001b[0m input_skill_list \u001b[39m=\u001b[39m [\u001b[39m'\u001b[39m\u001b[39mCore Java\u001b[39m\u001b[39m'\u001b[39m, \u001b[39m'\u001b[39m\u001b[39mHibernate\u001b[39m\u001b[39m'\u001b[39m]\n\u001b[1;32m---> <a href='vscode-notebook-cell:/c%3A/Users/HSASS/OneDrive%20-%20Wipro/Desktop/Trainng-Perl_Python/Python_Codes/NearSkill.ipynb#W2sZmlsZQ%3D%3D?line=17'>18</a>\u001b[0m matches \u001b[39m=\u001b[39m find_matches(input_skill, skills, vectors)\n\u001b[0;32m     <a href='vscode-notebook-cell:/c%3A/Users/HSASS/OneDrive%20-%20Wipro/Desktop/Trainng-Perl_Python/Python_Codes/NearSkill.ipynb#W2sZmlsZQ%3D%3D?line=18'>19</a>\u001b[0m \u001b[39mprint\u001b[39m(matches)\n",
      "\u001b[1;32mc:\\Users\\HSASS\\OneDrive - Wipro\\Desktop\\Trainng-Perl_Python\\Python_Codes\\NearSkill.ipynb Cell 2\u001b[0m in \u001b[0;36m8\n\u001b[0;32m      <a href='vscode-notebook-cell:/c%3A/Users/HSASS/OneDrive%20-%20Wipro/Desktop/Trainng-Perl_Python/Python_Codes/NearSkill.ipynb#W2sZmlsZQ%3D%3D?line=5'>6</a>\u001b[0m \u001b[39mdef\u001b[39;00m \u001b[39mfind_matches\u001b[39m(input_skill, skills_list, embeddings):\n\u001b[0;32m      <a href='vscode-notebook-cell:/c%3A/Users/HSASS/OneDrive%20-%20Wipro/Desktop/Trainng-Perl_Python/Python_Codes/NearSkill.ipynb#W2sZmlsZQ%3D%3D?line=6'>7</a>\u001b[0m     \u001b[39m\"\"\"Finds near matches for the input skill from the skills list using cosine similarity.\"\"\"\u001b[39;00m\n\u001b[1;32m----> <a href='vscode-notebook-cell:/c%3A/Users/HSASS/OneDrive%20-%20Wipro/Desktop/Trainng-Perl_Python/Python_Codes/NearSkill.ipynb#W2sZmlsZQ%3D%3D?line=7'>8</a>\u001b[0m     input_vec \u001b[39m=\u001b[39m embeddings[input_skill]\n\u001b[0;32m      <a href='vscode-notebook-cell:/c%3A/Users/HSASS/OneDrive%20-%20Wipro/Desktop/Trainng-Perl_Python/Python_Codes/NearSkill.ipynb#W2sZmlsZQ%3D%3D?line=8'>9</a>\u001b[0m     similarity_matrix \u001b[39m=\u001b[39m SparseTermSimilarityMatrix(embeddings, skills_list)\n\u001b[0;32m     <a href='vscode-notebook-cell:/c%3A/Users/HSASS/OneDrive%20-%20Wipro/Desktop/Trainng-Perl_Python/Python_Codes/NearSkill.ipynb#W2sZmlsZQ%3D%3D?line=9'>10</a>\u001b[0m     index \u001b[39m=\u001b[39m SoftCosineSimilarity(similarity_matrix, [input_vec])\n",
      "File \u001b[1;32mc:\\Program Files\\Python311\\Lib\\site-packages\\gensim\\models\\keyedvectors.py:403\u001b[0m, in \u001b[0;36mKeyedVectors.__getitem__\u001b[1;34m(self, key_or_keys)\u001b[0m\n\u001b[0;32m    389\u001b[0m \u001b[39m\"\"\"Get vector representation of `key_or_keys`.\u001b[39;00m\n\u001b[0;32m    390\u001b[0m \n\u001b[0;32m    391\u001b[0m \u001b[39mParameters\u001b[39;00m\n\u001b[1;32m   (...)\u001b[0m\n\u001b[0;32m    400\u001b[0m \n\u001b[0;32m    401\u001b[0m \u001b[39m\"\"\"\u001b[39;00m\n\u001b[0;32m    402\u001b[0m \u001b[39mif\u001b[39;00m \u001b[39misinstance\u001b[39m(key_or_keys, _KEY_TYPES):\n\u001b[1;32m--> 403\u001b[0m     \u001b[39mreturn\u001b[39;00m \u001b[39mself\u001b[39;49m\u001b[39m.\u001b[39;49mget_vector(key_or_keys)\n\u001b[0;32m    405\u001b[0m \u001b[39mreturn\u001b[39;00m vstack([\u001b[39mself\u001b[39m\u001b[39m.\u001b[39mget_vector(key) \u001b[39mfor\u001b[39;00m key \u001b[39min\u001b[39;00m key_or_keys])\n",
      "File \u001b[1;32mc:\\Program Files\\Python311\\Lib\\site-packages\\gensim\\models\\keyedvectors.py:446\u001b[0m, in \u001b[0;36mKeyedVectors.get_vector\u001b[1;34m(self, key, norm)\u001b[0m\n\u001b[0;32m    422\u001b[0m \u001b[39mdef\u001b[39;00m \u001b[39mget_vector\u001b[39m(\u001b[39mself\u001b[39m, key, norm\u001b[39m=\u001b[39m\u001b[39mFalse\u001b[39;00m):\n\u001b[0;32m    423\u001b[0m     \u001b[39m\"\"\"Get the key's vector, as a 1D numpy array.\u001b[39;00m\n\u001b[0;32m    424\u001b[0m \n\u001b[0;32m    425\u001b[0m \u001b[39m    Parameters\u001b[39;00m\n\u001b[1;32m   (...)\u001b[0m\n\u001b[0;32m    444\u001b[0m \n\u001b[0;32m    445\u001b[0m \u001b[39m    \"\"\"\u001b[39;00m\n\u001b[1;32m--> 446\u001b[0m     index \u001b[39m=\u001b[39m \u001b[39mself\u001b[39;49m\u001b[39m.\u001b[39;49mget_index(key)\n\u001b[0;32m    447\u001b[0m     \u001b[39mif\u001b[39;00m norm:\n\u001b[0;32m    448\u001b[0m         \u001b[39mself\u001b[39m\u001b[39m.\u001b[39mfill_norms()\n",
      "File \u001b[1;32mc:\\Program Files\\Python311\\Lib\\site-packages\\gensim\\models\\keyedvectors.py:420\u001b[0m, in \u001b[0;36mKeyedVectors.get_index\u001b[1;34m(self, key, default)\u001b[0m\n\u001b[0;32m    418\u001b[0m     \u001b[39mreturn\u001b[39;00m default\n\u001b[0;32m    419\u001b[0m \u001b[39melse\u001b[39;00m:\n\u001b[1;32m--> 420\u001b[0m     \u001b[39mraise\u001b[39;00m \u001b[39mKeyError\u001b[39;00m(\u001b[39mf\u001b[39m\u001b[39m\"\u001b[39m\u001b[39mKey \u001b[39m\u001b[39m'\u001b[39m\u001b[39m{\u001b[39;00mkey\u001b[39m}\u001b[39;00m\u001b[39m'\u001b[39m\u001b[39m not present\u001b[39m\u001b[39m\"\u001b[39m)\n",
      "\u001b[1;31mKeyError\u001b[0m: \"Key 'Reect' not present\""
     ]
    }
   ],
   "source": [
    "# Download pre-trained word embeddings\n",
    "vectors = api.load(\"glove-wiki-gigaword-300\")\n",
    "\n",
    "skills = ['Python', 'Java', 'JavaScript', 'HTML', 'CSS', 'React', 'Node.js', 'SQL']\n",
    "\n",
    "def find_matches(input_skill, skills_list, embeddings):\n",
    "    \"\"\"Finds near matches for the input skill from the skills list using cosine similarity.\"\"\"\n",
    "    input_vec = embeddings[input_skill]\n",
    "    similarity_matrix = SparseTermSimilarityMatrix(embeddings, skills_list)\n",
    "    index = SoftCosineSimilarity(similarity_matrix, [input_vec])\n",
    "    scores = index[embeddings.index2word]\n",
    "    matches = list(zip(skills_list, scores))\n",
    "    matches.sort(key=lambda x: x[1], reverse=True)\n",
    "    return matches[:5]\n",
    "\n",
    "input_skill = 'Reect'\n",
    "input_skill_list = ['Core Java', 'Hibernate']\n",
    "matches = find_matches(input_skill, skills, vectors)\n",
    "print(matches)"
   ]
  }
 ],
 "metadata": {
  "kernelspec": {
   "display_name": "Python 3",
   "language": "python",
   "name": "python3"
  },
  "language_info": {
   "codemirror_mode": {
    "name": "ipython",
    "version": 3
   },
   "file_extension": ".py",
   "mimetype": "text/x-python",
   "name": "python",
   "nbconvert_exporter": "python",
   "pygments_lexer": "ipython3",
   "version": "3.11.0"
  },
  "orig_nbformat": 4
 },
 "nbformat": 4,
 "nbformat_minor": 2
}
