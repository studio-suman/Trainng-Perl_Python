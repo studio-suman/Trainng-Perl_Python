{
 "cells": [
  {
   "cell_type": "markdown",
   "id": "f4e8dead-40cf-4693-bf09-eef51c0697f8",
   "metadata": {},
   "source": [
    "# Basic Completions with user query\n",
    "\n",
    "This demonstrates how a user can interact with an API by providing a prompt and receiving a response. The example showcases a specific use case of querying a completion skill."
   ]
  },
  {
   "cell_type": "code",
   "execution_count": 1,
   "id": "c7b4dc12-2424-4242-bf15-c3937088d5bc",
   "metadata": {
    "trusted": true
   },
   "outputs": [],
   "source": [
    "import requests\n",
    "\n",
    "url = \"https://api.lab45.ai/v1.1/skills/completion/query\"\n",
    "\n",
    "payload = {\n",
    "    \"messages\": [  \n",
    "        {\"content\": \"tell me about nature\", \"role\": \"user\"}  \n",
    "    ],\n",
    "    \"skill_parameters\" : {  \n",
    "        \"model_name\" : \"gpt-4o\",  \n",
    "        \"emb_type\": \"openai\", \n",
    "        \"max_output_tokens\": 100 \n",
    "    },\n",
    "    \"stream_response\": False\n",
    "}\n",
    "headers = {\n",
    "    \"Content-Type\": \"application/json\",\n",
    "    \"Accept\": \"text/event-stream, application/json\",\n",
    "    \"Authorization\": \"Bearer <api_key>\" #Replace <api_key> with your API key for authentication\n",
    "}\n",
    "\n",
    "response = requests.post(url, json=payload, headers=headers)"
   ]
  },
  {
   "cell_type": "markdown",
   "id": "035e0c0b-1d9c-422c-b619-58b571049b3a",
   "metadata": {},
   "source": [
    "Printing the API response to examine the result."
   ]
  },
  {
   "cell_type": "code",
   "execution_count": 2,
   "id": "fe91b89e-2f6f-4b93-a3df-f593ef33a8e5",
   "metadata": {
    "trusted": true
   },
   "outputs": [
    {
     "name": "stdout",
     "output_type": "stream",
     "text": [
      "{'data': {'content': 'Nature encompasses everything in the physical world that is not made by humans. It includes all living organisms (animals, plants, fungi, microorganisms), their interactions within ecosystems, and the non-living components of the environment such as air, water, minerals, and the climate. Nature can refer to geological processes, evolutionary processes, and universal phenomena like weather patterns, ocean currents, and the lifecycle of stars. Here are a few key aspects of nature:\\n\\n1. **Biodiversity**: This term refers'}}\n"
     ]
    }
   ],
   "source": [
    "print(response.json())"
   ]
  }
 ],
 "metadata": {
  "kernelspec": {
   "display_name": ".venv",
   "language": "python",
   "name": "python3"
  },
  "language_info": {
   "codemirror_mode": {
    "name": "ipython",
    "version": 3
   },
   "file_extension": ".py",
   "mimetype": "text/x-python",
   "name": "python",
   "nbconvert_exporter": "python",
   "pygments_lexer": "ipython3",
   "version": "3.12.6"
  }
 },
 "nbformat": 4,
 "nbformat_minor": 5
}
