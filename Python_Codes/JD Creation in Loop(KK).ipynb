{
 "cells": [
  {
   "cell_type": "code",
   "execution_count": 1,
   "metadata": {},
   "outputs": [],
   "source": [
    "import os\n",
    "from pydantic import Extra\n",
    "import requests\n",
    "from typing import Any, List, Mapping, Optional\n",
    "\n",
    "from langchain.callbacks.manager import CallbackManagerForLLMRun\n",
    "from langchain.llms.base import LLM\n",
    "from langchain_core.output_parsers import StrOutputParser\n",
    "from langchain_core.prompts import ChatPromptTemplate\n",
    "import pandas as pd\n",
    "from langchain.prompts import PromptTemplate\n",
    "# Run chain\n",
    "from langchain.chains import RetrievalQA\n",
    "from langchain_community.vectorstores import FAISS # type: ignore\n",
    "from langchain_ollama import OllamaEmbeddings # type: ignore\n",
    "import warnings\n",
    "warnings.filterwarnings('ignore')"
   ]
  },
  {
   "cell_type": "code",
   "execution_count": 2,
   "metadata": {},
   "outputs": [],
   "source": [
    "os.environ[\"token\"] = \"Bearer token|123675a6-95f6-4fb7-bc95-30095472ae3a|02de311fd83421a7fd637bf34dc8f959caa29f39888d2919e4b9640a2220224b\"\n",
    "token = os.environ[\"token\"]\n",
    "Path = r\"D:\\OneDrive - Wipro\\Desktop\\Static Dumps\\Role-Skill-Cluster Master Report.csv\""
   ]
  },
  {
   "cell_type": "code",
   "execution_count": 3,
   "metadata": {},
   "outputs": [],
   "source": [
    "from typing import ClassVar\n",
    "\n",
    "parser = StrOutputParser()\n",
    "\n",
    "class LlamaLLM(LLM):\n",
    "    llm_url: ClassVar[str] = 'https://api.lab45.ai/v1.1/skills/completion/query'\n",
    "    \n",
    "    backend:        Optional[str]   = 'gpt-35-turbo-16k'\n",
    "    temp:           Optional[float] = 0.7\n",
    "    top_p:          Optional[float] = 0.1\n",
    "    top_k:          Optional[int]   = 40\n",
    "    n_batch:        Optional[int]   = 8\n",
    "    n_threads:      Optional[int]   = 4\n",
    "    n_predict:      Optional[int]   = 256\n",
    "    max_tokens:     Optional[int]   = 256\n",
    "    repeat_last_n:  Optional[int]   = 64\n",
    "    repeat_penalty: Optional[float] = 1.18\n",
    "\n",
    "    class Config:\n",
    "        extra = Extra.forbid\n",
    "\n",
    "    @property\n",
    "    def _llm_type(self) -> str:\n",
    "        return \"gpt-35-turbo-16k\"\n",
    "    \n",
    "    @property\n",
    "    def _get_model_default_parameters(self):\n",
    "        return {\n",
    "            \"max_tokens\": self.max_tokens,\n",
    "            #\"n_predict\": self.n_predict,\n",
    "            \"top_k\": self.top_k,\n",
    "            \"top_p\": self.top_p,\n",
    "            \"temperature\": self.temp,\n",
    "            #\"n_batch\": self.n_batch,\n",
    "            #\"repeat_penalty\": self.repeat_penalty,\n",
    "            #\"repeat_last_n\": self.repeat_last_n,\n",
    "        }\n",
    "\n",
    "    def _call(\n",
    "        self,\n",
    "        prompt: str,\n",
    "        user: str,\n",
    "        stop: Optional[List[str]] = None,\n",
    "        run_manager: Optional[CallbackManagerForLLMRun] = None,\n",
    "        **kwargs: Any,\n",
    "    ) -> str:\n",
    "        if stop is not None:\n",
    "            raise ValueError(\"stop kwargs are not permitted.\")\n",
    "\n",
    "        payload = {\n",
    "        \"messages\": [\n",
    "            {\n",
    "            \"content\": prompt,\n",
    "            \"role\": user\n",
    "            }\n",
    "        ],\n",
    "        \"skill_parameters\": {\n",
    "            \"model_name\": \"gpt-35-turbo-16k\",\n",
    "            \"max_output_tokens\": 4096,\n",
    "            \"temperature\": 0,\n",
    "            \"top_k\": 5\n",
    "        },\n",
    "        \"stream_response\": False\n",
    "        }\n",
    "\n",
    "        headers = {\"Content-Type\": \"application/json\",\"Authorization\": token}\n",
    "\n",
    "        response = requests.post(self.llm_url, json=payload, headers=headers, verify=False)\n",
    "\n",
    "       # print(\"API Response:\", response.json())\n",
    "        response.raise_for_status()\n",
    "\n",
    "        return response.json()  # get the response from the API\n",
    "\n",
    "    @property\n",
    "    def _identifying_params(self) -> Mapping[str, Any]:\n",
    "        \"\"\"Get the identifying parameters.\"\"\"\n",
    "        return {\n",
    "            \"llmUrl\": self.llm_url,\n",
    "            'model_parameters': self._get_model_default_parameters\n",
    "            }"
   ]
  },
  {
   "cell_type": "code",
   "execution_count": 4,
   "metadata": {},
   "outputs": [],
   "source": [
    "llm = LlamaLLM()"
   ]
  },
  {
   "cell_type": "code",
   "execution_count": 5,
   "metadata": {},
   "outputs": [],
   "source": [
    "ROLE_CLUSTER_MASTER = pd.read_csv(Path)\n",
    "ROLE_CLUSTER_MASTER_REQD=ROLE_CLUSTER_MASTER[['CLUSTER_NAME','SKILL_NAME']].head(1000)"
   ]
  },
  {
   "cell_type": "code",
   "execution_count": 6,
   "metadata": {},
   "outputs": [
    {
     "data": {
      "application/vnd.microsoft.datawrangler.viewer.v0+json": {
       "columns": [
        {
         "name": "index",
         "rawType": "int64",
         "type": "integer"
        },
        {
         "name": "CLUSTER_NAME",
         "rawType": "object",
         "type": "string"
        },
        {
         "name": "SKILL_NAME",
         "rawType": "object",
         "type": "string"
        }
       ],
       "conversionMethod": "pd.DataFrame",
       "ref": "5b403042-6811-43c8-8149-11dee570d10c",
       "rows": [
        [
         "0",
         "MID LEVEL MANAGER (MLM) MARKETING CONTENT MANAGEMENT - COPYRIGHT AND PATENTS -L3",
         "Technical Writing (L4), Leadership (L3), Digital Content Publishing (L4)"
        ],
        [
         "1",
         "DEVELOPER MOBILE NATIVE IOS DEV - L1",
         "Mobile Native Application Development (L1), IOS Middleware framework (L1)"
        ],
        [
         "2",
         "EXECUTIVE ASSISTANT L2",
         "Excel (L2), Reporting (L2), Assistant (L1)"
        ],
        [
         "3",
         "PRODUCTION AGENT PUBLICATION - TECHNICAL WRITING - L1",
         "Technical Writing (L1), Content( Digital) (L1)"
        ],
        [
         "4",
         "TECHNO FUNCTIONAL CONSULTANT CLOUD DATA ENGINEER AWS GLUE - L1",
         "Consulting (L1), ERWIN (L2), Serverless AWS Lambda development (L2), AWS Glue (L2)"
        ],
        [
         "5",
         "MID LEVEL MANAGER (MLM) COLLECTIONS - MANUFACTURING - L3",
         "Financial Analysis (L4), Collections (OM) (L4)"
        ],
        [
         "6",
         "DEVELOPER JD EDWARDS - L3",
         "JDEdwards EnterpriseOne - Technical (L2), JDE EnterpriseOne Business Services (L1), C++ Application Programming (L2)"
        ],
        [
         "7",
         "Automation Engineer HR Services - HRO processing - L1",
         "Employee Benefits (L1), HRO (L1), Technology (HR Automation) (L1)"
        ],
        [
         "8",
         "DOMAIN CONSULTANT FINXACT - L4",
         "Core Banking (L3), Finxact (L4)"
        ],
        [
         "9",
         "Test Consultant SAP Testing - L1",
         "SAP Testing (L3), SAP Activate Methodology (L2), SAP Test Automation (L2), SAP S/4HANA Conversion Overview (L1)"
        ],
        [
         "10",
         "Developer Duck Creek Integration - L2",
         "C# - CSharp-Programming (L1), .NET (L1), Angular JS (L1), Insurance Products (L1), FullStack Microsoft .NET Smart Web App (L1), Duck Creek Integration (L2), Duck Creek Platform (L1)"
        ],
        [
         "11",
         "DEVELOPER GCP CLOUD PRODUCT ENGINEERING JAVA BACK END - L2",
         "RDBMS - Database Development (L2), Hibernate (L2), Spring (L2), Core Java (L2), Node JS (L2), Spring Boot (L2), Microservices (L2), Cloud Engineering GCP (L2), Enterprise Platform Devops Tools (L2)"
        ],
        [
         "12",
         "Program Director L1",
         "Finance and Accounting (L3), Program Management (L4), Project Portfolio Management (L3), IT Governance and Risk Controls (L3), Client Centricity (L3), Decision Making (L2), Execution excellence (L2), Project Delivery (L1), Strategic Thinking (L1), Commercial Acumen (L2), Change Management (L1), Fostering Collaboration (L2), Implementation Agility (L1), Building Trust and Credibility (L1), Being Resourceful (L2), Risk and Governance (L2), Program Stakeholder Management (L2), Win-Win Approach (L1), Conflict Management for Program (L2), Outcome Ownership for Program (L2), Resource Mobilisation (L2), Commitment to Client's Success (L2), Executive Presence and Influencing (L1), Building High Performing Teams (L2), Problem Solving and Innovation (L1), Practices Systems Thinking (L1), Creating an Agile Work Culture (L2), Fostering a Culture of Learning (L2)"
        ],
        [
         "13",
         "ADMINISTRATOR LINUX ADMIN - L2",
         "Linux Admin (L2), Cloud Azure Admin (L1), DevOps-Terraform (L2), Redhat OpenShift (L1), Oracle Virtualization - OVM (L1)"
        ],
        [
         "14",
         "DOMAIN CONSULTANT TELECOM NETWORK E2E TESTING - L4",
         "Consulting (L4), Test Automation (L4), Telecom Network E2E Testing (L4), Telco Cloud and Service Orchestration (L4)"
        ],
        [
         "15",
         "TECHNOLOGY ARCHITECT FULLSTACK AZURE - L3",
         "Technical Architecture (L3), React JS (L4), Azure Cloud Services (L4), Fullstack Java Enterprise (L4), Fullstack DevOps (L4), React Native (L4), Transformation Engineering (L4)"
        ],
        [
         "16",
         "DEVELOPER TIBCO INTEGRATION - L2",
         "MYSQL (L1), TIBCO BW (L2), TIBCO EMS (L2), Spring Boot (L1)"
        ],
        [
         "17",
         "CYBER SECURITY ARCHITECT IDENTITY GOVERNANCE AND ADMINISTRATION SAILPOINT - L1",
         "Architecting (L1), SailPoint Identity Mgmt and Governance (L4), Java Security (L3)"
        ],
        [
         "18",
         "BUSINESS ANALYST SALESFORCE LEAD - L5",
         "Salesforce App Building (L2), Salesforce CPQ (L2), Salesforce Einstein Cloud (L1), Salesforce Field Service Lighitning (L2), Salesforce Sales Cloud (L3), Salesforce Service Cloud (L3), Salesforce Industries Vlocity (L2), Salesforce Business Architecture (L1)"
        ],
        [
         "19",
         "DEVELOPER ORACLE FUSION HCM - L3",
         "Oracle Fusion Apps - HCM (L3), Oracle Fusion HCM - Global HR (L3), Oracle Fusion HCM TechnoFunctional (L3)"
        ],
        [
         "20",
         "MANAGING CONSULTANT - TECH & IMPL CONSUMER GOODS - L1",
         "SSIS (L2), Application Testing (L1), Business Analysis (L3), Agile-Scrum (L3), SaaS (L2), Consumer Goods (L1), Azure SQL Data Warehouse (L4)"
        ],
        [
         "21",
         "Sales Head L1",
         "Consulting Presales (L3), Sales (L3), Sales Channels - ECommerce (L3), Sales Channels - Stores (L3), Deal Review (L3)"
        ],
        [
         "22",
         "TECHNO FUNCTIONAL CONSULTANT ORACLE DATABASE ADMIN - L2",
         "Oracle Database Admin (L3), Linux Admin (L1), Storage Admin (L1), Golden Gate (L2), Network Data Admin (L1), Oracle Data Guard (L3), Oracle DB Infra Consulting (L2)"
        ],
        [
         "23",
         "MARKETING HEAD-LOB-GBL L1",
         "Business Analysis (L2), Strategic perspective (L2), Technology Strategy and Advisory (L2), Customer Acquisition & Branding (L3), Digital Marketing (L2), Marketing (L2)"
        ],
        [
         "24",
         "Designit Project Manager Concept Design Program Management L4",
         "Project Management (L4), Leadership (L3), Data Visualization (L3), Work Asset Management (L4), Customer Service (L3)"
        ],
        [
         "25",
         "SENIOR CONSULTANT - TECH & IMPL CONSUMER RETAIL SUPPLY CHAIN MANAGEMENT - L1",
         "Application Testing (L1), AS400 - Architecting (L1), Retail App Testing (L2), ETL Testing (L1), Big Data Testing (L1), Retail Supply Chain Management (L2), Project Management(Consumer) (L2), SCM/Order Management (L1)"
        ],
        [
         "26",
         "Assistant Manager - GPO - Offboarding L1",
         "Client Centricity (L1), Vendor Management (L2), General Management (Ops) (L1)"
        ],
        [
         "27",
         "GOVERNANCE RISK & COMPLIANCE MANAGER L1",
         "Enterprise Architecting (L1), Security Compliance and Framework (L2), Vulnerability Management (L2), Effective Communication (L1), Security Audits (L2), Business Continuity (L2), Information Security Management System (L2), Disaster Recovery Testing (L2), Risk Compliance & Governance (L2)"
        ],
        [
         "28",
         "Solution Architect Enterprise Platform Engineering Python - L1",
         "RDBMS - Database Development (L3), Solution Architecture (L1), Python Application Programming (L3), Enterprise Platform Engineering Python (L3), Enterprise Platform Python Microservices (L3)"
        ],
        [
         "29",
         "PROJECT ASSISTANT L1",
         "PMO (L2), Delivery Management (L1), Project Management (L1), Project Portfolio Management (L1)"
        ],
        [
         "30",
         "Developer ZUORA BILLING AND REVENUE - L1",
         "Application Testing (L1), Salesforce Administration (L1), Zuora Platform (L1), Zuora Finance and revenue (L1)"
        ],
        [
         "31",
         "Executive - Market Development L1",
         "Influencing (L3), Stakeholder Management (L3), Market Research (L3), Negotiation (L3)"
        ],
        [
         "32",
         "TECHNO FUNCTIONAL CONSULTANT SAP PLAN TO MANUFACTURE - L1",
         "SAP APO - Demand Planning (L3), SAP PP - Production Planning (L3), SAP QM - Quality Management (L3), SAP APO - Supply Network Planning (L2), SAP APO - PP/DS (L2), SAP IBP for Demand (L3), SAP IBP for Supply (L3), SAP IBP for Inventory (L2)"
        ],
        [
         "33",
         "BUSINESS ANALYST SF CORE - L5",
         "Business Analysis (L4), SAP SuccessFactor Employee Central (L3), SAP Successfactor Onboarding (L2), SAP Successfactor WFP & A (L2), SAP SuccessFactors Time Tracking (L2), SAP SuccessFactors EC Service Center (L2)"
        ],
        [
         "34",
         "ACCOUNT/CLUSTER ACCOUNT/PRACTICE HRBP L1",
         "Effective Communication (L2), Project Delivery (L1), Employee Relationship Management (L1), Performance Management (L1), Reward Strategy (L1), Metrics Reporting (L2), Legal Services (L2)"
        ],
        [
         "35",
         "PRODUCT ARCHITECT PRODUCT TEST AUTOMATION CLOUD - L2",
         "Solution Architecture (L2), Python Scripting (L4), Cloud Engineering (L2), DevOps (L2), Product Test Automation (L3)"
        ],
        [
         "36",
         "DEVOPS LEAD AWS DEVOPS - L2",
         "Unix Shell Scripting (L4), DevOps (L4), Cloud AWS Devops (L4), AWS Devops Operations (L4)"
        ],
        [
         "37",
         "TECHNICAL LEAD PRODUCT TEST AUTOMATION WINDOWS PLATFORM - L1",
         "C# - CSharp-Programming (L3), Test Scripting Language (L2), Selenium (L3), M365 PowerShell (L2), Windows Platform Test Automation (L4)"
        ],
        [
         "38",
         "FINANCE - PROCUREMENT MANAGER L2",
         "Stakeholder Management (L2), Financial Analysis (L2), Metrics Reporting (L2), Merger Integration (L2), Procurement(Transactional Accting Serv) (L2)"
        ],
        [
         "39",
         "TECHNO FUNCTIONAL CONSULTANT MICROSOFT INTUNE - L2",
         "Active Directory (L2), MS System Center Configuration Manager (L2), EUC Consulting (L2), Cloud Azure Admin (L2), EMM Intune (L3), Image Release Management (L2)"
        ],
        [
         "40",
         "SERVICE DESK ANALYST AI SD - L1",
         "Desktop Support (L1), Service Desk Management (L1), Natural Language Processing - NLP (L1), Ansible Tower (L1), Azure DevOps Operations (L1), AI Service desk (L1)"
        ],
        [
         "41",
         "TECHNO FUNCTIONAL CONSULTANT ORACLE CX - L2",
         "Oracle CRM Consulting (L1), Oracle Eloqua (L3), Oracle Sales Cloud (L3), Oracle CPQ Cloud (L3), Oracle Engagement Cloud (L3)"
        ],
        [
         "42",
         "CONFIGURATOR ORACLE INDUSTRY APPS - CC&B - L4",
         "Oracle Customer Care Billing Functional (L3), Oracle Meter Data Management - MDM (L2)"
        ],
        [
         "43",
         "SOLUTION ARCHITECT LOWCODENOCODE OUTSYSTEMS - L1",
         "Java-J2EE (L3), Architecting (L1), HTML 5 (L3), OutSystems (L4)"
        ],
        [
         "44",
         "SOLUTION ARCHITECT FULLSTACK EXPERIENCE AND CONTENT FRONTEND - L3",
         "eCommerce DevOps (L3), Architecting (L3), Spring Boot (L2), Microservices (L2), Adobe Launch and Analytics (L3), Fullstack Experience and Content (L4), Angular 15 (L4)"
        ],
        [
         "45",
         "TECHNO FUNCTIONAL CONSULTANT ADOBE DTM LAUNCH ANALYTICS - L1",
         "eCommerce DevOps (L1), jQuery (L3), Digital Marketing Consulting (L1), Adobe Analytics (L2), Adobe Campaign (L1), Adobe Launch and Analytics (L4)"
        ],
        [
         "46",
         "Designit Lead Data Scientist L1",
         "MS SQL (L3), NoSQL Database (L3), Tableau (L3), SAS Base (L3), Amazon Web Services - AWS (L3), Market Research (L3), Power BI Visualization on cloud (L3), Google BigQuery (L3), Looker (L3)"
        ],
        [
         "47",
         "FINANCE - AP PROCESSOR L4",
         "Finance and Accounting (L2), Corporate Banking-Receivables Payables (L1), Effective Communication (L1), Account Performance Analysis (L2), Finance (L3), Invoice to Pay(Transactional Accounting) (L2)"
        ],
        [
         "48",
         "AI LEAD AI COE CONSULTING - L1",
         "Leadership (L1), Data Science (L1), AI Cognitive (L1), Cognitive Services (L1), Generative AI (L1), ML Ops (L1), AI CoE Consulting (L1), AI Governance Consulting (L1)"
        ],
        [
         "49",
         "SENIOR MID LEVEL MANAGER ENERGY - OIL AND GAS - UPSTREAM- POINT OF SALE - SITECONFIGURATION - L3",
         "Downstream - Oil and Gas (L3), Leadership (L4), Network Design and Configuration (L2), Customer Service (L4), Technical Troubleshooting (L4)"
        ]
       ],
       "shape": {
        "columns": 2,
        "rows": 1000
       }
      },
      "text/html": [
       "<div>\n",
       "<style scoped>\n",
       "    .dataframe tbody tr th:only-of-type {\n",
       "        vertical-align: middle;\n",
       "    }\n",
       "\n",
       "    .dataframe tbody tr th {\n",
       "        vertical-align: top;\n",
       "    }\n",
       "\n",
       "    .dataframe thead th {\n",
       "        text-align: right;\n",
       "    }\n",
       "</style>\n",
       "<table border=\"1\" class=\"dataframe\">\n",
       "  <thead>\n",
       "    <tr style=\"text-align: right;\">\n",
       "      <th></th>\n",
       "      <th>CLUSTER_NAME</th>\n",
       "      <th>SKILL_NAME</th>\n",
       "    </tr>\n",
       "  </thead>\n",
       "  <tbody>\n",
       "    <tr>\n",
       "      <th>0</th>\n",
       "      <td>MID LEVEL MANAGER (MLM) MARKETING CONTENT MANA...</td>\n",
       "      <td>Technical Writing (L4), Leadership (L3), Digit...</td>\n",
       "    </tr>\n",
       "    <tr>\n",
       "      <th>1</th>\n",
       "      <td>DEVELOPER MOBILE NATIVE IOS DEV - L1</td>\n",
       "      <td>Mobile Native Application Development (L1), IO...</td>\n",
       "    </tr>\n",
       "    <tr>\n",
       "      <th>2</th>\n",
       "      <td>EXECUTIVE ASSISTANT L2</td>\n",
       "      <td>Excel (L2), Reporting (L2), Assistant (L1)</td>\n",
       "    </tr>\n",
       "    <tr>\n",
       "      <th>3</th>\n",
       "      <td>PRODUCTION AGENT PUBLICATION - TECHNICAL WRITI...</td>\n",
       "      <td>Technical Writing (L1), Content( Digital) (L1)</td>\n",
       "    </tr>\n",
       "    <tr>\n",
       "      <th>4</th>\n",
       "      <td>TECHNO FUNCTIONAL CONSULTANT CLOUD DATA ENGINE...</td>\n",
       "      <td>Consulting (L1), ERWIN (L2), Serverless AWS La...</td>\n",
       "    </tr>\n",
       "    <tr>\n",
       "      <th>...</th>\n",
       "      <td>...</td>\n",
       "      <td>...</td>\n",
       "    </tr>\n",
       "    <tr>\n",
       "      <th>995</th>\n",
       "      <td>SECTOR DELIVERY HEAD L1</td>\n",
       "      <td>Delivery Management (L3), Resourcing and Opera...</td>\n",
       "    </tr>\n",
       "    <tr>\n",
       "      <th>996</th>\n",
       "      <td>DEVELOPER CORE JAVA - L1</td>\n",
       "      <td>PL-SQL (L1), Core Java (L1), Java Servlets (L1...</td>\n",
       "    </tr>\n",
       "    <tr>\n",
       "      <th>997</th>\n",
       "      <td>Designit Digital Product Designer L4</td>\n",
       "      <td>Adobe Photoshop (L4), Project Management (L3),...</td>\n",
       "    </tr>\n",
       "    <tr>\n",
       "      <th>998</th>\n",
       "      <td>CLIENT ENGAGEMENT PARTNER L1 - Delimit</td>\n",
       "      <td>Business Analysis (L2), Client Centricity (L2)...</td>\n",
       "    </tr>\n",
       "    <tr>\n",
       "      <th>999</th>\n",
       "      <td>TECHNO FUNCTIONAL CONSULTANT SAP BTP - L1</td>\n",
       "      <td>Consulting (L1), SAP BTP CAP (L3), SAP BTP AI/...</td>\n",
       "    </tr>\n",
       "  </tbody>\n",
       "</table>\n",
       "<p>1000 rows × 2 columns</p>\n",
       "</div>"
      ],
      "text/plain": [
       "                                          CLUSTER_NAME  \\\n",
       "0    MID LEVEL MANAGER (MLM) MARKETING CONTENT MANA...   \n",
       "1                 DEVELOPER MOBILE NATIVE IOS DEV - L1   \n",
       "2                               EXECUTIVE ASSISTANT L2   \n",
       "3    PRODUCTION AGENT PUBLICATION - TECHNICAL WRITI...   \n",
       "4    TECHNO FUNCTIONAL CONSULTANT CLOUD DATA ENGINE...   \n",
       "..                                                 ...   \n",
       "995                            SECTOR DELIVERY HEAD L1   \n",
       "996                           DEVELOPER CORE JAVA - L1   \n",
       "997               Designit Digital Product Designer L4   \n",
       "998             CLIENT ENGAGEMENT PARTNER L1 - Delimit   \n",
       "999          TECHNO FUNCTIONAL CONSULTANT SAP BTP - L1   \n",
       "\n",
       "                                            SKILL_NAME  \n",
       "0    Technical Writing (L4), Leadership (L3), Digit...  \n",
       "1    Mobile Native Application Development (L1), IO...  \n",
       "2           Excel (L2), Reporting (L2), Assistant (L1)  \n",
       "3       Technical Writing (L1), Content( Digital) (L1)  \n",
       "4    Consulting (L1), ERWIN (L2), Serverless AWS La...  \n",
       "..                                                 ...  \n",
       "995  Delivery Management (L3), Resourcing and Opera...  \n",
       "996  PL-SQL (L1), Core Java (L1), Java Servlets (L1...  \n",
       "997  Adobe Photoshop (L4), Project Management (L3),...  \n",
       "998  Business Analysis (L2), Client Centricity (L2)...  \n",
       "999  Consulting (L1), SAP BTP CAP (L3), SAP BTP AI/...  \n",
       "\n",
       "[1000 rows x 2 columns]"
      ]
     },
     "execution_count": 6,
     "metadata": {},
     "output_type": "execute_result"
    }
   ],
   "source": [
    "ROLE_CLUSTER_MASTER_REQD"
   ]
  },
  {
   "cell_type": "code",
   "execution_count": null,
   "metadata": {},
   "outputs": [],
   "source": [
    "JD = []\n",
    "for row in ROLE_CLUSTER_MASTER_REQD.itertuples():\n",
    " #print(row)\n",
    " skills=row.SKILL_NAME\n",
    " title=row.CLUSTER_NAME\n",
    " company=\"Wipro\"\n",
    " user = \"system\"\n",
    " prompt = \"\"\" As a skilled Technical Interview Panel with expertise in technology and content writing , your role is to meticulously evaluate skills and title provided and give detailed job description having below points outlined.\n",
    "            Use the mentioned skills along with proficiency  & title to generate the job description, where L1 means Beginner, L2 means Intermediate, L3 means Advanced, and L4 means Expert,\n",
    "            Job Role: \n",
    "            Give skill specified by user\n",
    "            Clearly state the role/title of the position and give brief summary of the role/title in 3-4 lines\n",
    "            \n",
    "            Key Responsibilities:\n",
    "            Title/Role will have overall impact on responsibilities\n",
    "            Utilize expertise in [Key Skill 1] and [title/Role] to [Responsibility 1] .\n",
    "            Apply advanced knowledge of [Key Skill 2]  to [Responsibility 2].\n",
    "            Demonstrate proficiency in [Key Skill 3] to [Responsibility 3].\n",
    "            Utilize [Key Skill 4]  to [Responsibility 4].\n",
    "            Apply [Key Skill 5] to [Responsibility 5].\n",
    "\n",
    "            Qualifications and Skills:\n",
    "\n",
    "            Proficiency in [Key Skill 1] is essential for this role, with a strong focus on [Specific Requirement].\n",
    "            Advanced knowledge of [Key Skill 2] is highly desirable, with the ability to [Specific Requirement].\n",
    "            Familiarity with [Key Skill 3] is beneficial, with the capacity to [Specific Requirement].\n",
    "            Experience in [Key Skill 4] is advantageous, with the ability to [Specific Requirement].\n",
    "            Proficiency in [Key Skill 5] is preferred, with the capability to [Specific Requirement].\n",
    "\n",
    "            Experience Requirements:\n",
    "\n",
    "            A minimum of [Number of Years] years of relevant experience in [Industry/Field].\n",
    "            Previous experience in [Specific Type of Experience] is beneficial, with a focus on [Relevant Proficiency].\n",
    "            Demonstrated proficiency in [Key Skill 1] and [Key Skill 2] through [Type of Experience].\n",
    "            Proven track record of applying [Key Skill 3] and [Key Skill 4] in [Type of Experience].\n",
    "\n",
    "            \"\"\" + skills + title + company # type: ignore\n",
    " result = llm._call(prompt,user)\n",
    " parsed_result = result['data']['content'] # type: ignore\n",
    " #print()\n",
    " JD.append(\"CLUSTER NAME :\"+title +'\\n'+\"CLUSTER SKILLS : \"+skills+'\\n'+parsed_result+'\\n'+'\\n'+'\\n'+'\\n') # type: ignore"
   ]
  },
  {
   "cell_type": "code",
   "execution_count": null,
   "metadata": {},
   "outputs": [],
   "source": [
    "#for item in JD:\n",
    "#    print(item)"
   ]
  },
  {
   "cell_type": "code",
   "execution_count": 11,
   "metadata": {},
   "outputs": [],
   "source": [
    "with open(\"outfilenew\", \"w\") as outfile:\n",
    "    outfile.write(\"\\n\".join(JD))"
   ]
  },
  {
   "cell_type": "code",
   "execution_count": null,
   "metadata": {},
   "outputs": [],
   "source": []
  }
 ],
 "metadata": {
  "kernelspec": {
   "display_name": ".venv",
   "language": "python",
   "name": "python3"
  },
  "language_info": {
   "codemirror_mode": {
    "name": "ipython",
    "version": 3
   },
   "file_extension": ".py",
   "mimetype": "text/x-python",
   "name": "python",
   "nbconvert_exporter": "python",
   "pygments_lexer": "ipython3",
   "version": "3.12.6"
  }
 },
 "nbformat": 4,
 "nbformat_minor": 2
}
