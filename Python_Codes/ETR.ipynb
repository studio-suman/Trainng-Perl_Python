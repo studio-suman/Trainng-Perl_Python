{
 "metadata": {
  "language_info": {
   "codemirror_mode": {
    "name": "ipython",
    "version": 3
   },
   "file_extension": ".py",
   "mimetype": "text/x-python",
   "name": "python",
   "nbconvert_exporter": "python",
   "pygments_lexer": "ipython3",
   "version": "3.8.10"
  },
  "orig_nbformat": 2,
  "kernelspec": {
   "name": "python3",
   "display_name": "Python 3.8.10 64-bit ('stats_env': conda)"
  },
  "interpreter": {
   "hash": "48832d4d762e66964677d091f845bdff5451664581a6f9e8e28d483b397d241e"
  }
 },
 "nbformat": 4,
 "nbformat_minor": 2,
 "cells": [
  {
   "cell_type": "markdown",
   "source": [
    "# ETR Pull Up"
   ],
   "metadata": {}
  },
  {
   "cell_type": "code",
   "execution_count": 1,
   "source": [
    "import pandas as pd\r\n",
    "import string as str\r\n",
    "import openpyxl\r\n",
    "from datetime import datetime\r\n",
    "import sys\r\n",
    "\r\n",
    "infile =   r\"C:\\Users\\HSASS\\Downloads\\TEST_ETR_REPORT.csv\"\r\n",
    "map_file = r\"C:\\Users\\HSASS\\OneDrive - Wipro\\Desktop\\AIR\\Ops_Template_v1.xlsx\"\r\n",
    "odata = pd.read_csv(infile, engine='python',sep=',', quotechar='\"', error_bad_lines=False) #Fetching Data\r\n",
    "\r\n",
    "#Removing Spl Characters from EMP_NO\r\n",
    "odata.rename(columns = {'ï»¿EMP_NO':'EMP_NO'}, inplace = True)\r\n",
    "#odata = pd.read_csv(infile,usecols=[\"DEMAND_ID\",\"PROJECT_NAME\",\"ESSENTIAL_SKILL\",\"PRACTICE_GRP_TXT\",\"RM_EMP_NAME\",\"MODEL_TYPE\"], engine='python' ,sep=',', quotechar='\"', error_bad_lines=False)[[\"DEMAND_ID\",\"PROJECT_NAME\",\"ESSENTIAL_SKILL\",\"PRACTICE_GRP_TXT\",\"RM_EMP_NAME\",\"MODEL_TYPE\"]]\r\n",
    "#table = odata.query('SMU == [\"AMR2\",\"IDA2\"]')\r\n",
    "#table = odata.query('SMU == [\"AMR2\",\"IDA2\"]' and 'SECTOR == [\"CAPITAL MARKETS\"]')\r\n",
    "Equery = \"20265561\"\r\n",
    "outfile =  r\"C:\\Users\\HSASS\\OneDrive - Wipro\\Desktop\\ETR_\" + Equery +\".csv\"\r\n",
    "#table = odata.query('EMP_NO == [\"'+ Equery +'\"]')\r\n",
    "table = odata.query('EMP_NO == [\"20306844\"]')\r\n",
    "    # ---- Using Sql Query -- to build the db\r\n",
    "    # engine=create_engine('sqlite://', echo=False)\r\n",
    "    # odata.to_sql('oir',engine, if_exists='replace', index=False)\r\n",
    "    # results = engine.execute(\"Select * from oir where PROJ_SAP_BU = 'BFSI'\")\r\n",
    "    # final=pd.DataFrame(results, columns=odata.columns)\r\n",
    "    # ---- pd table is ready and merged into final table\r\n",
    "    \r\n",
    "#mdata = pd.read_excel(map_file, sheet_name='Sheet1')\r\n",
    "#final = table.merge(mdata, on = \"CUSTOMER_NO\", how='left') # adding data to same dataframe after merge\r\n",
    "#odata = final.query('Sector != [\"\"]')\r\n",
    "#odata = final[final['Sector'].notnull()]\r\n",
    "#final['INDENT_CREATED_ON'] = pd.to_datetime(final['INDENT_CREATED_ON'])\r\n",
    "#mask = final['INDENT_CREATED_ON'].dt.month >= 10 # Month Filter Flag\r\n",
    "table.to_csv(outfile,index=False)\r\n",
    "print(\"Query Output Executed\")"
   ],
   "outputs": [
    {
     "output_type": "stream",
     "name": "stdout",
     "text": [
      "Query Output Executed\n"
     ]
    }
   ],
   "metadata": {}
  },
  {
   "cell_type": "code",
   "execution_count": null,
   "source": [],
   "outputs": [],
   "metadata": {}
  }
 ]
}