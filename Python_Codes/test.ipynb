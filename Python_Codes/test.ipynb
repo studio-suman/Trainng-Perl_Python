{
 "cells": [
  {
   "cell_type": "code",
   "execution_count": 10,
   "metadata": {},
   "outputs": [
    {
     "name": "stdout",
     "output_type": "stream",
     "text": [
      "PYTHONPATH: c:\\Users\\HSASS\\.vscode-insiders\\extensions\\ms-toolsai.jupyter-2021.7.928000153\\pythonFiles;c:\\Users\\HSASS\\.vscode-insiders\\extensions\\ms-toolsai.jupyter-2021.7.928000153\\pythonFiles\\lib\\python\n",
      "PATH: C:\\Ananconda3;C:\\Ananconda3\\Library\\mingw-w64\\bin;C:\\Ananconda3\\Library\\usr\\bin;C:\\Ananconda3\\Library\\bin;C:\\Ananconda3\\Scripts;C:\\WINDOWS\\system32;C:\\WINDOWS;C:\\WINDOWS\\System32\\Wbem;C:\\WINDOWS\\System32\\WindowsPowerShell\\v1.0\\;C:\\WINDOWS\\System32\\OpenSSH\\;C:\\Program Files (x86)\\Webex\\Webex\\Applications;C:\\Strawberry\\c\\bin;C:\\Strawberry\\perl\\site\\bin;C:\\Strawberry\\perl\\bin;C:\\Users\\HSASS\\AppData\\Local\\Continuum\\anaconda3;C:\\Users\\HSASS\\AppData\\Local\\Continuum\\anaconda3\\condabin;C:\\Program Files\\PuTTY\\;C:\\Program Files (x86)\\Pulse Secure\\VC142.CRT\\X64\\;C:\\Program Files (x86)\\Pulse Secure\\VC142.CRT\\X86\\;C:\\Program Files (x86)\\Intel\\Intel(R) Management Engine Components\\DAL;C:\\Program Files\\Intel\\Intel(R) Management Engine Components\\DAL;C:\\Program Files\\dotnet\\;C:\\Program Files\\Microsoft SQL Server\\130\\Tools\\Binn\\;C:\\Program Files\\Microsoft SQL Server\\Client SDK\\ODBC\\170\\Tools\\Binn\\;C:\\Program Files (x86)\\Microsoft SQL Server\\150\\DTS\\Binn\\;C:\\Program Files\\Azure Data Studio\\bin;C:\\Program Files (x86)\\Microsoft SQL Server\\110\\DTS\\Binn\\;C:\\Program Files (x86)\\Microsoft SQL Server\\120\\DTS\\Binn\\;C:\\Program Files (x86)\\Microsoft SQL Server\\130\\DTS\\Binn\\;C:\\Program Files (x86)\\Microsoft SQL Server\\140\\DTS\\Binn\\;C:\\Program Files\\Go\\bin;C:\\Users\\HSASS\\AppData\\Local\\Microsoft\\WindowsApps;C:\\Strawberry\\perl\\bin;C:\\Users\\HSASS\\AppData\\Local\\Continuum\\anaconda3\\condabin;C:\\Users\\HSASS\\node-v14.16.0-win-x64;C:\\Ananconda3\\envs\\rstudio\\Scripts;C:\\Users\\HSASS\\mongodb-x64-4.4.5\\bin;C:\\Program Files\\Oracle\\OpenJDK 13\\bin;C:\\Program Files\\dotnet\\sdk;C:\\Users\\HSASS\\.dotnet\\tools;C:\\Users\\HSASS\\gdb-9.1;C:\\Users\\HSASS\\go\\bin;C:\\Users\\HSASS\\AppData\\Local\\Programs\\Microsoft VS Code Insiders\\bin\n"
     ]
    }
   ],
   "source": [
    "import os\r\n",
    "import sys\r\n",
    "print(\"PYTHONPATH:\", os.environ['PYTHONPATH'])\r\n",
    "print(\"PATH:\", os.environ['PATH'])\r\n",
    "if \"C:\\\\Ananconda3\\\\Library\\\\bin\" not in sys.path:\r\n",
    "    sys.path.append(\"C:\\\\Ananconda3\\\\Library\\\\bin\")\r\n",
    "else: \"error\""
   ]
  }
 ],
 "metadata": {
  "interpreter": {
   "hash": "48832d4d762e66964677d091f845bdff5451664581a6f9e8e28d483b397d241e"
  },
  "kernelspec": {
   "display_name": "Python 3.7.10 64-bit ('stats_env': conda)",
   "name": "python3"
  },
  "language_info": {
   "codemirror_mode": {
    "name": "ipython",
    "version": 3
   },
   "file_extension": ".py",
   "mimetype": "text/x-python",
   "name": "python",
   "nbconvert_exporter": "python",
   "pygments_lexer": "ipython3",
   "version": "3.7.10"
  },
  "orig_nbformat": 4
 },
 "nbformat": 4,
 "nbformat_minor": 2
}