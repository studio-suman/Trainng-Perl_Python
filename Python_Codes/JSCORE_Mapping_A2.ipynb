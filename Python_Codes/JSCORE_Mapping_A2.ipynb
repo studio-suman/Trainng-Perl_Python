{
 "cells": [
  {
   "cell_type": "code",
   "execution_count": 1,
   "metadata": {},
   "outputs": [
    {
     "name": "stderr",
     "output_type": "stream",
     "text": [
      "C:\\Users\\HSASS\\AppData\\Local\\Temp\\ipykernel_25236\\2226991225.py:15: FutureWarning: The error_bad_lines argument has been deprecated and will be removed in a future version. Use on_bad_lines in the future.\n",
      "\n",
      "\n",
      "  table = pd.read_csv(infile, engine='python',sep=',', quotechar='\"', error_bad_lines=False)  # type: ignore\n",
      "C:\\Users\\HSASS\\AppData\\Local\\Temp\\ipykernel_25236\\2226991225.py:16: FutureWarning: The error_bad_lines argument has been deprecated and will be removed in a future version. Use on_bad_lines in the future.\n",
      "\n",
      "\n",
      "  table2 = pd.read_csv(infile2, engine='python',sep=',', quotechar='\"', error_bad_lines=False)  # type: ignore\n"
     ]
    }
   ],
   "source": [
    "import math\n",
    "import string as str\n",
    "import sys\n",
    "import time\n",
    "from datetime import datetime\n",
    "\n",
    "import numpy as np\n",
    "import openpyxl\n",
    "import pandas as pd\n",
    "\n",
    "infile =   r\"C:\\Users\\HSASS\\OneDrive - Wipro\\Suman\\ETR\\Mapping\\completeFile_part_0.csv\"\n",
    "infile2 =   r\"C:\\Users\\HSASS\\OneDrive - Wipro\\Suman\\ETR\\Mapping\\completeFile_part_1.csv\"\n",
    "outfile =  r\"C:\\Users\\HSASS\\OneDrive - Wipro\\Suman\\ETR\\Mapping\\completeFile_A2.csv\"\n",
    "map_file = r\"C:\\Users\\HSASS\\OneDrive - Wipro\\Desktop\\AIR\\Ops_Template_v1.xlsx\"\n",
    "table = pd.read_csv(infile, engine='python',sep=',', quotechar='\"', error_bad_lines=False)  # type: ignore\n",
    "table2 = pd.read_csv(infile2, engine='python',sep=',', quotechar='\"', error_bad_lines=False)  # type: ignore"
   ]
  },
  {
   "cell_type": "code",
   "execution_count": null,
   "metadata": {},
   "outputs": [],
   "source": [
    "vertical_stack = pd.concat([table, table2], axis=0)"
   ]
  },
  {
   "cell_type": "code",
   "execution_count": null,
   "metadata": {},
   "outputs": [],
   "source": [
    "\n",
    "#mdata = pd.read_excel(map_file, sheet_name='Sheet1')\n",
    "#final = table.merge(mdata, on = \"CUSTOMER_NO\", how='left') # adding data to same dataframe after merge\n",
    "#odata = final.query('Sector != [\"\"]')\n",
    "#odata = final[final['Sector'].notnull()]\n",
    "#final['INDENT_CREATED_ON'] = pd.to_datetime(final['INDENT_CREATED_ON'])\n",
    "#mask = final['INDENT_CREATED_ON'].dt.month >= 10 # Month Filter Flag\n",
    "vertical_stack.to_csv(outfile,index=False)"
   ]
  }
 ],
 "metadata": {
  "kernelspec": {
   "display_name": "Python 3",
   "language": "python",
   "name": "python3"
  },
  "language_info": {
   "codemirror_mode": {
    "name": "ipython",
    "version": 3
   },
   "file_extension": ".py",
   "mimetype": "text/x-python",
   "name": "python",
   "nbconvert_exporter": "python",
   "pygments_lexer": "ipython3",
   "version": "3.11.0 (main, Oct 24 2022, 18:26:48) [MSC v.1933 64 bit (AMD64)]"
  },
  "vscode": {
   "interpreter": {
    "hash": "5238573367df39f7286bb46f9ff5f08f63a01a80960060ce41e3c79b190280fa"
   }
  }
 },
 "nbformat": 4,
 "nbformat_minor": 2
}
