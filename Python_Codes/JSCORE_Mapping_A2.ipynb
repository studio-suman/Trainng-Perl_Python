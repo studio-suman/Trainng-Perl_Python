{
 "cells": [
  {
   "cell_type": "code",
   "execution_count": 2,
   "metadata": {},
   "outputs": [],
   "source": [
    "import pandas as pd\n",
    "import time\n",
    "import math\n",
    "import numpy as np\n",
    "import string as str\n",
    "import openpyxl\n",
    "from datetime import datetime\n",
    "import sys\n",
    "\n",
    "infile =   r\"C:\\Users\\HSASS\\OneDrive - Wipro\\Suman\\ETR\\Mapping\\completeFile_part_0.csv\"\n",
    "infile2 =   r\"C:\\Users\\HSASS\\OneDrive - Wipro\\Suman\\ETR\\Mapping\\completeFile_part_1.csv\"\n",
    "outfile =  r\"C:\\Users\\HSASS\\OneDrive - Wipro\\Suman\\ETR\\Mapping\\completeFile_A2.csv\"\n",
    "map_file = r\"C:\\Users\\HSASS\\OneDrive - Wipro\\Desktop\\AIR\\Ops_Template_v1.xlsx\"\n",
    "table = pd.read_csv(infile, engine='python',sep=',', quotechar='\"', error_bad_lines=False)\n",
    "table2 = pd.read_csv(infile2, engine='python',sep=',', quotechar='\"', error_bad_lines=False)"
   ]
  },
  {
   "cell_type": "code",
   "execution_count": 3,
   "metadata": {},
   "outputs": [],
   "source": [
    "vertical_stack = pd.concat([table, table2], axis=0)"
   ]
  },
  {
   "cell_type": "code",
   "execution_count": 4,
   "metadata": {},
   "outputs": [],
   "source": [
    "\n",
    "#mdata = pd.read_excel(map_file, sheet_name='Sheet1')\n",
    "#final = table.merge(mdata, on = \"CUSTOMER_NO\", how='left') # adding data to same dataframe after merge\n",
    "#odata = final.query('Sector != [\"\"]')\n",
    "#odata = final[final['Sector'].notnull()]\n",
    "#final['INDENT_CREATED_ON'] = pd.to_datetime(final['INDENT_CREATED_ON'])\n",
    "#mask = final['INDENT_CREATED_ON'].dt.month >= 10 # Month Filter Flag\n",
    "vertical_stack.to_csv(outfile,index=False)"
   ]
  }
 ],
 "metadata": {
  "kernelspec": {
   "display_name": "Python 3.8.10 ('stats_env')",
   "language": "python",
   "name": "python3"
  },
  "language_info": {
   "codemirror_mode": {
    "name": "ipython",
    "version": 3
   },
   "file_extension": ".py",
   "mimetype": "text/x-python",
   "name": "python",
   "nbconvert_exporter": "python",
   "pygments_lexer": "ipython3",
   "version": "3.8.10"
  },
  "vscode": {
   "interpreter": {
    "hash": "08f631c09b3ef93cc66ef5ecfc2f1f878b3c2c1062b4ad98bcb445e3516a0edf"
   }
  }
 },
 "nbformat": 4,
 "nbformat_minor": 2
}
