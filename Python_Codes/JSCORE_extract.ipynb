{
 "cells": [
  {
   "cell_type": "code",
   "execution_count": 9,
   "metadata": {},
   "outputs": [
    {
     "data": {
      "text/html": [
       "<div>\n",
       "<style scoped>\n",
       "    .dataframe tbody tr th:only-of-type {\n",
       "        vertical-align: middle;\n",
       "    }\n",
       "\n",
       "    .dataframe tbody tr th {\n",
       "        vertical-align: top;\n",
       "    }\n",
       "\n",
       "    .dataframe thead th {\n",
       "        text-align: right;\n",
       "    }\n",
       "</style>\n",
       "<table border=\"1\" class=\"dataframe\">\n",
       "  <thead>\n",
       "    <tr style=\"text-align: right;\">\n",
       "      <th></th>\n",
       "      <th>EMP_NO</th>\n",
       "    </tr>\n",
       "  </thead>\n",
       "  <tbody>\n",
       "    <tr>\n",
       "      <th>0</th>\n",
       "      <td>20136363</td>\n",
       "    </tr>\n",
       "    <tr>\n",
       "      <th>1</th>\n",
       "      <td>20144210</td>\n",
       "    </tr>\n",
       "    <tr>\n",
       "      <th>2</th>\n",
       "      <td>20091015</td>\n",
       "    </tr>\n",
       "    <tr>\n",
       "      <th>3</th>\n",
       "      <td>20089091</td>\n",
       "    </tr>\n",
       "  </tbody>\n",
       "</table>\n",
       "</div>"
      ],
      "text/plain": [
       "     EMP_NO\n",
       "0  20136363\n",
       "1  20144210\n",
       "2  20091015\n",
       "3  20089091"
      ]
     },
     "execution_count": 9,
     "metadata": {},
     "output_type": "execute_result"
    }
   ],
   "source": [
    "import pandas as pd\n",
    "import time\n",
    "import math\n",
    "import numpy as np\n",
    "import string as str\n",
    "import openpyxl\n",
    "#import sqlite3\n",
    "#from sqlalchemy import create_engine\n",
    "#from importlib import reload\n",
    "from datetime import datetime\n",
    "import sys\n",
    "\n",
    "infile =  r\"C:\\Users\\HSASS\\OneDrive - Wipro\\Suman\\ETR\\Mapping\\completeFile_part_1.csv\"\n",
    "infile2 = r\"C:\\Users\\HSASS\\OneDrive - Wipro\\Suman\\ETR\\Mapping\\completeFile_part_1.csv\"\n",
    "outfile = r\"C:\\Users\\HSASS\\OneDrive - Wipro\\Suman\\ETR\\Mapping\\completeFile_A2.csv\"\n",
    "o_file =  r\"C:\\Users\\HSASS\\OneDrive - Wipro\\Suman\\ETR\\Mapping\\comA2.csv\"\n",
    "#table = pd.read_csv(infile, engine='python',sep=',', quotechar='\"', error_bad_lines=False)\n",
    "table = pd.read_csv(outfile, engine='python',sep=',', quotechar='\"', error_bad_lines=False, \n",
    "                    usecols=[\"EMP_NO\"])\n",
    "\n",
    "#table.head(4)                                                                                                              \n",
    "table.to_csv(o_file, index=False)"
   ]
  },
  {
   "cell_type": "code",
   "execution_count": 10,
   "metadata": {},
   "outputs": [],
   "source": []
  },
  {
   "cell_type": "code",
   "execution_count": null,
   "metadata": {},
   "outputs": [],
   "source": []
  }
 ],
 "metadata": {
  "kernelspec": {
   "display_name": "Python 3.8.10 ('stats_env')",
   "language": "python",
   "name": "python3"
  },
  "language_info": {
   "codemirror_mode": {
    "name": "ipython",
    "version": 3
   },
   "file_extension": ".py",
   "mimetype": "text/x-python",
   "name": "python",
   "nbconvert_exporter": "python",
   "pygments_lexer": "ipython3",
   "version": "3.8.10"
  },
  "vscode": {
   "interpreter": {
    "hash": "08f631c09b3ef93cc66ef5ecfc2f1f878b3c2c1062b4ad98bcb445e3516a0edf"
   }
  }
 },
 "nbformat": 4,
 "nbformat_minor": 2
}
