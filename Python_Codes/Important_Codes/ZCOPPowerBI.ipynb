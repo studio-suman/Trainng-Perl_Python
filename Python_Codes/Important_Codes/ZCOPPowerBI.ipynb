{
 "cells": [
  {
   "attachments": {},
   "cell_type": "markdown",
   "metadata": {},
   "source": [
    "### ZCOP Power BI Extractor"
   ]
  },
  {
   "cell_type": "code",
   "execution_count": 1,
   "metadata": {},
   "outputs": [],
   "source": [
    "import pandas as pd\n",
    "import time\n",
    "import csv"
   ]
  },
  {
   "cell_type": "code",
   "execution_count": 2,
   "metadata": {},
   "outputs": [],
   "source": [
    "infile = r\"C:\\Users\\HSASS\\Downloads\\ZCOP Daily \"+ time.strftime(\"%d%b%y\") + \".csv\"\n",
    "skillFile = r\"C:\\Users\\HSASS\\Downloads\\Employee Skill Details.csv\"\n",
    "outfileZ =r\"D:\\OneDrive - Wipro\\Suman\\Data\\Manju_Ranga_Reports\\Power_BI Reports\\ZCOP\\ZCOP Daily \" + time.strftime(\"%d%b%y\") + \".csv\""
   ]
  },
  {
   "cell_type": "code",
   "execution_count": 3,
   "metadata": {},
   "outputs": [],
   "source": [
    "# Increase the field size limit\n",
    "csv.field_size_limit(131072 * 10)\n",
    "\n",
    "# Read the input files\n",
    "data = pd.read_csv(infile, engine='python', sep=',', quotechar='\"')\n",
    "mapping = pd.read_csv(skillFile, usecols=[\"EMP_CODE\", \"PROJECT_ACQUIRED_SKILLS\", \"SR_MANDATORY_SKILL\",\"EF_SKILLS\"], engine='python', sep=',', quotechar='\"')\n",
    "\n",
    "\n",
    "# Merge the dataframes\n",
    "final = data.merge(mapping, on='EMP_CODE', how='left')"
   ]
  },
  {
   "cell_type": "code",
   "execution_count": 4,
   "metadata": {},
   "outputs": [
    {
     "name": "stdout",
     "output_type": "stream",
     "text": [
      "Executed Successfully\n"
     ]
    }
   ],
   "source": [
    "# Save the final dataframe to a CSV file\n",
    "final.to_csv(outfileZ, index=False)\n",
    "\n",
    "print(\"Executed Successfully\")"
   ]
  }
 ],
 "metadata": {
  "kernelspec": {
   "display_name": ".venv",
   "language": "python",
   "name": "python3"
  },
  "language_info": {
   "codemirror_mode": {
    "name": "ipython",
    "version": 3
   },
   "file_extension": ".py",
   "mimetype": "text/x-python",
   "name": "python",
   "nbconvert_exporter": "python",
   "pygments_lexer": "ipython3",
   "version": "3.12.6"
  },
  "orig_nbformat": 4
 },
 "nbformat": 4,
 "nbformat_minor": 2
}
