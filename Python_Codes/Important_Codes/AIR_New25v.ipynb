{
 "cells": [
  {
   "cell_type": "markdown",
   "metadata": {},
   "source": [
    "# AIR Pull Up"
   ]
  },
  {
   "cell_type": "code",
   "execution_count": 7,
   "metadata": {},
   "outputs": [],
   "source": [
    "import pandas as pd\n",
    "#import sqlite3\n",
    "#from sqlalchemy import create_engine\n",
    "#from importlib import reload\n",
    "\n",
    "infile =   r\"D:\\OneDrive - Wipro\\Desktop\\AIR\\All Indent Report-Creation Q1 FY25.csv\"\n",
    "infile2 =   r\"D:\\OneDrive - Wipro\\Desktop\\AIR\\All Indent Report-Creation Q2 FY25.csv\"\n",
    "outfile =  r\"D:\\OneDrive - Wipro\\Desktop\\AIR\\AIR_WDC_today_Q325.csv\"\n",
    "outfile2 =  r\"D:\\OneDrive - Wipro\\Desktop\\AIR\\AIR_WDC_today_Q1Q2.csv\"\n",
    "outfile3 =  r\"D:\\OneDrive - Wipro\\Desktop\\AIR\\AIR_WDC_today_Q1Q2Q3.csv\"\n",
    "map_file = r\"D:\\OneDrive - Wipro\\Desktop\\AIR\\Ops_Template_v1.xlsx\"\n",
    "\n",
    "odata = pd.read_csv(outfile2, engine='python',sep=',') #Fetching Data\n",
    "adata = pd.read_csv(outfile, engine='python',sep=',') #Fetching Data\n",
    "#odata = pd.read_csv(infile,usecols=[\"DEMAND_ID\",\"PROJECT_NAME\",\"ESSENTIAL_SKILL\",\"PRACTICE_GRP_TXT\",\"RM_EMP_NAME\",\"MODEL_TYPE\"], engine='python' ,sep=',', quotechar='\"', error_bad_lines=False)[                [\"DEMAND_ID\",\"PROJECT_NAME\",\"ESSENTIAL_SKILL\",\"PRACTICE_GRP_TXT\",\"RM_EMP_NAME\",\"MODEL_TYPE\"]]   "
   ]
  },
  {
   "cell_type": "code",
   "execution_count": 5,
   "metadata": {},
   "outputs": [],
   "source": [
    "#table = odata.query('Service Line == [\"FSC - WDC\"]') # For SMU Dump\n",
    "# Filter by single value\n",
    "table = odata.query('`SERVICE_LINE` == [\"FSC - WDC\"] and `FULFILMENT_CATEGORY` == [\"WMG assisted fulfillment\"]')\n",
    "\n",
    "table1 = adata.query('`SERVICE_LINE` == [\"FSC - WDC\"] and `FULFILMENT_CATEGORY` == [\"WMG assisted fulfillment\"]')\n",
    "# Filter by multiple values using isin()\n",
    "# values_list = ['value1', 'value2', 'value3']\n",
    "# filtered_data = odata[odata['column_name'].isin(values_list)]\n",
    "#table = odata.query('`PROJ_SAP_BU` == [\"AMR2\",\"IDA2\"]') # For Account DumpPR\n",
    "#table = odata.query('`SMU` == [\"AMR2\",\"IDA2\"] and `SECTOR` == [\"MANUFACTURING\"]')\n",
    "#table = odata.query('`SMU` == [\"AMR2\",\"IDA2\"] and `ACCOUNT_TEXT` == [\"STATE STREET\"]') # For Account Dump\n",
    "    # ---- Using Sql Query -- to build the db\n",
    "    # engine=create_engine('sqlite://', echo=False)\n",
    "    # odata.to_sql('oir',engine, if_exists='replace', index=False)\n",
    "    # results = engine.execute(\"Select * from oir where PROJ_SAP_BU = 'BFSI'\")\n",
    "    # final=pd.DataFrame(results, columns=odata.columns)\n",
    "    # ---- pd table is ready and merged into final table\n",
    "    \n",
    "#mdata = pd.read_excel(map_file, sheet_name='Sheet1')\n",
    "#final = table.merge(mdata, on = \"CUSTOMER_NO\", how='left') # adding data to same dataframe after merge\n",
    "#odata = final.query('Sector != [\"\"]')\n",
    "#odata = final[final['Sector'].notnull()]\n",
    "#final['INDENT_CREATED_ON'] = pd.to_datetime(final['INDENT_CREATED_ON'])\n",
    "#mask = final['INDENT_CREATED_ON'].dt.month >= 10 # Month Filter Flag\n"
   ]
  },
  {
   "cell_type": "code",
   "execution_count": 6,
   "metadata": {},
   "outputs": [],
   "source": [
    "vertical_stack = pd.concat([table, table1], axis=0) #Merging 2 files together\n",
    "vertical_stack.to_csv(outfile2,index=False) #output to csv"
   ]
  },
  {
   "cell_type": "code",
   "execution_count": 8,
   "metadata": {},
   "outputs": [],
   "source": [
    "vertical_stack = pd.concat([odata, adata], axis=0) #Merging 2 files together\n",
    "vertical_stack.to_csv(outfile3,index=False) #output to csv"
   ]
  },
  {
   "cell_type": "code",
   "execution_count": null,
   "metadata": {},
   "outputs": [],
   "source": [
    "table.to_csv(outfile,index=False)\n",
    "#table1.to_csv(outfile3,index=False)"
   ]
  },
  {
   "cell_type": "code",
   "execution_count": null,
   "metadata": {},
   "outputs": [],
   "source": [
    "vertical_stack"
   ]
  }
 ],
 "metadata": {
  "kernelspec": {
   "display_name": ".venv",
   "language": "python",
   "name": "python3"
  },
  "language_info": {
   "codemirror_mode": {
    "name": "ipython",
    "version": 3
   },
   "file_extension": ".py",
   "mimetype": "text/x-python",
   "name": "python",
   "nbconvert_exporter": "python",
   "pygments_lexer": "ipython3",
   "version": "3.12.6"
  }
 },
 "nbformat": 4,
 "nbformat_minor": 2
}
