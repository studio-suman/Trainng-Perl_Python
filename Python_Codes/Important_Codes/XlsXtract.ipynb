{
 "cells": [
  {
   "cell_type": "markdown",
   "source": [
    "# Xls Coverter to csv for Data Export"
   ],
   "metadata": {}
  },
  {
   "cell_type": "code",
   "execution_count": null,
   "source": [
    "import numpy as np\r\n",
    "import pandas as pd\r\n",
    "import xlrd\r\n",
    "import csv"
   ],
   "outputs": [],
   "metadata": {}
  },
  {
   "cell_type": "code",
   "execution_count": null,
   "source": [
    "path = r\"C:\\Users\\HSASS\\OneDrive - Wipro\\Suman\\Data\\Manju_Ranga_Reports\\Power_BI Reports\\ICP\\\\\"\r\n",
    "infile =  path + \"ICP_Report_9_6_2021 4_37_03 PM.xls\"\r\n",
    "sheet_n = \"ICP_Report_9_6_2021 4_37_03 PM\"\r\n",
    "#input = pd.read_excel(infile,sheet_n,index_col=None)\r\n",
    "\r\n",
    "wb = xlrd.open_workbook(infile)\r\n",
    "sh = wb.sheet_by_name(sheet_n)\r\n",
    "your_csv_file = open(sheet_n +'.csv', 'w')\r\n",
    "wr = csv.writer(your_csv_file, quoting=csv.QUOTE_ALL)\r\n",
    "\r\n",
    "for rownum in xrange(sh.nrows):\r\n",
    "    wr.writerow(sh.row_values(rownum))\r\n",
    "\r\n",
    "your_csv_file.close()\r\n"
   ],
   "outputs": [],
   "metadata": {}
  }
 ],
 "metadata": {
  "orig_nbformat": 4,
  "language_info": {
   "name": "python",
   "version": "3.8.10",
   "mimetype": "text/x-python",
   "codemirror_mode": {
    "name": "ipython",
    "version": 3
   },
   "pygments_lexer": "ipython3",
   "nbconvert_exporter": "python",
   "file_extension": ".py"
  },
  "kernelspec": {
   "name": "python3",
   "display_name": "Python 3.8.10 64-bit ('stats_env': conda)"
  },
  "interpreter": {
   "hash": "48832d4d762e66964677d091f845bdff5451664581a6f9e8e28d483b397d241e"
  }
 },
 "nbformat": 4,
 "nbformat_minor": 2
}