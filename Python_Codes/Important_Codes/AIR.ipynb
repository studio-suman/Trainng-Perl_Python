{
 "cells": [
  {
   "cell_type": "markdown",
   "source": [
    "# AIR Pull Up"
   ],
   "metadata": {}
  },
  {
   "cell_type": "code",
   "execution_count": 1,
   "source": [
    "import pandas as pd\r\n",
    "import time\r\n",
    "import math\r\n",
    "import numpy as np\r\n",
    "import string as str\r\n",
    "import openpyxl\r\n",
    "#import sqlite3\r\n",
    "#from sqlalchemy import create_engine\r\n",
    "#from importlib import reload\r\n",
    "from datetime import datetime\r\n",
    "import sys\r\n",
    "\r\n",
    "infile =   r\"C:\\Users\\HSASS\\OneDrive - Wipro\\Desktop\\AIR\\AIR_Creation_21_22.csv\"\r\n",
    "infile2 =   r\"C:\\Users\\HSASS\\OneDrive - Wipro\\Desktop\\AIR\\AIR_Creation_20_21_Q4.csv\"\r\n",
    "outfile =  r\"C:\\Users\\HSASS\\OneDrive - Wipro\\Desktop\\AIR\\AIR_A2_today_SS.csv\"\r\n",
    "outfile2 =  r\"C:\\Users\\HSASS\\OneDrive - Wipro\\Desktop\\AIR\\AIR_A2_today_SS_2.csv\"\r\n",
    "map_file = r\"C:\\Users\\HSASS\\OneDrive - Wipro\\Desktop\\AIR\\Ops_Template_v1.xlsx\"\r\n",
    "\r\n",
    "odata = pd.read_csv(infile, engine='python',sep=',', quotechar='\"', error_bad_lines=False) #Fetching Data\r\n",
    "#adata = pd.read_csv(infile2, engine='python',sep=',', quotechar='\"', error_bad_lines=False) #Fetching Data\r\n",
    "    #odata = pd.read_csv(infile,usecols=[\"DEMAND_ID\",\"PROJECT_NAME\",\"ESSENTIAL_SKILL\",\"PRACTICE_GRP_TXT\",        \"RM_EMP_NAME\",\"MODEL_TYPE\"], engine='python' ,sep=',', quotechar='\"', error_bad_lines=False)[                [\"DEMAND_ID\",\"PROJECT_NAME\",\"ESSENTIAL_SKILL\",\"PRACTICE_GRP_TXT\",\"RM_EMP_NAME\",\"MODEL_TYPE\"]]\r\n",
    "odata.columns    "
   ],
   "outputs": [
    {
     "output_type": "execute_result",
     "data": {
      "text/plain": [
       "Index(['LOAD_DATE', 'DEMAND_GUID', 'PROJECT_NUMBER', 'PROJECT_NAME',\n",
       "       'PROJECT_DESCRIPTION', 'CUSTOMER_NO', 'CUSTOMER_NAME',\n",
       "       'CUSTOMER_SUB_GEO', 'ORG_UNIT', 'ORG_UNTI_NAME',\n",
       "       ...\n",
       "       'SOW_NO', 'ORDER_STATUS', 'FPP_TNM', 'SMU_DESCRIPTION',\n",
       "       'SAP_PRACTICE_DESCRIPTION', 'EXECUTION_HUB_DESCRIPTION', 'GBL',\n",
       "       'GBL_EH', 'DERIVED_EH', 'DERIVED_EH_SECTOR'],\n",
       "      dtype='object', length=210)"
      ]
     },
     "metadata": {},
     "execution_count": 1
    }
   ],
   "metadata": {}
  },
  {
   "cell_type": "code",
   "execution_count": 2,
   "source": [
    "table = odata.query('SMU == [\"AMR2\",\"IDA2\"]') # For SMU Dump\r\n",
    "#table = odata.query('PROJ_SAP_BU == [\"AMR2\",\"IDA2\"]') # For Account DumpPR\r\n",
    "#table = odata.query('SMU == [\"AMR2\",\"IDA2\"]' and 'SECTOR == [\"MANUFACTURING\"]')\r\n",
    "#table = odata.query('SMU == [\"AMR2\",\"IDA2\"]' and 'ACCOUNT_TEXT == [\"STATE STREET\"]') # For Account Dump\r\n",
    "    # ---- Using Sql Query -- to build the db\r\n",
    "    # engine=create_engine('sqlite://', echo=False)\r\n",
    "    # odata.to_sql('oir',engine, if_exists='replace', index=False)\r\n",
    "    # results = engine.execute(\"Select * from oir where PROJ_SAP_BU = 'BFSI'\")\r\n",
    "    # final=pd.DataFrame(results, columns=odata.columns)\r\n",
    "    # ---- pd table is ready and merged into final table\r\n",
    "    \r\n",
    "#mdata = pd.read_excel(map_file, sheet_name='Sheet1')\r\n",
    "#final = table.merge(mdata, on = \"CUSTOMER_NO\", how='left') # adding data to same dataframe after merge\r\n",
    "#odata = final.query('Sector != [\"\"]')\r\n",
    "#odata = final[final['Sector'].notnull()]\r\n",
    "#final['INDENT_CREATED_ON'] = pd.to_datetime(final['INDENT_CREATED_ON'])\r\n",
    "#mask = final['INDENT_CREATED_ON'].dt.month >= 10 # Month Filter Flag"
   ],
   "outputs": [],
   "metadata": {}
  },
  {
   "cell_type": "code",
   "execution_count": 9,
   "source": [
    "#vertical_stack = pd.concat([table, table1], axis=0) #Merging 2 files together\r\n",
    "#vertical_stack.to_csv(outfile,index=False) #output to csv"
   ],
   "outputs": [],
   "metadata": {}
  },
  {
   "cell_type": "code",
   "execution_count": 3,
   "source": [
    "table.to_csv(outfile,index=False)\r\n",
    "#table1.to_csv(outfile2,index=False)"
   ],
   "outputs": [],
   "metadata": {}
  }
 ],
 "metadata": {
  "kernelspec": {
   "name": "python3",
   "display_name": "Python 3.8.10 64-bit ('stats_env': conda)"
  },
  "language_info": {
   "codemirror_mode": {
    "name": "ipython",
    "version": 3
   },
   "file_extension": ".py",
   "mimetype": "text/x-python",
   "name": "python",
   "nbconvert_exporter": "python",
   "pygments_lexer": "ipython3",
   "version": "3.8.10"
  },
  "interpreter": {
   "hash": "48832d4d762e66964677d091f845bdff5451664581a6f9e8e28d483b397d241e"
  }
 },
 "nbformat": 4,
 "nbformat_minor": 2
}