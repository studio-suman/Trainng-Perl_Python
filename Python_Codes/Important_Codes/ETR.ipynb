{
 "cells": [
  {
   "cell_type": "markdown",
   "metadata": {},
   "source": [
    "# ETR Pull Up"
   ]
  },
  {
   "cell_type": "code",
   "execution_count": 18,
   "metadata": {},
   "outputs": [],
   "source": [
    "import pandas as pd\n",
    "import string as str\n",
    "import openpyxl\n",
    "from datetime import datetime\n",
    "import sys\n",
    "\n",
    "infile =   r\"C:\\Users\\HSASS\\Downloads\\Employee Transaction Report (ETR).csv\"\n",
    "map_file = r\"C:\\Users\\HSASS\\OneDrive - Wipro\\Desktop\\AIR\\Ops_Template_v1.xlsx\"\n",
    "odata = pd.read_csv(infile, engine='python',sep=',', quotechar='\"', error_bad_lines=False) #Fetching Data\n",
    "\n",
    "#Removing Spl Characters from EMP_NO\n",
    "odata.rename(columns = {'ï»¿EMP_NO':'EMP_NO'}, inplace = True)\n",
    "#odata = pd.read_csv(infile,usecols=[\"DEMAND_ID\",\"PROJECT_NAME\",\"ESSENTIAL_SKILL\",\"PRACTICE_GRP_TXT\",\"RM_EMP_NAME\",\"MODEL_TYPE\"], engine='python' ,sep=',', quotechar='\"', error_bad_lines=False)[[\"DEMAND_ID\",\"PROJECT_NAME\",\"ESSENTIAL_SKILL\",\"PRACTICE_GRP_TXT\",\"RM_EMP_NAME\",\"MODEL_TYPE\"]]\n",
    "#table = odata.query('SMU == [\"AMR2\",\"IDA2\"]')\n",
    "#table = odata.query('SMU == [\"AMR2\",\"IDA2\"]' and 'SECTOR == [\"CAPITAL MARKETS\"]')\n",
    "Equery = \"100753\"\n",
    "converted_num = \"{}\".format(Equery)\n",
    "outfile =  r\"C:\\Users\\HSASS\\OneDrive - Wipro\\Desktop\\ETR_\" + Equery +\".csv\"\n",
    "#table = odata.query('EMP_NO ==\"'+ Equery +'\"')\n",
    "table = odata.query('EMP_NO == [\"100753\"]')\n",
    "#table = odata.EMP_NO == Equery\n",
    "    # ---- Using Sql Query -- to build the db\n",
    "    # engine=create_engine('sqlite://', echo=False)\n",
    "    # odata.to_sql('oir',engine, if_exists='replace', index=False)\n",
    "    # results = engine.execute(\"Select * from oir where PROJ_SAP_BU = 'BFSI'\")\n",
    "    # final=pd.DataFrame(results, columns=odata.columns)\n",
    "    # ---- pd table is ready and merged into final table\n",
    "    \n",
    "#mdata = pd.read_excel(map_file, sheet_name='Sheet1')\n",
    "#final = table.merge(mdata, on = \"CUSTOMER_NO\", how='left') # adding data to same dataframe after merge\n",
    "#odata = final.query('Sector != [\"\"]')\n",
    "#odata = final[final['Sector'].notnull()]\n",
    "#final['INDENT_CREATED_ON'] = pd.to_datetime(final['INDENT_CREATED_ON'])\n",
    "#mask = final['INDENT_CREATED_ON'].dt.month >= 10 # Month Filter Flag\n"
   ]
  },
  {
   "cell_type": "code",
   "execution_count": 23,
   "metadata": {},
   "outputs": [
    {
     "data": {
      "text/html": [
       "<div>\n",
       "<style scoped>\n",
       "    .dataframe tbody tr th:only-of-type {\n",
       "        vertical-align: middle;\n",
       "    }\n",
       "\n",
       "    .dataframe tbody tr th {\n",
       "        vertical-align: top;\n",
       "    }\n",
       "\n",
       "    .dataframe thead th {\n",
       "        text-align: right;\n",
       "    }\n",
       "</style>\n",
       "<table border=\"1\" class=\"dataframe\">\n",
       "  <thead>\n",
       "    <tr style=\"text-align: right;\">\n",
       "      <th></th>\n",
       "      <th>LOAD_DATE</th>\n",
       "      <th>EMP_NO</th>\n",
       "      <th>EMP_NAME</th>\n",
       "      <th>EMP_STATUS</th>\n",
       "      <th>SR_ID</th>\n",
       "      <th>ALLOCATED_ON</th>\n",
       "      <th>SR_GUID</th>\n",
       "      <th>PROJECT_NUMBER</th>\n",
       "      <th>INDENT_CREATED_ON</th>\n",
       "      <th>DEMAND_ST_DATE</th>\n",
       "      <th>...</th>\n",
       "      <th>EMP_ET_PT_FLAG</th>\n",
       "      <th>INDENT_ET_PT_FLAG</th>\n",
       "      <th>UNIT_FLAG</th>\n",
       "      <th>LEGACY_DEMAND_ID</th>\n",
       "      <th>ENTITIES</th>\n",
       "      <th>P2P_R2R_IND_FL</th>\n",
       "      <th>RLS_ID</th>\n",
       "      <th>OPPORTUNITY_ID</th>\n",
       "      <th>RLS_BILLABILITY_TYPE</th>\n",
       "      <th>REPORT_TIME</th>\n",
       "    </tr>\n",
       "  </thead>\n",
       "  <tbody>\n",
       "  </tbody>\n",
       "</table>\n",
       "<p>0 rows × 126 columns</p>\n",
       "</div>"
      ],
      "text/plain": [
       "Empty DataFrame\n",
       "Columns: [LOAD_DATE, EMP_NO, EMP_NAME, EMP_STATUS, SR_ID, ALLOCATED_ON, SR_GUID, PROJECT_NUMBER, INDENT_CREATED_ON, DEMAND_ST_DATE, DEMAND_END_DATE, PROJECT_NAME, CUST_NO, INDENT_STATUS, CUST_NAME, INDENT_PROFIT_CENTER_DESCRIPTION, PROPOSED_ON, TM_ID, TM_NAME, PM_ID, PM_NAME, REJECTED_ON, REJECTED_BY, REJECTED_BY_NAME, REJECTED_REASON, RESERVED_ON, CREATED_ID, RESERVED_BY, RESERVED_BY_NAME, AREA, IFP_EMP_NO, EBD, INVOICE_TYPE, LATEST_TRANSACTION_DATE, TOTAL_EXP, ASSIGNMENT_ST_DATE, ASSIGNMENT_END_DATE, ASSIGNMENT_KEY, INDENT_LOCATION, SMU, SECTOR, PROJ_START_DATE, PROJ_END_DATE, ALLOCATED_BY, PROJECT_CLASSIFICATION, ALLOCATED_BY_NAME, INDENT_CLASSIFICATION, PROPOSED_BY, PROPOSED_BY_NAME, INDENT_STATE, DEMAND_STATUS, DERIVED_INDENT_CITY, DERIVED_INDENT_STATE, EMP_BAND, ESSENTIAL_SKILLS, DERIVED_INDENT_COUNTRY, EXECUTION_HUB, PROPOSED_BY_EMAIL_ID, GROUP_CUSTOMER_NO, GROUP_CUSTOMER_NAME, TRANSACTION_TIME, ADDITIONAL_SKILL_NAME1, ADDITIONAL_SKILL_NAME2, INDENT_CATEGORY, DE_ALLOCATED_ON, DE_ALLOCATED_BY_NAME, DE_ALLOCATED_REASON, INVOICETYPE_FPPTM, DEMAND_BU_SL, EXCLUSION, EXCLUSION_REASON, DEMAND_VT_PRAC_NAME, INDENT_CCODE, FRESHER_INDEX, FULFILMENT_CATEGORY, INTERNAL_EXTERNAL, GBL, PROJECT_COUNTRY, INDENT_PROFIT_CENTER, CANCELLATION_REASON, TM_EMAIL_ID, PM_EMAIL_ID, IFP_EMAIL_ID, INDENT_SERVICE_LINE, INDENT_PRACTICE, FULFILLMENT_BU_SL, FULFILLMENT_VT_PRAC_NAME, CUSTOMER_DISCUSSION_REQ, INDENT_ROLE_DESCRIPTION, PROPOSAL_SOURCE, HOME_COST_CENTER, Jscore, INDENT_ROLE_ID, QUARTER, YEAR, PROJECT_ACQUIRED_SKILLS, CERTIFIED_SKILLS, TRAINED_SKILLS, PRIMARY_SKILL, RECENT_SKILL, ...]\n",
       "Index: []\n",
       "\n",
       "[0 rows x 126 columns]"
      ]
     },
     "execution_count": 23,
     "metadata": {},
     "output_type": "execute_result"
    }
   ],
   "source": [
    "table"
   ]
  },
  {
   "cell_type": "code",
   "execution_count": null,
   "metadata": {},
   "outputs": [],
   "source": [
    "table.to_csv(outfile,index=False)\n",
    "print(\"Query Output Executed\")"
   ]
  }
 ],
 "metadata": {
  "kernelspec": {
   "display_name": "Python 3.8.10 ('stats_env')",
   "language": "python",
   "name": "python3"
  },
  "language_info": {
   "codemirror_mode": {
    "name": "ipython",
    "version": 3
   },
   "file_extension": ".py",
   "mimetype": "text/x-python",
   "name": "python",
   "nbconvert_exporter": "python",
   "pygments_lexer": "ipython3",
   "version": "3.8.10"
  },
  "orig_nbformat": 2,
  "vscode": {
   "interpreter": {
    "hash": "08f631c09b3ef93cc66ef5ecfc2f1f878b3c2c1062b4ad98bcb445e3516a0edf"
   }
  }
 },
 "nbformat": 4,
 "nbformat_minor": 2
}
