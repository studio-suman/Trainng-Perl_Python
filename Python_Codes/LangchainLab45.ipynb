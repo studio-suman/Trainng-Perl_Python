{
 "cells": [
  {
   "cell_type": "code",
   "execution_count": 1,
   "metadata": {},
   "outputs": [],
   "source": [
    "import os\n",
    "from pydantic import Extra\n",
    "import requests\n",
    "from typing import Any, List, Mapping, Optional\n",
    "\n",
    "from langchain.callbacks.manager import CallbackManagerForLLMRun\n",
    "from langchain.llms.base import LLM\n",
    "from langchain_core.output_parsers import StrOutputParser\n",
    "from langchain_core.prompts import ChatPromptTemplate\n",
    "\n",
    "from langchain.prompts import PromptTemplate\n",
    "# Run chain\n",
    "from langchain.chains import RetrievalQA\n",
    "from langchain_community.vectorstores import FAISS # type: ignore\n",
    "from langchain_ollama import OllamaEmbeddings # type: ignore\n",
    "import warnings\n",
    "warnings.filterwarnings('ignore')"
   ]
  },
  {
   "cell_type": "code",
   "execution_count": 2,
   "metadata": {},
   "outputs": [],
   "source": [
    "os.environ[\"token\"] = \"Bearer token|123675a6-95f6-4fb7-bc95-30095472ae3a|02de311fd83421a7fd637bf34dc8f959caa29f39888d2919e4b9640a2220224b\"\n",
    "token = os.environ[\"token\"]"
   ]
  },
  {
   "cell_type": "code",
   "execution_count": 17,
   "metadata": {},
   "outputs": [],
   "source": [
    "from typing import ClassVar\n",
    "\n",
    "parser = StrOutputParser()\n",
    "\n",
    "class LlamaLLM(LLM):\n",
    "    llm_url: ClassVar[str] = 'https://api.lab45.ai/v1.1/skills/completion/query'\n",
    "    \n",
    "    backend:        Optional[str]   = 'gpt-35-turbo-16k'\n",
    "    temp:           Optional[float] = 0.7\n",
    "    top_p:          Optional[float] = 0.1\n",
    "    top_k:          Optional[int]   = 40\n",
    "    n_batch:        Optional[int]   = 8\n",
    "    n_threads:      Optional[int]   = 4\n",
    "    n_predict:      Optional[int]   = 256\n",
    "    max_tokens:     Optional[int]   = 256\n",
    "    repeat_last_n:  Optional[int]   = 64\n",
    "    repeat_penalty: Optional[float] = 1.18\n",
    "\n",
    "    class Config:\n",
    "        extra = Extra.forbid\n",
    "\n",
    "    @property\n",
    "    def _llm_type(self) -> str:\n",
    "        return \"gpt-35-turbo-16k\"\n",
    "    \n",
    "    @property\n",
    "    def _get_model_default_parameters(self):\n",
    "        return {\n",
    "            \"max_tokens\": self.max_tokens,\n",
    "            #\"n_predict\": self.n_predict,\n",
    "            \"top_k\": self.top_k,\n",
    "            \"top_p\": self.top_p,\n",
    "            \"temperature\": self.temp,\n",
    "            #\"n_batch\": self.n_batch,\n",
    "            #\"repeat_penalty\": self.repeat_penalty,\n",
    "            #\"repeat_last_n\": self.repeat_last_n,\n",
    "        }\n",
    "\n",
    "    def _call(\n",
    "        self,\n",
    "        prompt: str,\n",
    "        user: str,\n",
    "        stop: Optional[List[str]] = None,\n",
    "        run_manager: Optional[CallbackManagerForLLMRun] = None,\n",
    "        **kwargs: Any,\n",
    "    ) -> str:\n",
    "        if stop is not None:\n",
    "            raise ValueError(\"stop kwargs are not permitted.\")\n",
    "\n",
    "        payload = {\n",
    "        \"messages\": [\n",
    "            {\n",
    "            \"content\": prompt,\n",
    "            \"role\": user\n",
    "            }\n",
    "        ],\n",
    "        \"skill_parameters\": {\n",
    "            \"model_name\": \"gpt-35-turbo-16k\",\n",
    "            \"max_output_tokens\": 4096,\n",
    "            \"temperature\": 0,\n",
    "            \"top_k\": 5\n",
    "        },\n",
    "        \"stream_response\": False\n",
    "        }\n",
    "\n",
    "        headers = {\"Content-Type\": \"application/json\",\"Authorization\": token}\n",
    "\n",
    "        response = requests.post(self.llm_url, json=payload, headers=headers, verify=False)\n",
    "\n",
    "       # print(\"API Response:\", response.json())\n",
    "        response.raise_for_status()\n",
    "\n",
    "        return response.json()  # get the response from the API\n",
    "\n",
    "    @property\n",
    "    def _identifying_params(self) -> Mapping[str, Any]:\n",
    "        \"\"\"Get the identifying parameters.\"\"\"\n",
    "        return {\n",
    "            \"llmUrl\": self.llm_url,\n",
    "            'model_parameters': self._get_model_default_parameters\n",
    "            }"
   ]
  },
  {
   "cell_type": "code",
   "execution_count": 18,
   "metadata": {},
   "outputs": [],
   "source": [
    "llm = LlamaLLM()"
   ]
  },
  {
   "cell_type": "code",
   "execution_count": 19,
   "metadata": {},
   "outputs": [],
   "source": [
    "skill1=\"Core Java L1\"\n",
    "skill2=\"Spring Boot L2\"\n",
    "skill3=\"Hibernate L3\"\n",
    "skill4=\"Selenium L4\"\n",
    "title=\"Senior Java Full Stack Developer\"\n",
    "user = \"system\"\n",
    "prompt = \"\"\"As a skilled Technical Interview Panel with advanced knowledge in technology and data science, your role is to meticulously evaluate a employer job description and provide detailed job description having below points outlined.\n",
    "            Use the mentioned skills & title to generate the job description, where L1 means Beginner, L2 means Intermediate, L3 means Advanced, and L4 means Expert,\n",
    "            1. **Job Title and Summary**:\n",
    "            - \"What are the key responsibilities?\"\n",
    "            \n",
    "            2. **Key Responsibilities**:\n",
    "            - \"List the main roles and responsibilities as per title and combination of skill along with proficiency\"\n",
    "\n",
    "            3. **Qualifications and Skills**:\n",
    "            - \"What qualifications are required?\"\n",
    "            - \"List the essential skills needed and mention the level of expertise required.\"\n",
    "\n",
    "            4. **Experience Requirements**:\n",
    "            - \"How many years of experience are needed?\"\n",
    "            - \"What type of previous experience is beneficial?\"\n",
    "\n",
    "            \"\"\" + skill1 + skill2 + skill3 + skill4 + title"
   ]
  },
  {
   "cell_type": "code",
   "execution_count": 20,
   "metadata": {},
   "outputs": [
    {
     "data": {
      "text/plain": [
       "\"**Job Title and Summary**:\\n- Job Title: Senior Java Full Stack Developer\\n- Summary: We are looking for a Senior Java Full Stack Developer with expertise in Core Java, Spring Boot, Hibernate, and Selenium to join our team. The ideal candidate will be responsible for developing and maintaining high-quality software solutions, from frontend to backend, while ensuring the best possible performance and responsiveness of the applications.\\n\\n**Key Responsibilities**:\\n- Designing, developing, and maintaining high-quality software solutions using Core Java, Spring Boot, Hibernate, and Selenium.\\n- Collaborating with cross-functional teams to define, design, and ship new features.\\n- Ensuring the best possible performance, quality, and responsiveness of the applications.\\n- Identifying and correcting bottlenecks and fixing bugs.\\n- Helping maintain code quality, organization, and automation.\\n\\n**Qualifications and Skills**:\\n- Qualifications: Bachelor's degree in Computer Science, Engineering, or a related field.\\n- Essential Skills:\\n  - Core Java (L3)\\n  - Spring Boot (L2)\\n  - Hibernate (L3)\\n  - Selenium (L4)\\n  - Experience with full stack development\\n  - Strong understanding of object-oriented programming\\n  - Proficient understanding of code versioning tools, such as Git\\n  - Experience with Agile methodologies\\n  - Excellent communication and teamwork skills\\n\\n**Experience Requirements**:\\n- Years of experience needed: 5+ years of experience in Java development and full stack development.\\n- Beneficial previous experience: Previous experience in developing and maintaining high-quality software solutions, working in cross-functional teams, and using Agile methodologies would be beneficial.\""
      ]
     },
     "execution_count": 20,
     "metadata": {},
     "output_type": "execute_result"
    }
   ],
   "source": [
    "#Testing\n",
    "#prompt = \"What is the current date and time?\"\n",
    "result = llm._call(prompt,user)\n",
    "parsed_result = result['data']['content'] # type: ignore\n",
    "parser.invoke(parsed_result)\n"
   ]
  },
  {
   "cell_type": "code",
   "execution_count": 21,
   "metadata": {},
   "outputs": [
    {
     "data": {
      "text/plain": [
       "\"**Job Title and Summary**:\\n- Job Title: Senior Java Full Stack Developer\\n- Summary: We are seeking a highly skilled Senior Java Full Stack Developer to join our team. The ideal candidate will have expertise in Core Java, Spring Boot, Hibernate, and Selenium to develop and maintain high-quality web applications.\\n\\n**Key Responsibilities**:\\n- Designing, developing, and maintaining high-quality web applications using Core Java, Spring Boot, Hibernate, and Selenium.\\n- Collaborating with cross-functional teams to define, design, and ship new features.\\n- Writing clean, efficient, and maintainable code.\\n- Troubleshooting and debugging applications to optimize performance.\\n- Implementing security and data protection measures.\\n- Conducting software analysis, testing, and debugging.\\n- Keeping up-to-date with the latest industry trends and technologies.\\n\\n**Qualifications and Skills**:\\n- Qualifications: Bachelor's degree in Computer Science, Engineering, or related field.\\n- Essential Skills:\\n  - Core Java (L3)\\n  - Spring Boot (L2)\\n  - Hibernate (L3)\\n  - Selenium (L4)\\n  - Experience with web application development and maintenance.\\n  - Strong understanding of software development principles and best practices.\\n  - Excellent problem-solving and analytical skills.\\n  - Ability to work in a fast-paced and collaborative environment.\\n\\n**Experience Requirements**:\\n- Years of experience needed: 5+ years of experience in Java development and full stack development.\\n- Beneficial previous experience: Previous experience in developing and maintaining web applications using Core Java, Spring Boot, Hibernate, and Selenium.\""
      ]
     },
     "execution_count": 21,
     "metadata": {},
     "output_type": "execute_result"
    }
   ],
   "source": [
    "prompt2 = \"Summarize it into 8 to 10 sentences keeping all the key resposibilities and skills profiencies mentioned in the job description.\"\n",
    "result2 = llm._call(prompt,user)\n",
    "parsed_result2 = result2['data']['content'] # type: ignore\n",
    "parser.invoke(parsed_result2)"
   ]
  },
  {
   "cell_type": "code",
   "execution_count": 13,
   "metadata": {},
   "outputs": [],
   "source": [
    "# Define the API endpoint for interacting with the agents API\n",
    "agents_endpoint = f\"https://api.lab45.ai/v1.1/agents\"  # The endpoint where agent-related operations are available\n",
    "\n",
    "# Set the headers for the request, including content type, accepted response format, and authorization token\n",
    "headers = {\n",
    "    'Content-Type': \"application/json\",  # The content type is set to JSON, meaning the body will be JSON-encoded\n",
    "    'Accept': \"text/event-stream, application/json\",  # The client expects either event-stream or JSON as the response format\n",
    "    'Authorization': token  # Replace <api_key> with your actual API key for authentication\n",
    "}\n"
   ]
  },
  {
   "cell_type": "code",
   "execution_count": null,
   "metadata": {},
   "outputs": [
    {
     "name": "stdout",
     "output_type": "stream",
     "text": [
      "{'_id': '8dea253e-4cae-467b-88a5-88df4477c79f', 'allow_all_access': False, 'dataset_id': None, 'description': 'JD Enhancing Agent', 'instructions': 'You will be given JD that you need to browse in web and get latest update on this JD and show me the differnceYou will be given JD that you need to browse in web and get latest update on this JD and show me the differnce', 'max_output_tokens': 256, 'model_name': 'gpt-4', 'name': 'JD_Agent', 'owners': ['bf955f58-9ed4-4d5a-9b49-971fc185e5a4'], 'temperature': 0.3, 'tenant_id': 'a919164d-8b7c-43fb-8119-f1997d45ca4f', 'tools': ['BingSearchTool'], 'top_k': 5, 'type': 'Toolset'}\n"
     ]
    }
   ],
   "source": [
    "# Define the payload (request body) for the API call to create an agent, which includes agent details and configuration\n",
    "payload = {\n",
    "    \"allow_all_access\": False,\n",
    "    \"dataset_id\": None, \n",
    "    \"name\": \"JD_Agent\", \n",
    "    \"description\": \"JD Enhancing Agent\", \n",
    "    \"instructions\": \"You will be given JD that you need to browse in web and get latest update on this JD and show me the differnceYou will be given JD that you need to browse in web and get latest update on this JD and show me the differnce\", \n",
    "    \"max_output_tokens\": 256,\n",
    "    \"model_name\": \"gpt-4\", \n",
    "    \"temperature\": 0.3,\n",
    "    \"tools\": [\"BingSearchTool\"],\n",
    "    \"top_k\": 5,\n",
    "    \"type\": \"Toolset\"\n",
    "    \n",
    "}\n",
    "\n",
    "response = requests.post(agents_endpoint, headers=headers, json=payload)\n",
    "\n",
    "# Print the response from the API call to inspect the result (status code, content, etc.)\n",
    "print(response.json())\n",
    "\n",
    "#'8dea253e-4cae-467b-88a5-88df4477c79f'\n",
    "#'owners': ['bf955f58-9ed4-4d5a-9b49-971fc185e5a4']\n",
    "#'tenant_id': 'a919164d-8b7c-43fb-8119-f1997d45ca4f'"
   ]
  },
  {
   "cell_type": "code",
   "execution_count": null,
   "metadata": {},
   "outputs": [
    {
     "name": "stdout",
     "output_type": "stream",
     "text": [
      "{'detail': {'json': {'conversation_id': ['Unknown field.'], 'messages': ['Unknown field.'], 'name': ['Missing data for required field.'], 'party_id': ['Unknown field.'], 'party_type': ['Unknown field.'], 'save_conversation': ['Unknown field.'], 'stream_response': ['Unknown field.']}}, 'message': 'Validation error'}\n"
     ]
    }
   ],
   "source": [
    "# Define the payload (request body) for the API call, which contains the conversation details and instructions for the agent\n",
    "payload = {\n",
    "    \"conversation_id\": None,  \n",
    "    \"messages\": [  \n",
    "        {\n",
    "            \"content\": parsed_result2,  \n",
    "            \"name\": \"user_name\",\n",
    "            \"role\": \"role\"\n",
    "        }\n",
    "    ],\n",
    "    \"party_id\": \"8dea253e-4cae-467b-88a5-88df4477c79f\",  # The unique ID of the party (here it is the agent_id which is generated in agents api)\n",
    "    \"party_type\": \"Team\",  \n",
    "    \"save_conversation\": False,  \n",
    "    \"stream_response\": False  \n",
    "}\n",
    "\n",
    "\n",
    "response = requests.post(agents_endpoint, headers=headers, json=payload)\n",
    "\n",
    "# Print the response from the API call to inspect the result (status code, content, etc.)\n",
    "print(response.json())"
   ]
  }
 ],
 "metadata": {
  "kernelspec": {
   "display_name": ".venv",
   "language": "python",
   "name": "python3"
  },
  "language_info": {
   "codemirror_mode": {
    "name": "ipython",
    "version": 3
   },
   "file_extension": ".py",
   "mimetype": "text/x-python",
   "name": "python",
   "nbconvert_exporter": "python",
   "pygments_lexer": "ipython3",
   "version": "3.12.6"
  }
 },
 "nbformat": 4,
 "nbformat_minor": 2
}
