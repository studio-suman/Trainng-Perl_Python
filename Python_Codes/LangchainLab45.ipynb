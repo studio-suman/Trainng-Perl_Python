{
 "cells": [
  {
   "cell_type": "code",
   "execution_count": 1,
   "metadata": {},
   "outputs": [],
   "source": [
    "import os\n",
    "from pydantic import Extra\n",
    "import requests\n",
    "from typing import Any, List, Mapping, Optional\n",
    "\n",
    "from langchain.callbacks.manager import CallbackManagerForLLMRun\n",
    "from langchain.llms.base import LLM\n",
    "from langchain_core.output_parsers import StrOutputParser\n",
    "from langchain_core.prompts import ChatPromptTemplate\n",
    "\n",
    "from langchain.prompts import PromptTemplate\n",
    "# Run chain\n",
    "from langchain.chains import RetrievalQA\n",
    "from langchain_community.vectorstores import FAISS # type: ignore\n",
    "from langchain_ollama import OllamaEmbeddings # type: ignore\n",
    "import warnings\n",
    "warnings.filterwarnings('ignore')"
   ]
  },
  {
   "cell_type": "code",
   "execution_count": 2,
   "metadata": {},
   "outputs": [],
   "source": [
    "os.environ[\"token\"] = \"Bearer token|123675a6-95f6-4fb7-bc95-30095472ae3a|02de311fd83421a7fd637bf34dc8f959caa29f39888d2919e4b9640a2220224b\"\n",
    "token = os.environ[\"token\"]"
   ]
  },
  {
   "cell_type": "code",
   "execution_count": 3,
   "metadata": {},
   "outputs": [],
   "source": [
    "from typing import ClassVar\n",
    "\n",
    "parser = StrOutputParser()\n",
    "\n",
    "class LlamaLLM(LLM):\n",
    "    llm_url: ClassVar[str] = 'https://api.lab45.ai/v1.1/skills/completion/query'\n",
    "    \n",
    "    backend:        Optional[str]   = 'gpt-35-turbo-16k'\n",
    "    temp:           Optional[float] = 0.7\n",
    "    top_p:          Optional[float] = 0.1\n",
    "    top_k:          Optional[int]   = 40\n",
    "    n_batch:        Optional[int]   = 8\n",
    "    n_threads:      Optional[int]   = 4\n",
    "    n_predict:      Optional[int]   = 256\n",
    "    max_tokens:     Optional[int]   = 256\n",
    "    repeat_last_n:  Optional[int]   = 64\n",
    "    repeat_penalty: Optional[float] = 1.18\n",
    "\n",
    "    class Config:\n",
    "        extra = Extra.forbid\n",
    "\n",
    "    @property\n",
    "    def _llm_type(self) -> str:\n",
    "        return \"gpt-35-turbo-16k\"\n",
    "    \n",
    "    @property\n",
    "    def _get_model_default_parameters(self):\n",
    "        return {\n",
    "            \"max_tokens\": self.max_tokens,\n",
    "            #\"n_predict\": self.n_predict,\n",
    "            \"top_k\": self.top_k,\n",
    "            \"top_p\": self.top_p,\n",
    "            \"temperature\": self.temp,\n",
    "            #\"n_batch\": self.n_batch,\n",
    "            #\"repeat_penalty\": self.repeat_penalty,\n",
    "            #\"repeat_last_n\": self.repeat_last_n,\n",
    "        }\n",
    "\n",
    "    def _call(\n",
    "        self,\n",
    "        prompt: str,\n",
    "        user: str,\n",
    "        stop: Optional[List[str]] = None,\n",
    "        run_manager: Optional[CallbackManagerForLLMRun] = None,\n",
    "        **kwargs: Any,\n",
    "    ) -> str:\n",
    "        if stop is not None:\n",
    "            raise ValueError(\"stop kwargs are not permitted.\")\n",
    "\n",
    "        payload = {\n",
    "        \"messages\": [\n",
    "            {\n",
    "            \"content\": prompt,\n",
    "            \"role\": user\n",
    "            }\n",
    "        ],\n",
    "        \"skill_parameters\": {\n",
    "            \"model_name\": \"gpt-35-turbo-16k\",\n",
    "            \"max_output_tokens\": 4096,\n",
    "            \"temperature\": 0,\n",
    "            \"top_k\": 5\n",
    "        },\n",
    "        \"stream_response\": False\n",
    "        }\n",
    "\n",
    "        headers = {\"Content-Type\": \"application/json\",\"Authorization\": token}\n",
    "\n",
    "        response = requests.post(self.llm_url, json=payload, headers=headers, verify=False)\n",
    "\n",
    "       # print(\"API Response:\", response.json())\n",
    "        response.raise_for_status()\n",
    "\n",
    "        return response.json()  # get the response from the API\n",
    "\n",
    "    @property\n",
    "    def _identifying_params(self) -> Mapping[str, Any]:\n",
    "        \"\"\"Get the identifying parameters.\"\"\"\n",
    "        return {\n",
    "            \"llmUrl\": self.llm_url,\n",
    "            'model_parameters': self._get_model_default_parameters\n",
    "            }"
   ]
  },
  {
   "cell_type": "code",
   "execution_count": 4,
   "metadata": {},
   "outputs": [],
   "source": [
    "llm = LlamaLLM()"
   ]
  },
  {
   "cell_type": "code",
   "execution_count": 55,
   "metadata": {},
   "outputs": [],
   "source": [
    "skill1=\"Core Java L1\"\n",
    "skill2=\"Spring Boot L2\"\n",
    "skill3=\"Hibernate L3\"\n",
    "skill4=\"Selenium L4\"\n",
    "title=\"Senior Java Full Stack Developer\"\n",
    "user = \"system\"\n",
    "prompt = \"\"\"As a skilled Technical Interview Panel with advanced knowledge in technology and data science, your role is to meticulously evaluate a employer job description and provide detailed job description having below points outlined.\n",
    "            Use the mentioned skills & title to generate the job description, where L1 means Beginner, L2 means Intermediate, L3 means Advanced, and L4 means Expert,\n",
    "            1. **Job Title and Summary**:\n",
    "            - \"What are the key responsibilities?\"\n",
    "            \n",
    "            2. **Key Responsibilities**:\n",
    "            - \"List the main roles and responsibilities as per title and combination of skill along with proficiency\"\n",
    "\n",
    "            3. **Qualifications and Skills**:\n",
    "            - \"What qualifications are required?\"\n",
    "            - \"List the essential skills needed and mention the level of expertise required.\"\n",
    "\n",
    "            4. **Experience Requirements**:\n",
    "            - \"How many years of experience are needed?\"\n",
    "            - \"What type of previous experience is beneficial?\"\n",
    "\n",
    "            \"\"\" + skill1 + skill2 + skill3 + skill4 + title\n",
    "prompt2 =   \"\"\"\n",
    "            Use the mentioned skills & title to generate the job description, where L1 means Beginner, L2 means Intermediate, L3 means Advanced, and L4 means Expert,\n",
    "            Job Title and Summary:\n",
    "            \"What are the key responsibilities?\"\n",
    "            Key Responsibilities:\n",
    "            \"List the main roles and responsibilities as per title and combination of skill along with proficiency\"\n",
    "            Qualifications and Skills:\n",
    "            \"What qualifications are required?\"\n",
    "            \"List the essential skills needed and mention the level of expertise required.\"\n",
    "            Experience Requirements:\n",
    "            \"How many years of experience are needed?\"\n",
    "            \"What type of previous experience is beneficial?\"\n",
    "            \"\"\" + skill1 + skill2 + skill3 + skill4 + title"
   ]
  },
  {
   "cell_type": "code",
   "execution_count": 6,
   "metadata": {},
   "outputs": [
    {
     "data": {
      "text/plain": [
       "\"**Job Title and Summary**:\\n- Job Title: Senior Java Full Stack Developer\\n- Summary: We are looking for a Senior Java Full Stack Developer to join our team and be responsible for the development and maintenance of high-quality software products. The ideal candidate should have a strong background in Core Java, Spring Boot, Hibernate, and Selenium.\\n\\n**Key Responsibilities**:\\n- Designing, developing, and maintaining high-quality software solutions using Core Java, Spring Boot, Hibernate, and Selenium.\\n- Collaborating with cross-functional teams to define, design, and ship new features.\\n- Writing clean, efficient, and maintainable code.\\n- Troubleshooting, debugging, and resolving technical issues.\\n- Participating in code reviews and providing constructive feedback.\\n- Developing and implementing automated tests to ensure product quality.\\n- Mentoring and providing technical guidance to junior team members.\\n\\n**Qualifications and Skills**:\\n- Qualifications: Bachelor's degree in Computer Science, Engineering, or related field.\\n- Essential Skills:\\n  - Core Java (L3)\\n  - Spring Boot (L2)\\n  - Hibernate (L3)\\n  - Selenium (L4)\\n  - Strong understanding of software development principles and design patterns.\\n  - Experience with front-end technologies such as HTML, CSS, and JavaScript.\\n  - Knowledge of database management systems (e.g., MySQL, PostgreSQL).\\n  - Familiarity with Agile methodologies and DevOps practices.\\n  - Excellent problem-solving and analytical skills.\\n  - Strong communication and teamwork abilities.\\n\\n**Experience Requirements**:\\n- Years of experience: 5+ years of experience in software development.\\n- Beneficial previous experience: Previous experience in full stack development, working with large-scale applications, and leading development teams would be beneficial.\""
      ]
     },
     "execution_count": 6,
     "metadata": {},
     "output_type": "execute_result"
    }
   ],
   "source": [
    "#Testing\n",
    "#prompt = \"What is the current date and time?\"\n",
    "result = llm._call(prompt,user)\n",
    "parsed_result = result['data']['content'] # type: ignore\n",
    "parser.invoke(parsed_result)\n"
   ]
  },
  {
   "cell_type": "code",
   "execution_count": 7,
   "metadata": {},
   "outputs": [
    {
     "data": {
      "text/plain": [
       "\"**Job Title and Summary**:\\n- Job Title: Senior Java Full Stack Developer\\n- Summary: We are seeking a highly skilled Senior Java Full Stack Developer to join our team. The ideal candidate will be responsible for developing and maintaining high-quality software solutions, utilizing their expertise in Core Java, Spring Boot, Hibernate, and Selenium.\\n\\n**Key Responsibilities**:\\n- Designing, developing, and maintaining high-quality software solutions using Core Java, Spring Boot, Hibernate, and Selenium\\n- Collaborating with cross-functional teams to define, design, and ship new features\\n- Troubleshooting, debugging, and resolving software issues\\n- Writing clean, efficient, and maintainable code\\n- Participating in code reviews and providing constructive feedback\\n- Mentoring and guiding junior developers in best practices and coding standards\\n- Keeping up-to-date with the latest industry trends and technologies\\n\\n**Qualifications and Skills**:\\n- Qualifications: Bachelor's degree in Computer Science, Engineering, or related field\\n- Essential Skills:\\n  - Core Java (L3)\\n  - Spring Boot (L2)\\n  - Hibernate (L3)\\n  - Selenium (L4)\\n  - Strong understanding of software development principles and design patterns\\n  - Experience with front-end technologies such as HTML, CSS, and JavaScript\\n  - Familiarity with Agile methodologies and DevOps practices\\n  - Excellent problem-solving and analytical skills\\n  - Strong communication and teamwork abilities\\n\\n**Experience Requirements**:\\n- Years of Experience: 5+ years of experience in software development\\n- Beneficial Previous Experience:\\n  - Full stack development experience\\n  - Experience in building scalable and high-performance applications\\n  - Experience with cloud technologies and microservices architecture\""
      ]
     },
     "execution_count": 7,
     "metadata": {},
     "output_type": "execute_result"
    }
   ],
   "source": [
    "prompt2 = \"Summarize it into 8 to 10 sentences keeping all the key resposibilities and skills profiencies mentioned in the job description.\"\n",
    "result2 = llm._call(prompt,user)\n",
    "parsed_result2 = result2['data']['content'] # type: ignore\n",
    "parser.invoke(parsed_result2)"
   ]
  },
  {
   "cell_type": "code",
   "execution_count": 57,
   "metadata": {},
   "outputs": [],
   "source": [
    "# Define the API endpoint for interacting with the agents API\n",
    "agents_endpoint = f\"https://api.lab45.ai/v1.1/agents\"  # The endpoint where agent-related operations are available\n",
    "\n",
    "# Define the API endpoint for interacting with the agents chatAPI\n",
    "agents_endpoint2 = f\"https://api.lab45.ai/v1.1/agent_chat_session/query\"  # The endpoint where agent-related operations are available\n",
    "\n",
    "# Set the headers for the request, including content type, accepted response format, and authorization token\n",
    "headers = {\n",
    "    'Content-Type': \"application/json\",  # The content type is set to JSON, meaning the body will be JSON-encoded\n",
    "    'Accept': \"text/event-stream, application/json\",  # The client expects either event-stream or JSON as the response format\n",
    "    'Authorization': token  # Replace <api_key> with your actual API key for authentication\n",
    "}\n"
   ]
  },
  {
   "cell_type": "code",
   "execution_count": null,
   "metadata": {},
   "outputs": [
    {
     "name": "stdout",
     "output_type": "stream",
     "text": [
      "{'detail': {'json': {'name': ['Agent name already exists']}}, 'message': 'Validation error'}\n"
     ]
    }
   ],
   "source": [
    "# Define the payload (request body) for the API call to create an agent, which includes agent details and configuration\n",
    "payload = {\n",
    "    \"allow_all_access\": False,\n",
    "    \"dataset_id\": None, \n",
    "    \"name\": \"JD_Agent\", \n",
    "    \"description\": \"JD Enhancing Agent\", \n",
    "    \"instructions\": \"You will be given JD that you need to browse in web and get latest update on this JD and show me the differnceYou will be given JD that you need to browse in web and get latest update on this JD and show me the differnce\", \n",
    "    \"max_output_tokens\": 256,\n",
    "    \"model_name\": \"gpt-4\", \n",
    "    \"temperature\": 0.3,\n",
    "    \"tools\": [\"BingSearchTool\"],\n",
    "    \"top_k\": 5,\n",
    "    \"type\": \"Toolset\"\n",
    "    \n",
    "}\n",
    "\n",
    "response = requests.post(agents_endpoint, headers=headers, json=payload)\n",
    "\n",
    "# Print the response from the API call to inspect the result (status code, content, etc.)\n",
    "print(response.json())\n",
    "\n",
    "#'8dea253e-4cae-467b-88a5-88df4477c79f'\n",
    "#'owners': ['bf955f58-9ed4-4d5a-9b49-971fc185e5a4']\n",
    "#'tenant_id': 'a919164d-8b7c-43fb-8119-f1997d45ca4f'"
   ]
  },
  {
   "cell_type": "code",
   "execution_count": 51,
   "metadata": {},
   "outputs": [],
   "source": [
    "strip = parsed_result.rstrip()"
   ]
  },
  {
   "cell_type": "code",
   "execution_count": 58,
   "metadata": {},
   "outputs": [
    {
     "name": "stdout",
     "output_type": "stream",
     "text": [
      "{'data': {'name': 'JD_Agent', 'role': 'function', 'content': 'As a Senior Java Full Stack Developer, the role involves managing the software development life cycle from planning and prioritization to testing and release. This position requires a blend of expertise in system and user requirement gathering, building Java modules, and testing features before their release to ensure high quality and functionality.\\n\\n**Key Responsibilities:**\\n1. **Designing, Implementing, and Maintaining Java Applications:** You will play a crucial role in developing high-quality Java applications that are efficient and scalable.\\n2. **Mentorship:** Providing guidance and mentorship to junior developers is an essential part of the job, helping them to improve their skills and understanding of Java development.\\n\\n**Required Skills and Experience:**\\n- **Core Java:** Profound knowledge in Core Java is essential, as it is the fundamental technology used for backend development.\\n- **Spring Boot:** Experience with Spring Boot is vital for building microservices and handling backend logic.\\n- **Hibernate:** Knowledge of Hibernate enables effective interaction with the database to perform CRUD operations.\\n- **Selenium:** Familiarity with Selenium is advantageous for automating tests, ensuring the applications work as expected across different environments.\\n\\n**Additional Competencies:**\\n- **Database Management Systems:** Thorough understanding of database operations is crucial for managing data flow and storage.\\n- **Front-End Technologies:** Being familiar with front-end technologies helps in handling full-stack development requirements.\\n- **Problem-Solving Skills:** Excellent problem-solving capabilities to troubleshoot and resolve issues efficiently.\\n- **Agile Environment:** Ability to work effectively in an agile development environment, adapting quickly to changes.\\n- **Communication and Teamwork:** Strong communication and teamwork abilities are necessary for collaborative development and successful project execution.\\n\\nEvolving into a Senior Java Full Stack Developer involves not just technical prowess but also an enhanced capacity for project management, leadership, and strategic planning. These elements are crucial in driving the successful delivery of software projects and fostering innovation within the team.', 'source_documents': [{'snippet': 'A <b>Full</b> <b>Stack</b> <b>Java</b> <b>Developer</b> can advance to become a <b>Senior</b> <b>Developer</b>, where they would take on more complex projects and potentially lead a team of developers. They could also specialize in a particular area of development and become an expert, such as a UI/UX designer or a Database Architect.', 'title': 'Full Stack Java Developer Job Description [Updated for 2025]', 'link': 'https://interviewguy.com/full-stack-java-developer-job-description/'}, {'snippet': '<b>Senior</b> <b>Java</b> <b>Developer</b> Salary Expectations. A <b>Senior</b> <b>Java</b> <b>Developer</b> earns an average salary of $104,881 (USD) per year. The actual salary may depend on factors such as the <b>developer</b>’s years of experience, specific technical <b>skills</b>, the size and industry of the company, and the geographical location. <b>Senior</b> <b>Java</b> <b>Developer</b> <b>Job</b> <b>Description</b> FAQs', 'title': 'Senior Java Developer Job Description [Updated for 2025]', 'link': 'https://interviewguy.com/senior-java-developer-job-description/'}, {'snippet': '<b>Job</b> brief. We are looking for a <b>Senior</b> <b>Java</b> <b>Developer</b> to manage the software development life cycle, from planning and prioritizing to testing and release. <b>Senior</b> <b>Java</b> <b>Developer</b> responsibilities include gathering system and user requirements, building <b>Java</b> modules and testing features before release.', 'title': 'Senior Java Developer Job Description [+2024 TEMPLATE] - Workable', 'link': 'https://resources.workable.com/senior-java-developer-job-description'}, {'snippet': '<b>Senior</b> <b>Java</b> <b>Developer</b> <b>Job</b> <b>Description</b> Template As a <b>Senior</b> <b>Java</b> <b>Developer</b>, you will play a crucial role in developing high-quality <b>Java</b> applications. You will be responsible for designing, implementing, and maintaining <b>Java</b>-based applications that are both efficient and scalable, as well as providing mentorship to junior developers.', 'title': 'Senior Java Developer Job Description Template - expertia.ai', 'link': 'https://www.expertia.ai/blogs/jd/senior-java-developer-job-description-16569r'}, {'snippet': 'Proven experience as a <b>Java</b> <b>Full</b> <b>Stack</b> <b>Developer</b>. Strong understanding of <b>Java</b> programming. Experience with web development frameworks. Knowledge of database management systems. Familiarity with front-end technologies. Excellent problem-solving <b>skills</b>. Ability to work in an agile environment. Good communication and teamwork <b>skills</b>.', 'title': 'Java Full Stack Developer Job Description - jobed.ai', 'link': 'https://www.jobed.ai/java-full-stack-developer'}], 'conversation_id': '67a54fbc0fbdf13498c7c461', 'response_status': 'Completed'}}\n"
     ]
    }
   ],
   "source": [
    "# Define the payload (request body) for the API call, which contains the conversation details and instructions for the agent\n",
    "payload = {\n",
    "    \"conversation_id\": \"\",  \n",
    "    \"messages\": [  \n",
    "        {\n",
    "            \"content\": \"I have a job description and I want to enhance it with the latest updates. Can you help me looking in below content and provide me the latest updates?\" + prompt2,  \n",
    "            \"name\": \"Suman\",\n",
    "            \"role\": \"user\"\n",
    "        }\n",
    "    ],\n",
    "    \"party_id\": \"8dea253e-4cae-467b-88a5-88df4477c79f\",  # The unique ID of the party (here it is the agent_id which is generated in agents api)\n",
    "    \"party_type\": \"Agent\",\n",
    "    \"save_conversation\": False,  \n",
    "    \"stream_response\": False  \n",
    "}\n",
    "\n",
    "\n",
    "response = requests.post(agents_endpoint2, headers=headers, json=payload)\n",
    "\n",
    "# Print the response from the API call to inspect the result (status code, content, etc.)\n",
    "print(response.json())"
   ]
  }
 ],
 "metadata": {
  "kernelspec": {
   "display_name": ".venv",
   "language": "python",
   "name": "python3"
  },
  "language_info": {
   "codemirror_mode": {
    "name": "ipython",
    "version": 3
   },
   "file_extension": ".py",
   "mimetype": "text/x-python",
   "name": "python",
   "nbconvert_exporter": "python",
   "pygments_lexer": "ipython3",
   "version": "3.12.6"
  }
 },
 "nbformat": 4,
 "nbformat_minor": 2
}
