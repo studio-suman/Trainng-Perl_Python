{
 "cells": [
  {
   "cell_type": "code",
   "execution_count": 84,
   "metadata": {},
   "outputs": [],
   "source": [
    "import os\n",
    "from pydantic import Extra\n",
    "import requests\n",
    "from typing import Any, List, Mapping, Optional\n",
    "\n",
    "from langchain.callbacks.manager import CallbackManagerForLLMRun\n",
    "from langchain.llms.base import LLM\n",
    "from langchain_core.output_parsers import StrOutputParser\n",
    "from langchain_core.prompts import ChatPromptTemplate\n",
    "\n",
    "from langchain.prompts import PromptTemplate\n",
    "# Run chain\n",
    "from langchain.chains import RetrievalQA\n",
    "from langchain_community.vectorstores import FAISS # type: ignore\n",
    "from langchain_ollama import OllamaEmbeddings # type: ignore\n",
    "import warnings\n",
    "warnings.filterwarnings('ignore')"
   ]
  },
  {
   "cell_type": "code",
   "execution_count": 85,
   "metadata": {},
   "outputs": [],
   "source": [
    "os.environ[\"token\"] = \"Bearer token|123675a6-95f6-4fb7-bc95-30095472ae3a|02de311fd83421a7fd637bf34dc8f959caa29f39888d2919e4b9640a2220224b\"\n",
    "token = os.environ[\"token\"]"
   ]
  },
  {
   "cell_type": "code",
   "execution_count": null,
   "metadata": {},
   "outputs": [],
   "source": []
  },
  {
   "cell_type": "code",
   "execution_count": 86,
   "metadata": {},
   "outputs": [],
   "source": [
    "from typing import ClassVar\n",
    "\n",
    "parser = StrOutputParser()\n",
    "\n",
    "class LlamaLLM(LLM):\n",
    "    llm_url: ClassVar[str] = 'https://api.lab45.ai/v1.1/skills/completion/query'\n",
    "    \n",
    "    backend:        Optional[str]   = 'gpt-35-turbo-16k'\n",
    "    temp:           Optional[float] = 0.7\n",
    "    top_p:          Optional[float] = 0.1\n",
    "    top_k:          Optional[int]   = 40\n",
    "    n_batch:        Optional[int]   = 8\n",
    "    n_threads:      Optional[int]   = 4\n",
    "    n_predict:      Optional[int]   = 256\n",
    "    max_tokens:     Optional[int]   = 256\n",
    "    repeat_last_n:  Optional[int]   = 64\n",
    "    repeat_penalty: Optional[float] = 1.18\n",
    "\n",
    "    class Config:\n",
    "        extra = Extra.forbid\n",
    "\n",
    "    @property\n",
    "    def _llm_type(self) -> str:\n",
    "        return \"gpt-35-turbo-16k\"\n",
    "    \n",
    "    @property\n",
    "    def _get_model_default_parameters(self):\n",
    "        return {\n",
    "            \"max_tokens\": self.max_tokens,\n",
    "            #\"n_predict\": self.n_predict,\n",
    "            \"top_k\": self.top_k,\n",
    "            \"top_p\": self.top_p,\n",
    "            \"temperature\": self.temp,\n",
    "            #\"n_batch\": self.n_batch,\n",
    "            #\"repeat_penalty\": self.repeat_penalty,\n",
    "            #\"repeat_last_n\": self.repeat_last_n,\n",
    "        }\n",
    "\n",
    "    def _call(\n",
    "        self,\n",
    "        prompt: str,\n",
    "        user: str,\n",
    "        stop: Optional[List[str]] = None,\n",
    "        run_manager: Optional[CallbackManagerForLLMRun] = None,\n",
    "        **kwargs: Any,\n",
    "    ) -> str:\n",
    "        if stop is not None:\n",
    "            raise ValueError(\"stop kwargs are not permitted.\")\n",
    "\n",
    "        payload = {\n",
    "        \"messages\": [\n",
    "            {\n",
    "            \"content\": prompt,\n",
    "            \"role\": user\n",
    "            }\n",
    "        ],\n",
    "        \"skill_parameters\": {\n",
    "            \"model_name\": \"gpt-35-turbo-16k\",\n",
    "            \"max_output_tokens\": 4096,\n",
    "            \"temperature\": 0,\n",
    "            \"top_k\": 5\n",
    "        },\n",
    "        \"stream_response\": False\n",
    "        }\n",
    "\n",
    "        headers = {\"Content-Type\": \"application/json\",\"Authorization\": token}\n",
    "\n",
    "        response = requests.post(self.llm_url, json=payload, headers=headers, verify=False)\n",
    "        response.raise_for_status()\n",
    "\n",
    "        # print(\"API Response:\", response.json())\n",
    "\n",
    "        return response.json()  # get the response from the API\n",
    "\n",
    "    @property\n",
    "    def _identifying_params(self) -> Mapping[str, Any]:\n",
    "        \"\"\"Get the identifying parameters.\"\"\"\n",
    "        return {\n",
    "            \"llmUrl\": self.llm_url,\n",
    "            'model_parameters': self._get_model_default_parameters\n",
    "            }"
   ]
  },
  {
   "cell_type": "code",
   "execution_count": 87,
   "metadata": {},
   "outputs": [],
   "source": [
    "llm = LlamaLLM()"
   ]
  },
  {
   "cell_type": "code",
   "execution_count": 88,
   "metadata": {},
   "outputs": [],
   "source": [
    "skill1=\"Core Java L1\"\n",
    "skill2=\"Spring Boot L2\"\n",
    "skill3=\"Hibernate L3\"\n",
    "skill4=\"Selenium L4\"\n",
    "user = \"system\"\n",
    "prompt = \"\"\"As a skilled Technical Interview Panel with advanced knowledge in technology and data science, your role is to meticulously evaluate a employer job description and provide detailed job description having below points outlined.\n",
    "            Use the mentioned skills to generate the job description, where L1 means Beginner, L2 means Intermediate, L3 means Advanced, and L4 means Expert,\n",
    "            1. **Job Title and Summary**:\n",
    "            - \"What are the key responsibilities?\"\n",
    "            \n",
    "            2. **Key Responsibilities**:\n",
    "            - \"List the main duties and responsibilities.\"\n",
    "            - \"What are the daily tasks involved?\"\n",
    "\n",
    "            3. **Qualifications and Skills**:\n",
    "            - \"What qualifications are required?\"\n",
    "            - \"List the essential skills needed.\"\n",
    "\n",
    "            4. **Experience Requirements**:\n",
    "            - \"How many years of experience are needed?\"\n",
    "            - \"What type of previous experience is beneficial?\"\n",
    "\n",
    "            \"\"\" + skill1 + skill2 + skill3 + skill4"
   ]
  },
  {
   "cell_type": "code",
   "execution_count": 89,
   "metadata": {},
   "outputs": [
    {
     "data": {
      "text/plain": [
       "\"**Job Title and Summary**:\\nJob Title: Senior Java Developer\\nSummary: We are looking for a Senior Java Developer to join our team and be responsible for the development and maintenance of our Java-based applications. The ideal candidate should have a strong understanding of Core Java, Spring Boot, Hibernate, and Selenium.\\n\\n**Key Responsibilities**:\\n- Design, develop, and maintain Java-based applications\\n- Collaborate with cross-functional teams to define, design, and ship new features\\n- Troubleshoot, debug, and upgrade existing systems\\n- Write clean, efficient, and maintainable code\\n- Conduct software analysis, programming, testing, and debugging\\n- Participate in code reviews and provide constructive feedback\\n- Document and maintain software functionality\\n- Integrate software components and third-party programs\\n- Verify and deploy programs and systems\\n- Perform routine software maintenance\\n\\nDaily tasks involved:\\n- Writing and reviewing code\\n- Collaborating with team members\\n- Troubleshooting and debugging\\n- Testing and deploying software\\n- Documenting software functionality\\n\\n**Qualifications and Skills**:\\nQualifications:\\n- Bachelor's degree in Computer Science, Engineering, or a related field\\n\\nEssential skills:\\n- Strong understanding of Core Java\\n- Proficiency in Spring Boot\\n- Experience with Hibernate\\n- Expertise in Selenium\\n- Knowledge of software development best practices\\n- Familiarity with Agile methodologies\\n- Excellent problem-solving abilities\\n- Strong communication and teamwork skills\\n\\n**Experience Requirements**:\\n- 5+ years of experience in Java development\\n- Previous experience in developing and maintaining Java-based applications\\n- Experience with Spring Boot, Hibernate, and Selenium is beneficial\""
      ]
     },
     "execution_count": 89,
     "metadata": {},
     "output_type": "execute_result"
    }
   ],
   "source": [
    "#Testing\n",
    "#prompt = \"[INST] Question: Who is Albert Einstein? \\n Answer: [/INST]\"\n",
    "result = llm._call(prompt,user)\n",
    "parsed_result = result['data']['content'] # type: ignore\n",
    "parser.invoke(parsed_result)\n"
   ]
  },
  {
   "cell_type": "code",
   "execution_count": 93,
   "metadata": {},
   "outputs": [
    {
     "data": {
      "text/plain": [
       "\"**Job Title and Summary**:\\nJob Title: Senior Java Developer\\nSummary: We are looking for a Senior Java Developer to join our team and be responsible for the development and maintenance of our Java applications. The ideal candidate will have a strong understanding of Core Java, Spring Boot, Hibernate, and Selenium.\\n\\n**Key Responsibilities**:\\n- Design, develop, and maintain efficient, reusable, and reliable Java code\\n- Collaborate with cross-functional teams to define, design, and ship new features\\n- Identify bottlenecks and bugs, and devise solutions to these problems\\n- Help maintain code quality, organization, and automatization\\n- Daily tasks involve writing and reviewing code, debugging, and troubleshooting issues, and collaborating with team members to ensure project success\\n\\n**Qualifications and Skills**:\\n- Bachelor's degree in Computer Science or a related field\\n- Proven work experience as a Java Developer\\n- Strong understanding of Core Java, Spring Boot, Hibernate, and Selenium\\n- Experience with test-driven development\\n- Proficient understanding of code versioning tools, such as Git\\n- Excellent communication and teamwork skills\\n\\n**Experience Requirements**:\\n- 5+ years of experience in Java development\\n- Previous experience in developing and maintaining enterprise-level applications is beneficial\""
      ]
     },
     "execution_count": 93,
     "metadata": {},
     "output_type": "execute_result"
    }
   ],
   "source": [
    "prompt2 = \"Summarize it into 10 sentences keeping all the keeping all the key points and skills profiencies mentioned in the job description.\"\n",
    "result2 = llm._call(prompt,user)\n",
    "parsed_result2 = result2['data']['content'] # type: ignore\n",
    "parser.invoke(parsed_result2)"
   ]
  },
  {
   "cell_type": "code",
   "execution_count": null,
   "metadata": {},
   "outputs": [],
   "source": []
  },
  {
   "cell_type": "code",
   "execution_count": null,
   "metadata": {},
   "outputs": [],
   "source": []
  }
 ],
 "metadata": {
  "kernelspec": {
   "display_name": ".venv",
   "language": "python",
   "name": "python3"
  },
  "language_info": {
   "codemirror_mode": {
    "name": "ipython",
    "version": 3
   },
   "file_extension": ".py",
   "mimetype": "text/x-python",
   "name": "python",
   "nbconvert_exporter": "python",
   "pygments_lexer": "ipython3",
   "version": "3.11.0"
  }
 },
 "nbformat": 4,
 "nbformat_minor": 2
}
