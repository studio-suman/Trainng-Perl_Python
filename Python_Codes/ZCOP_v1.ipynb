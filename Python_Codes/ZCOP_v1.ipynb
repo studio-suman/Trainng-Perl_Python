{
 "cells": [
  {
   "cell_type": "code",
   "execution_count": 16,
   "metadata": {},
   "outputs": [
    {
     "name": "stdout",
     "output_type": "stream",
     "text": [
      "File Extracted!!\n",
      "File Output Done to CSV!!\n"
     ]
    }
   ],
   "source": [
    "import pandas as pd\n",
    "import numpy as np\n",
    "import openpyxl\n",
    "import pandas.io.formats.excel\n",
    "import sys\n",
    "import time\n",
    "import gzip\n",
    "import os, os.path\n",
    "import subprocess\n",
    "import shutil\n",
    "\n",
    "\n",
    "infile =  r\"C:\\Users\\HSASS\\OneDrive - Wipro\\Desktop\\ZCOP_REPORT_DAY.csv\" \n",
    "outfilew = r\"C:\\Users\\HSASS\\OneDrive - Wipro\\Suman\\Data\\Manju_Ranga_Reports\\Ad Hoc\\Zcop_Custom.xlsx\"\n",
    "outfiled = r\"C:\\Users\\HSASS\\OneDrive - Wipro\\Desktop\\Zcop_Custom.csv\" \n",
    "map_file = r\"C:\\Users\\HSASS\\OneDrive - Wipro\\Desktop\\SOW, Customer code mapping file-v1.1-9Dec20.xlsx\"\n",
    "\n",
    "stk_list = ['BFS','Canada','Citibank','ENU','Hi Tech','Mfg','Securities, Cap markets & Insurance']\n",
    "\n",
    "with gzip.open(r\"C:\\Users\\HSASS\\OneDrive - Wipro\\Desktop\\ZCOP Daily.csv.gz\", 'rb') as f_in:\n",
    "    with open(r\"C:\\Users\\HSASS\\OneDrive - Wipro\\Desktop\\ZCOP_REPORT_DAY.csv\", 'wb') as f_out:\n",
    "        shutil.copyfileobj(f_in, f_out)\n",
    "    print(\"File Extracted!!\")\n",
    "\n",
    "data = pd.read_csv(infile, engine='python',sep=',', quotechar='\"', error_bad_lines=False)\n",
    "\n",
    "\n",
    "#pd.io.formats.excel.header_style = None\n",
    "\n",
    "\n",
    "data = data.sort_values(by ='SAP_BU_DESC',ascending=True)\n",
    "\n",
    "\n",
    "mdata = pd.read_excel(map_file, sheet_name=\"Merged\")\n",
    "#print(mdata.head(5))\n",
    "#df = fdata\n",
    "fdata = data.merge(mdata, on = \"SOW_NO\", how='left') # adding data to same dataframe after merge\n",
    "#ddata = fdata[fdata['Sector/Country'].str.contains('stk_list')] # filtering non blank cells\n",
    "ddata = fdata[fdata['Sector/Country'].notnull()]\n",
    "\n",
    "ddata.to_csv(outfiled, index=False)\n",
    "print(\"File Output Done to CSV!!\")"
   ]
  },
  {
   "cell_type": "code",
   "execution_count": null,
   "metadata": {},
   "outputs": [],
   "source": []
  }
 ],
 "metadata": {
  "kernelspec": {
   "display_name": "Python 3",
   "language": "python",
   "name": "python3"
  },
  "language_info": {
   "codemirror_mode": {
    "name": "ipython",
    "version": 3
   },
   "file_extension": ".py",
   "mimetype": "text/x-python",
   "name": "python",
   "nbconvert_exporter": "python",
   "pygments_lexer": "ipython3",
   "version": "3.7.3"
  }
 },
 "nbformat": 4,
 "nbformat_minor": 2
}
