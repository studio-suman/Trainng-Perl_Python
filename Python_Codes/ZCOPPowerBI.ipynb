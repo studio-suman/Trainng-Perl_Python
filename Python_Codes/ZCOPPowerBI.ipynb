{
 "cells": [
  {
   "attachments": {},
   "cell_type": "markdown",
   "metadata": {},
   "source": [
    "### ZCOP Power BI Extractor"
   ]
  },
  {
   "cell_type": "code",
   "execution_count": 2,
   "metadata": {},
   "outputs": [],
   "source": [
    "import pandas as pd\n",
    "import time"
   ]
  },
  {
   "cell_type": "code",
   "execution_count": 2,
   "metadata": {},
   "outputs": [],
   "source": [
    "\n",
    "infile = r\"C:\\Users\\HSASS\\Downloads\\ZCOP Daily \"+ time.strftime(\"%d%b%y\") + \".csv\"\n",
    "skillFile = r\"C:\\Users\\HSASS\\Downloads\\Employee Skill Details.csv\"\n",
    "outfileZ =r\"C:\\Users\\HSASS\\OneDrive - Wipro\\Suman\\Data\\Manju_Ranga_Reports\\Power_BI Reports\\ZCOP\\ZCOP Daily \" + time.strftime(\"%d%b%y\") + \".csv\""
   ]
  },
  {
   "cell_type": "code",
   "execution_count": 3,
   "metadata": {},
   "outputs": [
    {
     "name": "stdout",
     "output_type": "stream",
     "text": [
      "Executed Successfully\n"
     ]
    }
   ],
   "source": [
    "data = pd.read_csv(infile, engine='python',sep=',', quotechar='\"')\n",
    "mapping = pd.read_csv(skillFile,usecols=[\"EMP_CODE\",\"PROJECT_ACQUIRED_SKILLS\",\"SR_MANDATORY_SKILL\"],engine='python',sep=',', quotechar='\"')[[\"EMP_CODE\",\"PROJECT_ACQUIRED_SKILLS\",\"SR_MANDATORY_SKILL\"]]\n",
    "final = data.merge(mapping, on='EMP_CODE', how='left')\n",
    "\n",
    "#writer = pd.ExcelWriter(outfileZ,engine ='xlsxwriter')  \n",
    "\n",
    "#final.to_excel(writer, sheet_name =\"ZCOP\",startcol = 0,startrow = 0, index = False)\n",
    "\n",
    "\"\"\" workbook = writer.book\n",
    "worksheet = writer.sheets[\"ZCOP\"]\n",
    "\"\"\"\n",
    "#writer.save() \n",
    "final.to_csv(outfileZ, index=False)\n",
    "\n",
    "print(\"Executed Successfully\")"
   ]
  }
 ],
 "metadata": {
  "kernelspec": {
   "display_name": "Python 3",
   "language": "python",
   "name": "python3"
  },
  "language_info": {
   "codemirror_mode": {
    "name": "ipython",
    "version": 3
   },
   "file_extension": ".py",
   "mimetype": "text/x-python",
   "name": "python",
   "nbconvert_exporter": "python",
   "pygments_lexer": "ipython3",
   "version": "3.11.0"
  },
  "orig_nbformat": 4
 },
 "nbformat": 4,
 "nbformat_minor": 2
}
