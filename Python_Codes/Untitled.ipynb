{
 "cells": [
  {
   "cell_type": "code",
   "execution_count": 1,
   "metadata": {},
   "outputs": [
    {
     "name": "stderr",
     "output_type": "stream",
     "text": [
      "The system cannot find the path specified.\n",
      "'jt' is not recognized as an internal or external command,\n",
      "operable program or batch file.\n"
     ]
    }
   ],
   "source": [
    "!jt -t jupyterlab_legos_ui"
   ]
  },
  {
   "cell_type": "code",
   "execution_count": null,
   "metadata": {},
   "outputs": [],
   "source": [
    "pip install jupyterlab_legos_ui"
   ]
  },
  {
   "cell_type": "code",
   "execution_count": null,
   "metadata": {},
   "outputs": [
    {
     "name": "stdout",
     "output_type": "stream",
     "text": [
      "Available Themes: \n",
      "   chesterish\n",
      "   grade3\n",
      "   gruvboxd\n",
      "   gruvboxl\n",
      "   monokai\n",
      "   oceans16\n",
      "   onedork\n",
      "   solarizedd\n",
      "   solarizedl\n"
     ]
    }
   ],
   "source": [
    "!jt -l"
   ]
  },
  {
   "cell_type": "code",
   "execution_count": null,
   "metadata": {},
   "outputs": [],
   "source": [
    "!jt -t chesterish -T -N -kl"
   ]
  },
  {
   "cell_type": "code",
   "execution_count": null,
   "metadata": {},
   "outputs": [
    {
     "name": "stdout",
     "output_type": "stream",
     "text": [
      "Collecting jupyter-tabnine\n",
      "  Downloading https://files.pythonhosted.org/packages/5a/0b/dab4b7b5cf0cc0f4776e0dfc23a4cd10d058eae69e613d66e1898991d18f/jupyter_tabnine-1.2.2-py2.py3-none-any.whl\n",
      "Requirement already satisfied: ipython in c:\\ananconda3\\lib\\site-packages (from jupyter-tabnine) (7.4.0)\n",
      "Requirement already satisfied: notebook>=4.2 in c:\\ananconda3\\lib\\site-packages (from jupyter-tabnine) (5.7.8)\n",
      "Requirement already satisfied: nbconvert in c:\\ananconda3\\lib\\site-packages (from jupyter-tabnine) (5.4.1)\n",
      "Requirement already satisfied: jupyter-core in c:\\ananconda3\\lib\\site-packages (from jupyter-tabnine) (4.4.0)\n",
      "Requirement already satisfied: pygments in c:\\ananconda3\\lib\\site-packages (from ipython->jupyter-tabnine) (2.3.1)\n",
      "Requirement already satisfied: prompt-toolkit<2.1.0,>=2.0.0 in c:\\ananconda3\\lib\\site-packages (from ipython->jupyter-tabnine) (2.0.9)\n",
      "Requirement already satisfied: pickleshare in c:\\ananconda3\\lib\\site-packages (from ipython->jupyter-tabnine) (0.7.5)\n",
      "Requirement already satisfied: setuptools>=18.5 in c:\\ananconda3\\lib\\site-packages (from ipython->jupyter-tabnine) (52.0.0)\n",
      "Requirement already satisfied: backcall in c:\\ananconda3\\lib\\site-packages (from ipython->jupyter-tabnine) (0.1.0)\n",
      "Requirement already satisfied: colorama; sys_platform == \"win32\" in c:\\ananconda3\\lib\\site-packages (from ipython->jupyter-tabnine) (0.4.1)\n",
      "Requirement already satisfied: traitlets>=4.2 in c:\\ananconda3\\lib\\site-packages (from ipython->jupyter-tabnine) (4.3.2)\n",
      "Requirement already satisfied: decorator in c:\\ananconda3\\lib\\site-packages (from ipython->jupyter-tabnine) (4.4.0)\n",
      "Requirement already satisfied: jedi>=0.10 in c:\\ananconda3\\lib\\site-packages (from ipython->jupyter-tabnine) (0.13.3)\n",
      "Requirement already satisfied: nbformat in c:\\ananconda3\\lib\\site-packages (from notebook>=4.2->jupyter-tabnine) (4.4.0)\n",
      "Requirement already satisfied: jinja2 in c:\\ananconda3\\lib\\site-packages (from notebook>=4.2->jupyter-tabnine) (2.10)\n",
      "Requirement already satisfied: tornado<7,>=4.1 in c:\\ananconda3\\lib\\site-packages (from notebook>=4.2->jupyter-tabnine) (6.1)\n",
      "Requirement already satisfied: jupyter-client>=5.2.0 in c:\\ananconda3\\lib\\site-packages (from notebook>=4.2->jupyter-tabnine) (5.2.4)\n",
      "Requirement already satisfied: prometheus-client in c:\\ananconda3\\lib\\site-packages (from notebook>=4.2->jupyter-tabnine) (0.8.0)\n",
      "Requirement already satisfied: ipykernel in c:\\ananconda3\\lib\\site-packages (from notebook>=4.2->jupyter-tabnine) (5.1.0)\n",
      "Requirement already satisfied: pyzmq>=17 in c:\\ananconda3\\lib\\site-packages (from notebook>=4.2->jupyter-tabnine) (18.0.0)\n",
      "Requirement already satisfied: ipython-genutils in c:\\ananconda3\\lib\\site-packages (from notebook>=4.2->jupyter-tabnine) (0.2.0)\n",
      "Requirement already satisfied: terminado>=0.8.1 in c:\\ananconda3\\lib\\site-packages (from notebook>=4.2->jupyter-tabnine) (0.8.1)\n",
      "Requirement already satisfied: Send2Trash in c:\\ananconda3\\lib\\site-packages (from notebook>=4.2->jupyter-tabnine) (1.5.0)\n",
      "Requirement already satisfied: mistune>=0.8.1 in c:\\ananconda3\\lib\\site-packages (from nbconvert->jupyter-tabnine) (0.8.4)\n",
      "Requirement already satisfied: entrypoints>=0.2.2 in c:\\ananconda3\\lib\\site-packages (from nbconvert->jupyter-tabnine) (0.3)\n",
      "Requirement already satisfied: bleach in c:\\ananconda3\\lib\\site-packages (from nbconvert->jupyter-tabnine) (3.1.0)\n",
      "Requirement already satisfied: pandocfilters>=1.4.1 in c:\\ananconda3\\lib\\site-packages (from nbconvert->jupyter-tabnine) (1.4.2)\n",
      "Requirement already satisfied: testpath in c:\\ananconda3\\lib\\site-packages (from nbconvert->jupyter-tabnine) (0.4.2)\n",
      "Requirement already satisfied: defusedxml in c:\\ananconda3\\lib\\site-packages (from nbconvert->jupyter-tabnine) (0.5.0)\n",
      "Requirement already satisfied: wcwidth in c:\\ananconda3\\lib\\site-packages (from prompt-toolkit<2.1.0,>=2.0.0->ipython->jupyter-tabnine) (0.1.7)\n",
      "Requirement already satisfied: six>=1.9.0 in c:\\ananconda3\\lib\\site-packages (from prompt-toolkit<2.1.0,>=2.0.0->ipython->jupyter-tabnine) (1.15.0)\n",
      "Requirement already satisfied: parso>=0.3.0 in c:\\ananconda3\\lib\\site-packages (from jedi>=0.10->ipython->jupyter-tabnine) (0.3.4)\n",
      "Requirement already satisfied: jsonschema!=2.5.0,>=2.4 in c:\\ananconda3\\lib\\site-packages (from nbformat->notebook>=4.2->jupyter-tabnine) (3.0.1)\n",
      "Requirement already satisfied: MarkupSafe>=0.23 in c:\\ananconda3\\lib\\site-packages (from jinja2->notebook>=4.2->jupyter-tabnine) (1.1.1)\n",
      "Requirement already satisfied: python-dateutil>=2.1 in c:\\ananconda3\\lib\\site-packages (from jupyter-client>=5.2.0->notebook>=4.2->jupyter-tabnine) (2.8.0)\n",
      "Requirement already satisfied: webencodings in c:\\ananconda3\\lib\\site-packages (from bleach->nbconvert->jupyter-tabnine) (0.5.1)\n",
      "Requirement already satisfied: attrs>=17.4.0 in c:\\ananconda3\\lib\\site-packages (from jsonschema!=2.5.0,>=2.4->nbformat->notebook>=4.2->jupyter-tabnine) (19.1.0)\n",
      "Requirement already satisfied: pyrsistent>=0.14.0 in c:\\ananconda3\\lib\\site-packages (from jsonschema!=2.5.0,>=2.4->nbformat->notebook>=4.2->jupyter-tabnine) (0.14.11)\n",
      "Installing collected packages: jupyter-tabnine\n",
      "Successfully installed jupyter-tabnine-1.2.2\n"
     ]
    },
    {
     "name": "stderr",
     "output_type": "stream",
     "text": [
      "Installing C:\\Ananconda3\\lib\\site-packages\\jupyter_tabnine\\static -> jupyter_tabnine\n",
      "Making directory: C:\\ProgramData\\jupyter\\nbextensions\\jupyter_tabnine\\\n",
      "Copying: C:\\Ananconda3\\lib\\site-packages\\jupyter_tabnine\\static\\main.css -> C:\\ProgramData\\jupyter\\nbextensions\\jupyter_tabnine\\main.css\n",
      "Copying: C:\\Ananconda3\\lib\\site-packages\\jupyter_tabnine\\static\\main.js -> C:\\ProgramData\\jupyter\\nbextensions\\jupyter_tabnine\\main.js\n",
      "Copying: C:\\Ananconda3\\lib\\site-packages\\jupyter_tabnine\\static\\README.md -> C:\\ProgramData\\jupyter\\nbextensions\\jupyter_tabnine\\README.md\n",
      "Copying: C:\\Ananconda3\\lib\\site-packages\\jupyter_tabnine\\static\\tabnine.yaml -> C:\\ProgramData\\jupyter\\nbextensions\\jupyter_tabnine\\tabnine.yaml\n",
      "- Validating: ok\n",
      "\n",
      "    To initialize this nbextension in the browser every time the notebook (or other app) loads:\n",
      "    \n",
      "          jupyter nbextension enable jupyter_tabnine --py\n",
      "    \n",
      "Enabling notebook extension jupyter_tabnine/main...\n",
      "      - Validating: ok\n",
      "Enabling: jupyter_tabnine\n",
      "- Writing config: C:\\Users\\HSASS\\.jupyter\n",
      "    - Validating...\n",
      "      jupyter_tabnine  ok\n"
     ]
    }
   ],
   "source": [
    "!pip install jupyter-tabnine\n",
    "!jupyter nbextension install --py jupyter_tabnine\n",
    "!jupyter nbextension enable --py jupyter_tabnine\n",
    "!jupyter serverextension enable --py jupyter_tabnine"
   ]
  },
  {
   "cell_type": "code",
   "execution_count": null,
   "metadata": {},
   "outputs": [
    {
     "ename": "NameError",
     "evalue": "name 'iven' is not defined",
     "output_type": "error",
     "traceback": [
      "\u001b[1;31m---------------------------------------------------------------------------\u001b[0m",
      "\u001b[1;31mNameError\u001b[0m                                 Traceback (most recent call last)",
      "\u001b[1;32m<ipython-input-3-f879cbddf7fd>\u001b[0m in \u001b[0;36m<module>\u001b[1;34m\u001b[0m\n\u001b[1;32m----> 1\u001b[1;33m \u001b[0miven\u001b[0m\u001b[1;33m\u001b[0m\u001b[1;33m\u001b[0m\u001b[0m\n\u001b[0m\u001b[0;32m      2\u001b[0m \u001b[0mL\u001b[0m\u001b[1;33m=\u001b[0m\u001b[1;33m[\u001b[0m\u001b[1;36m1\u001b[0m\u001b[1;33m,\u001b[0m\u001b[1;36m2\u001b[0m\u001b[1;33m,\u001b[0m\u001b[1;36m3\u001b[0m\u001b[1;33m,\u001b[0m\u001b[1;36m4\u001b[0m\u001b[1;33m,\u001b[0m\u001b[1;36m5\u001b[0m\u001b[1;33m]\u001b[0m\u001b[1;33m\u001b[0m\u001b[1;33m\u001b[0m\u001b[0m\n",
      "\u001b[1;31mNameError\u001b[0m: name 'iven' is not defined"
     ]
    }
   ],
   "source": [
    "iven\n",
    "L=[1,2,3,4,5]"
   ]
  },
  {
   "cell_type": "code",
   "execution_count": null,
   "metadata": {},
   "outputs": [],
   "source": [
    "import pandas as pd\n",
    "\n",
    "print(\"hello world\")"
   ]
  }
 ],
 "metadata": {
  "kernelspec": {
   "display_name": ".venv",
   "language": "python",
   "name": "python3"
  },
  "language_info": {
   "codemirror_mode": {
    "name": "ipython",
    "version": 3
   },
   "file_extension": ".py",
   "mimetype": "text/x-python",
   "name": "python",
   "nbconvert_exporter": "python",
   "pygments_lexer": "ipython3",
   "version": "3.11.0"
  }
 },
 "nbformat": 4,
 "nbformat_minor": 2
}
